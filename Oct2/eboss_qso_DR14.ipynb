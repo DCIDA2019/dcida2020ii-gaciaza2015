{
 "cells": [
  {
   "cell_type": "code",
   "execution_count": 2,
   "metadata": {},
   "outputs": [],
   "source": [
    "import os\n",
    "import sys\n",
    "import numpy as np\n",
    "import matplotlib.pyplot as plt\n",
    "import urllib.request\n",
    "from astropy.io import fits as pyfits\n",
    "from astropy.table import Table"
   ]
  },
  {
   "cell_type": "markdown",
   "metadata": {},
   "source": [
    "# Access eBOSS quasars data\n",
    "\n",
    "In this notebook we show a simple way to retrive a small amount of data from the SDSS repository and explore what is those.  We might use this data in future classes, for now we will only explore them, and maybe do some plots...\n",
    "\n",
    "(Adapted from the one originally made for MACSS 2019)\n",
    "\n",
    "## PART 1: Get the data\n",
    "\n",
    "You will need to download:\n",
    "    - The quasar catalog https://data.sdss.org/sas/dr14/eboss/qso/DR14Q/  (~1Gb)\n",
    "    - The spPlates files as many as required for the sample we will define later... but be careful and dot download everything as it is ~300Gb. \n",
    "    \n",
    "You can download the files directly from https://data.sdss.org/sas/dr14/eboss/qso/DR14Q/  and https://data.sdss.org/sas/dr14/eboss/spectro/redux/v5_10_0/  digging in each plate directory. Or follow the notebook... "
   ]
  },
  {
   "cell_type": "code",
   "execution_count": 3,
   "metadata": {},
   "outputs": [],
   "source": [
    "#Define the URL for the data to download and the filename as well as the local directory where to be saved.  \n",
    "DATA_URL=\"https://data.sdss.org/sas/dr14/eboss/qso/DR14Q/\"\n",
    "file=\"DR14Q_v4_4.fits\"\n",
    "local_dir=\"./\"\n",
    "local_file = os.path.join(local_dir,file)"
   ]
  },
  {
   "cell_type": "code",
   "execution_count": 4,
   "metadata": {},
   "outputs": [
    {
     "name": "stdout",
     "output_type": "stream",
     "text": [
      "downloading DR14 quasar dataset from https://data.sdss.org/sas/dr14/eboss/qso/DR14Q/DR14Q_v4_4.fits to ./DR14Q_v4_4.fits\n",
      "Downloaded file./DR14Q_v4_4.fits\n"
     ]
    }
   ],
   "source": [
    "#Simple instructions to download the catalog, it checks it don't exist...\n",
    "#It can take a while so don't desperate.\n",
    "\n",
    "if not os.path.exists(file):\n",
    "        print(\"downloading DR14 quasar dataset from %s to %s\"\n",
    "              % (DATA_URL+file, local_file ))\n",
    "        tmp = urllib.request.urlretrieve(DATA_URL+local_file, local_file)\n",
    "        print (\"Downloaded file\"+local_file)\n",
    "else:\n",
    "    print(\"%s already exist\"%(local_file))\n"
   ]
  },
  {
   "cell_type": "markdown",
   "metadata": {},
   "source": [
    " We have downloaded the qso catalog, but since it contains so many objects it is not viable we work with it in our laptops, so lets make a selection.  First lets load the catalog and see its content"
   ]
  },
  {
   "cell_type": "code",
   "execution_count": 5,
   "metadata": {},
   "outputs": [
    {
     "name": "stderr",
     "output_type": "stream",
     "text": [
      "WARNING: UnitsWarning: 'erg/s/cm2' contains multiple slashes, which is discouraged by the FITS standard [astropy.units.format.generic]\n",
      "WARNING: UnitsWarning: 'W/m2/Hz' contains multiple slashes, which is discouraged by the FITS standard [astropy.units.format.generic]\n"
     ]
    },
    {
     "data": {
      "text/plain": [
       "['SDSS_NAME',\n",
       " 'RA',\n",
       " 'DEC',\n",
       " 'THING_ID',\n",
       " 'PLATE',\n",
       " 'MJD',\n",
       " 'FIBERID',\n",
       " 'SPECTRO',\n",
       " 'Z',\n",
       " 'Z_ERR',\n",
       " 'SOURCE_Z',\n",
       " 'Z_VI',\n",
       " 'Z_PIPE',\n",
       " 'Z_PIPE_ERR',\n",
       " 'ZWARNING',\n",
       " 'Z_PCA',\n",
       " 'Z_PCA_ER',\n",
       " 'Z_MGII',\n",
       " 'BOSS_TARGET1',\n",
       " 'ANCILLARY_TARGET1',\n",
       " 'ANCILLARY_TARGET2',\n",
       " 'EBOSS_TARGET0',\n",
       " 'EBOSS_TARGET1',\n",
       " 'EBOSS_TARGET2',\n",
       " 'N_SPEC_SDSS',\n",
       " 'N_SPEC_BOSS',\n",
       " 'N_SPEC',\n",
       " 'PLATE_DUPLICATE',\n",
       " 'MJD_DUPLICATE',\n",
       " 'FIBERID_DUPLICATE',\n",
       " 'SPECTRO_DUPLICATE',\n",
       " 'BI_CIV',\n",
       " 'ERR_BI_CIV',\n",
       " 'RUN_NUMBER',\n",
       " 'RERUN_NUMBER',\n",
       " 'COL_NUMBER',\n",
       " 'FIELD_NUMBER',\n",
       " 'OBJ_ID',\n",
       " 'PSFFLUX',\n",
       " 'IVAR_PSFFLUX',\n",
       " 'PSFMAG',\n",
       " 'ERR_PSFMAG',\n",
       " 'MI',\n",
       " 'GAL_EXT',\n",
       " 'RASS_COUNTS',\n",
       " 'RASS_COUNTS_SNR',\n",
       " 'SDSS2ROSAT_SEP',\n",
       " 'FLUX_0.2_2.0keV',\n",
       " 'FLUX_0.2_2.0keV_ERR',\n",
       " 'FLUX_2.0_12.0keV',\n",
       " 'FLUX_2.0_12.0keV_ERR',\n",
       " 'FLUX_0.2_12.0keV',\n",
       " 'FLUX_0.2_12.0keV_ERR',\n",
       " 'LUM_0.2_12.0keV',\n",
       " 'SDSS2XMM_SEP',\n",
       " 'GALEX_MATCHED',\n",
       " 'FUV',\n",
       " 'FUV_IVAR',\n",
       " 'NUV',\n",
       " 'NUV_IVAR',\n",
       " 'JMAG',\n",
       " 'ERR_JMAG',\n",
       " 'JSNR',\n",
       " 'JRDFLAG',\n",
       " 'HMAG',\n",
       " 'ERR_HMAG',\n",
       " 'HSNR',\n",
       " 'HRDFLAG',\n",
       " 'KMAG',\n",
       " 'ERR_KMAG',\n",
       " 'KSNR',\n",
       " 'KRDFLAG',\n",
       " 'SDSS2MASS_SEP',\n",
       " 'W1MAG',\n",
       " 'ERR_W1MAG',\n",
       " 'W1SNR',\n",
       " 'W1CHI2',\n",
       " 'W2MAG',\n",
       " 'ERR_W2MAG',\n",
       " 'W2SNR',\n",
       " 'W2CHI2',\n",
       " 'W3MAG',\n",
       " 'ERR_W3MAG',\n",
       " 'W3SNR',\n",
       " 'W3CHI2',\n",
       " 'W4MAG',\n",
       " 'ERR_W4MAG',\n",
       " 'W4SNR',\n",
       " 'W4CHI2',\n",
       " 'CC_FLAGS',\n",
       " 'PH_FLAGS',\n",
       " 'SDSS2WISE_SEP',\n",
       " 'UKIDSS_MATCHED',\n",
       " 'YFLUX',\n",
       " 'YFLUX_ERR',\n",
       " 'JFLUX',\n",
       " 'JFLUX_ERR',\n",
       " 'HFLUX',\n",
       " 'HFLUX_ERR',\n",
       " 'KFLUX',\n",
       " 'KFLUX_ERR',\n",
       " 'FIRST_MATCHED',\n",
       " 'FIRST_FLUX',\n",
       " 'FIRST_SNR',\n",
       " 'SDSS2FIRST_SEP']"
      ]
     },
     "execution_count": 5,
     "metadata": {},
     "output_type": "execute_result"
    }
   ],
   "source": [
    "catalog=Table.read('DR14Q_v4_4.fits')\n",
    "catalog.colnames"
   ]
  },
  {
   "cell_type": "code",
   "execution_count": 6,
   "metadata": {},
   "outputs": [
    {
     "data": {
      "text/html": [
       "<i>Table length=526356</i>\n",
       "<table id=\"table140386714245008\" class=\"table-striped table-bordered table-condensed\">\n",
       "<thead><tr><th>SDSS_NAME</th><th>RA</th><th>DEC</th><th>THING_ID</th><th>PLATE</th><th>MJD</th><th>FIBERID</th><th>SPECTRO</th><th>Z</th><th>Z_ERR</th><th>SOURCE_Z</th><th>Z_VI</th><th>Z_PIPE</th><th>Z_PIPE_ERR</th><th>ZWARNING</th><th>Z_PCA</th><th>Z_PCA_ER</th><th>Z_MGII</th><th>BOSS_TARGET1</th><th>ANCILLARY_TARGET1</th><th>ANCILLARY_TARGET2</th><th>EBOSS_TARGET0</th><th>EBOSS_TARGET1</th><th>EBOSS_TARGET2</th><th>N_SPEC_SDSS</th><th>N_SPEC_BOSS</th><th>N_SPEC</th><th>PLATE_DUPLICATE [51]</th><th>MJD_DUPLICATE [51]</th><th>FIBERID_DUPLICATE [51]</th><th>SPECTRO_DUPLICATE [51]</th><th>BI_CIV</th><th>ERR_BI_CIV</th><th>RUN_NUMBER</th><th>RERUN_NUMBER</th><th>COL_NUMBER</th><th>FIELD_NUMBER</th><th>OBJ_ID</th><th>PSFFLUX [5]</th><th>IVAR_PSFFLUX [5]</th><th>PSFMAG [5]</th><th>ERR_PSFMAG [5]</th><th>MI</th><th>GAL_EXT [5]</th><th>RASS_COUNTS</th><th>RASS_COUNTS_SNR</th><th>SDSS2ROSAT_SEP</th><th>FLUX_0.2_2.0keV</th><th>FLUX_0.2_2.0keV_ERR</th><th>FLUX_2.0_12.0keV</th><th>FLUX_2.0_12.0keV_ERR</th><th>FLUX_0.2_12.0keV</th><th>FLUX_0.2_12.0keV_ERR</th><th>LUM_0.2_12.0keV</th><th>SDSS2XMM_SEP</th><th>GALEX_MATCHED</th><th>FUV</th><th>FUV_IVAR</th><th>NUV</th><th>NUV_IVAR</th><th>JMAG</th><th>ERR_JMAG</th><th>JSNR</th><th>JRDFLAG</th><th>HMAG</th><th>ERR_HMAG</th><th>HSNR</th><th>HRDFLAG</th><th>KMAG</th><th>ERR_KMAG</th><th>KSNR</th><th>KRDFLAG</th><th>SDSS2MASS_SEP</th><th>W1MAG</th><th>ERR_W1MAG</th><th>W1SNR</th><th>W1CHI2</th><th>W2MAG</th><th>ERR_W2MAG</th><th>W2SNR</th><th>W2CHI2</th><th>W3MAG</th><th>ERR_W3MAG</th><th>W3SNR</th><th>W3CHI2</th><th>W4MAG</th><th>ERR_W4MAG</th><th>W4SNR</th><th>W4CHI2</th><th>CC_FLAGS</th><th>PH_FLAGS</th><th>SDSS2WISE_SEP</th><th>UKIDSS_MATCHED</th><th>YFLUX</th><th>YFLUX_ERR</th><th>JFLUX</th><th>JFLUX_ERR</th><th>HFLUX</th><th>HFLUX_ERR</th><th>KFLUX</th><th>KFLUX_ERR</th><th>FIRST_MATCHED</th><th>FIRST_FLUX</th><th>FIRST_SNR</th><th>SDSS2FIRST_SEP</th></tr></thead>\n",
       "<thead><tr><th>-</th><th>deg</th><th>deg</th><th>-</th><th>-</th><th>-</th><th>-</th><th>-</th><th>-</th><th>-</th><th>-</th><th>-</th><th>-</th><th>-</th><th>-</th><th>-</th><th>-</th><th>-</th><th>-</th><th>-</th><th>-</th><th>-</th><th>-</th><th>-</th><th>-</th><th>-</th><th>-</th><th>-</th><th>-</th><th>-</th><th>-</th><th>km / s</th><th>km / s</th><th>-</th><th>-</th><th>-</th><th>-</th><th>-</th><th>nanomaggies</th><th>-</th><th>mag</th><th>mag</th><th>-</th><th>mag</th><th>counts/s</th><th>-</th><th>arcsec</th><th>erg / (cm2 s)</th><th>erg / (cm2 s)</th><th>erg / (cm2 s)</th><th>erg / (cm2 s)</th><th>erg / (cm2 s)</th><th>erg / (cm2 s)</th><th>erg / s</th><th>arcsec</th><th>-</th><th>-</th><th>-</th><th>-</th><th>-</th><th>Vega</th><th>Vega</th><th>-</th><th>-</th><th>Vega</th><th>Vega</th><th>-</th><th>-</th><th>Vega</th><th>Vega</th><th>-</th><th>-</th><th>arcsec</th><th>-</th><th>-</th><th>-</th><th>-</th><th>-</th><th>-</th><th>-</th><th>-</th><th>-</th><th>-</th><th>-</th><th>-</th><th>-</th><th>-</th><th>-</th><th>-</th><th>-</th><th>-</th><th>arcsec</th><th>-</th><th>W / (Hz m2)</th><th>W / (Hz m2)</th><th>W / (Hz m2)</th><th>W / (Hz m2)</th><th>W / (Hz m2)</th><th>W / (Hz m2)</th><th>W / (Hz m2)</th><th>W / (Hz m2)</th><th>-</th><th>mJy</th><th>-</th><th>arcsec</th></tr></thead>\n",
       "<thead><tr><th>bytes18</th><th>float64</th><th>float64</th><th>int32</th><th>int16</th><th>int32</th><th>int16</th><th>bytes4</th><th>float64</th><th>float64</th><th>bytes4</th><th>float64</th><th>float64</th><th>float64</th><th>int16</th><th>float64</th><th>float64</th><th>float64</th><th>int64</th><th>int64</th><th>int64</th><th>int64</th><th>int64</th><th>int64</th><th>int16</th><th>int16</th><th>int16</th><th>int32</th><th>int32</th><th>int32</th><th>bytes1</th><th>float64</th><th>float64</th><th>int16</th><th>bytes1</th><th>int16</th><th>int16</th><th>bytes1</th><th>float64</th><th>float64</th><th>float64</th><th>float64</th><th>float64</th><th>float64</th><th>float64</th><th>float64</th><th>float64</th><th>float64</th><th>float64</th><th>float64</th><th>float64</th><th>float64</th><th>float64</th><th>float64</th><th>float64</th><th>float32</th><th>float64</th><th>float64</th><th>float64</th><th>float64</th><th>float64</th><th>float64</th><th>float32</th><th>int16</th><th>float64</th><th>float64</th><th>float32</th><th>int16</th><th>float64</th><th>float64</th><th>float32</th><th>int16</th><th>float64</th><th>float64</th><th>float64</th><th>float64</th><th>float64</th><th>float64</th><th>float64</th><th>float64</th><th>float64</th><th>float64</th><th>float64</th><th>float64</th><th>float64</th><th>float64</th><th>float64</th><th>float64</th><th>float64</th><th>bytes4</th><th>bytes4</th><th>float64</th><th>float32</th><th>float64</th><th>float64</th><th>float64</th><th>float64</th><th>float64</th><th>float64</th><th>float64</th><th>float64</th><th>int16</th><th>float64</th><th>float64</th><th>float64</th></tr></thead>\n",
       "<tr><td>000000.45+174625.4</td><td>0.001898274356335605</td><td>17.773739123771385</td><td>268270422</td><td>7596</td><td>56945</td><td>162</td><td>BOSS</td><td>2.309</td><td>0.0</td><td>VI</td><td>2.309000015258789</td><td>2.307750701904297</td><td>0.0010300044668838382</td><td>0</td><td>2.3045657000000004</td><td>-1.0</td><td>-1.0</td><td>0</td><td>0</td><td>0</td><td>0</td><td>4096</td><td>0</td><td>0</td><td>1</td><td>1</td><td>0 .. -1</td><td>0 .. -1</td><td>0 .. -1</td><td>- .. -</td><td>0.0</td><td>0.0</td><td>0</td><td>-</td><td>0</td><td>0</td><td>-</td><td>1.0379366874694824 .. 2.631136417388916</td><td>12.372532844543457 .. 0.8706143498420715</td><td>22.440338134765625 .. 21.372461318969727</td><td>0.2871243953704834 .. 0.38545534014701843</td><td>-24.410782</td><td>0.12021728605031967 .. 0.03581845760345459</td><td>0.0</td><td>0.0</td><td>-1.0</td><td>nan</td><td>nan</td><td>nan</td><td>nan</td><td>nan</td><td>nan</td><td>nan</td><td>nan</td><td>1.0</td><td>0.30231887102127075</td><td>8.785573140381722</td><td>0.7275648713111877</td><td>4.537358964921044</td><td>nan</td><td>nan</td><td>nan</td><td>-1</td><td>nan</td><td>nan</td><td>nan</td><td>-1</td><td>nan</td><td>nan</td><td>nan</td><td>-1</td><td>nan</td><td>nan</td><td>nan</td><td>nan</td><td>nan</td><td>nan</td><td>nan</td><td>nan</td><td>nan</td><td>nan</td><td>nan</td><td>nan</td><td>nan</td><td>nan</td><td>nan</td><td>nan</td><td>nan</td><td></td><td></td><td>nan</td><td>0.0</td><td>0.0</td><td>0.0</td><td>0.0</td><td>0.0</td><td>0.0</td><td>0.0</td><td>0.0</td><td>0.0</td><td>-1</td><td>-1.0</td><td>-1.0</td><td>-1.0</td></tr>\n",
       "<tr><td>000000.57+055630.8</td><td>0.0023754761888312714</td><td>5.941903005523435</td><td>163544156</td><td>8740</td><td>57367</td><td>694</td><td>BOSS</td><td>2.1031202999999996</td><td>0.0</td><td>AUTO</td><td>-1.0</td><td>2.1031203269958496</td><td>0.0009241577354259787</td><td>0</td><td>2.0996384999999997</td><td>2.0983490000000002</td><td>2.0983490000000002</td><td>0</td><td>0</td><td>0</td><td>0</td><td>2048</td><td>0</td><td>0</td><td>0</td><td>0</td><td>-1 .. -1</td><td>-1 .. -1</td><td>-1 .. -1</td><td>- .. -</td><td>0.0</td><td>0.0</td><td>0</td><td>-</td><td>0</td><td>0</td><td>-</td><td>1.1197296380996704 .. 4.730101585388184</td><td>9.196866035461426 .. 0.8192309737205505</td><td>22.360628128051758 .. 20.78717613220215</td><td>0.3101848363876343 .. 0.2420300394296646</td><td>-24.732</td><td>0.2338263988494873 .. 0.06966802477836609</td><td>0.0</td><td>0.0</td><td>-1.0</td><td>nan</td><td>nan</td><td>nan</td><td>nan</td><td>nan</td><td>nan</td><td>nan</td><td>nan</td><td>1.0</td><td>0.0</td><td>0.0</td><td>0.0</td><td>0.0</td><td>nan</td><td>nan</td><td>nan</td><td>-1</td><td>nan</td><td>nan</td><td>nan</td><td>-1</td><td>nan</td><td>nan</td><td>nan</td><td>-1</td><td>nan</td><td>16.969</td><td>0.127</td><td>8.5</td><td>0.9904</td><td>16.887999999999998</td><td>0.409</td><td>2.700000047683716</td><td>1.004</td><td>11.861</td><td>nan</td><td>1.399999976158142</td><td>0.9819</td><td>8.604</td><td>0.127</td><td>0.699999988079071</td><td>0.9478</td><td>hH00</td><td>BCUU</td><td>0.706171</td><td>1.0</td><td>1.2885136657753169e-31</td><td>2.4790984841010035e-32</td><td>1.229889058862803e-31</td><td>4.504542253745802e-32</td><td>1.496424644649041e-31</td><td>4.7290496259357616e-32</td><td>2.4598190249290145e-31</td><td>5.689571920868372e-32</td><td>0</td><td>-1.0</td><td>-1.0</td><td>-1.0</td></tr>\n",
       "<tr><td>000000.66+145828.8</td><td>0.002756432550313548</td><td>14.974675485824303</td><td>244864389</td><td>6177</td><td>56268</td><td>595</td><td>BOSS</td><td>2.497</td><td>0.0</td><td>VI</td><td>2.496999979019165</td><td>2.49796199798584</td><td>0.0008690897957421839</td><td>0</td><td>2.5099661</td><td>-1.0</td><td>-1.0</td><td>2199023255552</td><td>0</td><td>0</td><td>0</td><td>0</td><td>0</td><td>0</td><td>1</td><td>1</td><td>0 .. -1</td><td>0 .. -1</td><td>0 .. -1</td><td>- .. -</td><td>0.0</td><td>0.0</td><td>0</td><td>-</td><td>0</td><td>0</td><td>-</td><td>1.660184383392334 .. 5.348500728607178</td><td>15.485949516296387 .. 0.861799418926239</td><td>21.94196891784668 .. 20.659208297729492</td><td>0.16387343406677246 .. 0.21075020730495453</td><td>-25.664871</td><td>0.16341499984264374 .. 0.048689112067222595</td><td>0.0</td><td>0.0</td><td>-1.0</td><td>nan</td><td>nan</td><td>nan</td><td>nan</td><td>nan</td><td>nan</td><td>nan</td><td>nan</td><td>1.0</td><td>0.04631861299276352</td><td>701.1042837308206</td><td>0.05252976343035698</td><td>384.75096219826605</td><td>nan</td><td>nan</td><td>nan</td><td>-1</td><td>nan</td><td>nan</td><td>nan</td><td>-1</td><td>nan</td><td>nan</td><td>nan</td><td>-1</td><td>nan</td><td>17.5</td><td>0.185</td><td>5.900000095367432</td><td>0.9299</td><td>16.206</td><td>0.211</td><td>5.199999809265137</td><td>0.8249</td><td>12.321</td><td>nan</td><td>0.30000001192092896</td><td>1.149</td><td>8.51</td><td>0.185</td><td>0.699999988079071</td><td>1.036</td><td>0000</td><td>BBUU</td><td>0.495515</td><td>1.0</td><td>1.8603829687921641e-31</td><td>3.147684406018196e-32</td><td>2.310947837572515e-31</td><td>4.565332356351401e-32</td><td>2.355314285756731e-31</td><td>5.970480393631547e-32</td><td>2.427149215733221e-31</td><td>6.521724355219432e-32</td><td>0</td><td>-1.0</td><td>-1.0</td><td>-1.0</td></tr>\n",
       "<tr><td>000000.97+044947.2</td><td>0.004052389452795069</td><td>4.829780562529699</td><td>154078229</td><td>4415</td><td>55831</td><td>464</td><td>BOSS</td><td>1.619</td><td>0.0</td><td>VI</td><td>1.61899995803833</td><td>1.6172041893005369</td><td>0.00048571047955192636</td><td>0</td><td>1.6273098</td><td>1.6304535</td><td>1.6304535</td><td>2199023910912</td><td>0</td><td>0</td><td>0</td><td>0</td><td>0</td><td>0</td><td>0</td><td>0</td><td>-1 .. -1</td><td>-1 .. -1</td><td>-1 .. -1</td><td>- .. -</td><td>0.0</td><td>0.0</td><td>0</td><td>-</td><td>0</td><td>0</td><td>-</td><td>6.689760208129883 .. 19.600666046142578</td><td>7.062735080718994 .. 0.5412449240684509</td><td>20.435998916625977 .. 19.267778396606445</td><td>0.061016492545604706 .. 0.07507961243391037</td><td>-25.806284</td><td>0.13920745253562927 .. 0.0414765328168869</td><td>0.0</td><td>0.0</td><td>-1.0</td><td>nan</td><td>nan</td><td>nan</td><td>nan</td><td>nan</td><td>nan</td><td>nan</td><td>nan</td><td>1.0</td><td>0.349308043718338</td><td>22.587234277440285</td><td>1.573292851448059</td><td>13.871135159044835</td><td>nan</td><td>nan</td><td>nan</td><td>-1</td><td>nan</td><td>nan</td><td>nan</td><td>-1</td><td>nan</td><td>nan</td><td>nan</td><td>-1</td><td>nan</td><td>15.503</td><td>0.044</td><td>24.5</td><td>0.9052</td><td>13.987</td><td>0.044</td><td>24.5</td><td>0.913</td><td>10.764</td><td>0.112</td><td>9.699999809265137</td><td>0.9418</td><td>8.056000000000001</td><td>0.044</td><td>5.300000190734863</td><td>1.052</td><td>0000</td><td>AABB</td><td>0.26852</td><td>1.0</td><td>5.5254370569158805e-31</td><td>3.5955865449950646e-32</td><td>6.597499659809314e-31</td><td>4.1546516582461446e-32</td><td>9.038159772512016e-31</td><td>4.4203324833151824e-32</td><td>8.567425066363647e-31</td><td>5.178768491431826e-32</td><td>0</td><td>-1.0</td><td>-1.0</td><td>-1.0</td></tr>\n",
       "<tr><td>000001.20+240354.5</td><td>0.005025713552072375</td><td>24.06516252954585</td><td>319918739</td><td>7666</td><td>57339</td><td>121</td><td>BOSS</td><td>1.6162103</td><td>0.0</td><td>AUTO</td><td>-1.0</td><td>1.6162103414535522</td><td>0.0007267744513228536</td><td>0</td><td>1.6146076</td><td>1.616566</td><td>1.616566</td><td>0</td><td>0</td><td>0</td><td>0</td><td>1024</td><td>0</td><td>0</td><td>0</td><td>0</td><td>-1 .. -1</td><td>-1 .. -1</td><td>-1 .. -1</td><td>- .. -</td><td>0.0</td><td>0.0</td><td>0</td><td>-</td><td>0</td><td>0</td><td>-</td><td>1.6189976930618286 .. 9.2546968460083</td><td>20.38020896911621 .. 1.2987148761749268</td><td>21.968854904174805 .. 20.077219009399414</td><td>0.14637739956378937 .. 0.10165335237979889</td><td>-24.794746</td><td>0.4501841962337494 .. 0.1341313123703003</td><td>0.0</td><td>0.0</td><td>-1.0</td><td>nan</td><td>nan</td><td>nan</td><td>nan</td><td>nan</td><td>nan</td><td>nan</td><td>nan</td><td>1.0</td><td>-0.11732663959264755</td><td>56.64157225013953</td><td>-0.021669752895832062</td><td>82.53654303962783</td><td>nan</td><td>nan</td><td>nan</td><td>-1</td><td>nan</td><td>nan</td><td>nan</td><td>-1</td><td>nan</td><td>nan</td><td>nan</td><td>-1</td><td>nan</td><td>16.366</td><td>0.07200000000000001</td><td>15.0</td><td>1.052</td><td>15.447</td><td>0.11</td><td>9.899999618530273</td><td>0.9336</td><td>12.434</td><td>nan</td><td>0.20000000298023224</td><td>0.9305</td><td>8.398</td><td>0.07200000000000001</td><td>0.800000011920929</td><td>0.9579</td><td>0000</td><td>ABUU</td><td>0.110225</td><td>0.0</td><td>0.0</td><td>0.0</td><td>0.0</td><td>0.0</td><td>0.0</td><td>0.0</td><td>0.0</td><td>0.0</td><td>-1</td><td>-1.0</td><td>-1.0</td><td>-1.0</td></tr>\n",
       "<tr><td>000001.27-020159.7</td><td>0.005316971570891838</td><td>-2.033273291001564</td><td>62120483</td><td>4354</td><td>55810</td><td>678</td><td>BOSS</td><td>1.36</td><td>0.0</td><td>VI</td><td>1.3600000143051147</td><td>1.3604756593704224</td><td>0.0004507622215896845</td><td>0</td><td>1.3619123</td><td>1.3622836</td><td>1.3622836</td><td>262144</td><td>0</td><td>0</td><td>0</td><td>0</td><td>0</td><td>0</td><td>0</td><td>0</td><td>-1 .. -1</td><td>-1 .. -1</td><td>-1 .. -1</td><td>- .. -</td><td>0.0</td><td>0.0</td><td>0</td><td>-</td><td>0</td><td>0</td><td>-</td><td>5.7982611656188965 .. 28.749858856201172</td><td>10.57221794128418 .. 1.0262092351913452</td><td>20.591123580932617 .. 18.852691650390625</td><td>0.0575224943459034 .. 0.037230249494314194</td><td>-25.890327</td><td>0.1619756519794464 .. 0.04826026037335396</td><td>0.0</td><td>0.0</td><td>-1.0</td><td>nan</td><td>nan</td><td>nan</td><td>nan</td><td>nan</td><td>nan</td><td>nan</td><td>nan</td><td>1.0</td><td>0.0</td><td>0.0</td><td>0.0</td><td>0.0</td><td>nan</td><td>nan</td><td>nan</td><td>-1</td><td>nan</td><td>nan</td><td>nan</td><td>-1</td><td>nan</td><td>nan</td><td>nan</td><td>-1</td><td>nan</td><td>14.888</td><td>0.034</td><td>32.0</td><td>1.105</td><td>13.519</td><td>0.035</td><td>31.299999237060547</td><td>0.9211</td><td>10.444</td><td>0.08800000000000001</td><td>12.300000190734863</td><td>0.9571</td><td>8.145</td><td>0.034</td><td>4.199999809265137</td><td>1.038</td><td>0000</td><td>AAAB</td><td>0.092102</td><td>0.0</td><td>0.0</td><td>0.0</td><td>0.0</td><td>0.0</td><td>0.0</td><td>0.0</td><td>0.0</td><td>0.0</td><td>1</td><td>1.26</td><td>7.048389</td><td>0.57105</td></tr>\n",
       "<tr><td>000001.37-011930.0</td><td>0.005746209112004408</td><td>-1.3250088011125059</td><td>66666942</td><td>4354</td><td>55810</td><td>646</td><td>BOSS</td><td>2.3280000000000003</td><td>0.0</td><td>VI</td><td>2.328000068664551</td><td>2.333164691925049</td><td>0.0001957574422704056</td><td>0</td><td>2.3350306</td><td>2.3483452999999996</td><td>2.3483452999999996</td><td>16492675088384</td><td>0</td><td>0</td><td>0</td><td>0</td><td>0</td><td>0</td><td>0</td><td>0</td><td>-1 .. -1</td><td>-1 .. -1</td><td>-1 .. -1</td><td>- .. -</td><td>0.0</td><td>0.0</td><td>0</td><td>-</td><td>0</td><td>0</td><td>-</td><td>5.298428535461426 .. 10.920283317565918</td><td>7.55182409286499 .. 0.9089431166648865</td><td>20.688875198364258 .. 19.899463653564453</td><td>0.07446388900279999 .. 0.10334030538797379</td><td>-26.184576</td><td>0.186440572142601 .. 0.05554952844977379</td><td>0.0</td><td>0.0</td><td>-1.0</td><td>nan</td><td>nan</td><td>nan</td><td>nan</td><td>nan</td><td>nan</td><td>nan</td><td>nan</td><td>1.0</td><td>0.09291329234838486</td><td>44.988086770623894</td><td>0.22756947576999664</td><td>2.5174224638761955</td><td>nan</td><td>nan</td><td>nan</td><td>-1</td><td>nan</td><td>nan</td><td>nan</td><td>-1</td><td>nan</td><td>nan</td><td>nan</td><td>-1</td><td>nan</td><td>16.72</td><td>0.103</td><td>10.600000381469727</td><td>1.038</td><td>15.929</td><td>0.16699999999999998</td><td>6.5</td><td>0.9004</td><td>11.903</td><td>0.285</td><td>3.799999952316284</td><td>0.9703</td><td>8.981</td><td>0.103</td><td>-0.800000011920929</td><td>0.8492</td><td>0000</td><td>ABBU</td><td>0.450972</td><td>0.0</td><td>0.0</td><td>0.0</td><td>0.0</td><td>0.0</td><td>0.0</td><td>0.0</td><td>0.0</td><td>0.0</td><td>0</td><td>-1.0</td><td>-1.0</td><td>-1.0</td></tr>\n",
       "<tr><td>000001.41+200044.1</td><td>0.005912092570781624</td><td>20.012258452497786</td><td>287103247</td><td>6110</td><td>56279</td><td>86</td><td>BOSS</td><td>3.09</td><td>0.0</td><td>VI</td><td>3.0899999141693115</td><td>3.087897539138794</td><td>-1.0</td><td>0</td><td>3.0928133</td><td>-1.0</td><td>-1.0</td><td>3298534883328</td><td>0</td><td>1024</td><td>0</td><td>0</td><td>0</td><td>0</td><td>2</td><td>2</td><td>0 .. -1</td><td>0 .. -1</td><td>0 .. -1</td><td>- .. -</td><td>2867.2402</td><td>170.6342</td><td>0</td><td>-</td><td>0</td><td>0</td><td>-</td><td>-0.42654621601104736 .. 8.79304027557373</td><td>3.944284200668335 .. 0.4377562999725342</td><td>25.94588279724121 .. 20.132043838500977</td><td>1.0714412927627563 .. 0.1840360164642334</td><td>-26.499355</td><td>0.22385552525520325 .. 0.06669722497463226</td><td>0.0</td><td>0.0</td><td>-1.0</td><td>nan</td><td>nan</td><td>nan</td><td>nan</td><td>nan</td><td>nan</td><td>nan</td><td>nan</td><td>1.0</td><td>-0.363820880651474</td><td>0.739653775774356</td><td>-0.16924284398555756</td><td>30.937609136038464</td><td>nan</td><td>nan</td><td>nan</td><td>-1</td><td>nan</td><td>nan</td><td>nan</td><td>-1</td><td>nan</td><td>nan</td><td>nan</td><td>-1</td><td>nan</td><td>16.968</td><td>0.119</td><td>9.100000381469727</td><td>1.077</td><td>16.035</td><td>0.189</td><td>5.699999809265137</td><td>0.9322</td><td>12.16</td><td>0.35</td><td>3.0999999046325684</td><td>0.9644</td><td>9.056</td><td>0.119</td><td>-0.30000001192092896</td><td>1.072</td><td>0000</td><td>BBBU</td><td>1.256771</td><td>0.0</td><td>0.0</td><td>0.0</td><td>0.0</td><td>0.0</td><td>0.0</td><td>0.0</td><td>0.0</td><td>0.0</td><td>-1</td><td>-1.0</td><td>-1.0</td><td>-1.0</td></tr>\n",
       "<tr><td>000001.47+211636.1</td><td>0.006143972596646563</td><td>21.276711551497108</td><td>297314485</td><td>7595</td><td>56957</td><td>273</td><td>BOSS</td><td>0.93537974</td><td>0.0</td><td>AUTO</td><td>-1.0</td><td>0.9353797435760498</td><td>0.0003384661686141044</td><td>0</td><td>0.93427956</td><td>0.9352306</td><td>0.9352306</td><td>0</td><td>0</td><td>0</td><td>0</td><td>1024</td><td>0</td><td>0</td><td>0</td><td>0</td><td>-1 .. -1</td><td>-1 .. -1</td><td>-1 .. -1</td><td>- .. -</td><td>0.0</td><td>0.0</td><td>0</td><td>-</td><td>0</td><td>0</td><td>-</td><td>3.665316343307495 .. 5.531259536743164</td><td>10.382401466369629 .. 0.8739063739776611</td><td>21.0881404876709 .. 20.624008178710938</td><td>0.09166434407234192 .. 0.20283959805965424</td><td>-23.688278</td><td>0.22206206619739532 .. 0.06616286933422089</td><td>0.0</td><td>0.0</td><td>-1.0</td><td>nan</td><td>nan</td><td>nan</td><td>nan</td><td>nan</td><td>nan</td><td>nan</td><td>nan</td><td>1.0</td><td>0.4889582395553589</td><td>136.74002597284343</td><td>1.7640798091888428</td><td>8.704236678310558</td><td>nan</td><td>nan</td><td>nan</td><td>-1</td><td>nan</td><td>nan</td><td>nan</td><td>-1</td><td>nan</td><td>nan</td><td>nan</td><td>-1</td><td>nan</td><td>15.774</td><td>0.051</td><td>21.399999618530273</td><td>0.9575</td><td>14.99</td><td>0.081</td><td>13.399999618530273</td><td>0.8639</td><td>11.996</td><td>nan</td><td>1.2999999523162842</td><td>0.8961</td><td>8.546</td><td>0.051</td><td>0.8999999761581421</td><td>0.9274</td><td>0000</td><td>AAUU</td><td>0.146134</td><td>0.0</td><td>0.0</td><td>0.0</td><td>0.0</td><td>0.0</td><td>0.0</td><td>0.0</td><td>0.0</td><td>0.0</td><td>-1</td><td>-1.0</td><td>-1.0</td><td>-1.0</td></tr>\n",
       "<tr><td>...</td><td>...</td><td>...</td><td>...</td><td>...</td><td>...</td><td>...</td><td>...</td><td>...</td><td>...</td><td>...</td><td>...</td><td>...</td><td>...</td><td>...</td><td>...</td><td>...</td><td>...</td><td>...</td><td>...</td><td>...</td><td>...</td><td>...</td><td>...</td><td>...</td><td>...</td><td>...</td><td>...</td><td>...</td><td>...</td><td>...</td><td>...</td><td>...</td><td>...</td><td>...</td><td>...</td><td>...</td><td>...</td><td>...</td><td>...</td><td>...</td><td>...</td><td>...</td><td>...</td><td>...</td><td>...</td><td>...</td><td>...</td><td>...</td><td>...</td><td>...</td><td>...</td><td>...</td><td>...</td><td>...</td><td>...</td><td>...</td><td>...</td><td>...</td><td>...</td><td>...</td><td>...</td><td>...</td><td>...</td><td>...</td><td>...</td><td>...</td><td>...</td><td>...</td><td>...</td><td>...</td><td>...</td><td>...</td><td>...</td><td>...</td><td>...</td><td>...</td><td>...</td><td>...</td><td>...</td><td>...</td><td>...</td><td>...</td><td>...</td><td>...</td><td>...</td><td>...</td><td>...</td><td>...</td><td>...</td><td>...</td><td>...</td><td>...</td><td>...</td><td>...</td><td>...</td><td>...</td><td>...</td><td>...</td><td>...</td><td>...</td><td>...</td><td>...</td><td>...</td><td>...</td></tr>\n",
       "<tr><td>235959.64-003921.1</td><td>359.99851995615614</td><td>-0.6558843724431632</td><td>77676700</td><td>7848</td><td>56959</td><td>54</td><td>BOSS</td><td>1.3557843</td><td>0.0</td><td>AUTO</td><td>-1.0</td><td>1.355784296989441</td><td>0.0005937990499660372</td><td>0</td><td>1.3555156000000002</td><td>1.3519648000000002</td><td>1.3519648000000002</td><td>0</td><td>0</td><td>0</td><td>0</td><td>1024</td><td>0</td><td>0</td><td>0</td><td>0</td><td>-1 .. -1</td><td>-1 .. -1</td><td>-1 .. -1</td><td>- .. -</td><td>0.0</td><td>0.0</td><td>0</td><td>-</td><td>0</td><td>0</td><td>-</td><td>1.4755491018295288 .. 1.9537091255187988</td><td>21.705854415893555 .. 2.19503116607666</td><td>22.067970275878906 .. 21.64278221130371</td><td>0.15516740083694458 .. 0.2989932894706726</td><td>-23.167988</td><td>0.17244026064872742 .. 0.051378171890974045</td><td>0.0</td><td>0.0</td><td>-1.0</td><td>nan</td><td>nan</td><td>nan</td><td>nan</td><td>nan</td><td>nan</td><td>nan</td><td>nan</td><td>1.0</td><td>0.049131397157907486</td><td>10.188202405403802</td><td>0.2577308118343353</td><td>0.41426403042377896</td><td>nan</td><td>nan</td><td>nan</td><td>-1</td><td>nan</td><td>nan</td><td>nan</td><td>-1</td><td>nan</td><td>nan</td><td>nan</td><td>-1</td><td>nan</td><td>17.230999999999998</td><td>0.14400000000000002</td><td>7.5</td><td>0.9948</td><td>16.296</td><td>0.239</td><td>4.5</td><td>0.8662</td><td>12.146</td><td>nan</td><td>1.100000023841858</td><td>0.8793</td><td>9.067</td><td>0.14400000000000002</td><td>2.0</td><td>1.027</td><td>0000</td><td>BBUC</td><td>0.944667</td><td>1.0</td><td>1.2221516023973854e-31</td><td>2.8713071701038507e-32</td><td>2.0185505238347825e-32</td><td>4.1694487811342955e-32</td><td>5.063872147099402e-32</td><td>5.165121002018778e-32</td><td>9.98676490571599e-32</td><td>5.932520154560445e-32</td><td>0</td><td>-1.0</td><td>-1.0</td><td>-1.0</td></tr>\n",
       "<tr><td>235959.70+084505.2</td><td>359.99877436139883</td><td>8.751452235361512</td><td>190787316</td><td>6152</td><td>56164</td><td>12</td><td>BOSS</td><td>2.205</td><td>0.0</td><td>VI</td><td>2.2049999237060547</td><td>2.1861588954925537</td><td>0.0005236854776740074</td><td>0</td><td>2.2050369</td><td>2.2072399</td><td>2.2072399</td><td>2199023779840</td><td>0</td><td>0</td><td>0</td><td>0</td><td>0</td><td>0</td><td>0</td><td>0</td><td>-1 .. -1</td><td>-1 .. -1</td><td>-1 .. -1</td><td>- .. -</td><td>0.0</td><td>0.0</td><td>0</td><td>-</td><td>0</td><td>0</td><td>-</td><td>10.209931373596191 .. 33.29141616821289</td><td>1.9940565824508667 .. 0.5809568762779236</td><td>19.97723960876465 .. 18.693634033203125</td><td>0.07527824491262436 .. 0.042745593935251236</td><td>-27.205271000000003</td><td>0.2600480318069458 .. 0.07748069614171982</td><td>0.0</td><td>0.0</td><td>-1.0</td><td>nan</td><td>nan</td><td>nan</td><td>nan</td><td>nan</td><td>nan</td><td>nan</td><td>nan</td><td>1.0</td><td>-0.012690875679254532</td><td>4.967534234447898</td><td>0.4558853209018707</td><td>25.000072736504702</td><td>nan</td><td>nan</td><td>nan</td><td>-1</td><td>nan</td><td>nan</td><td>nan</td><td>-1</td><td>nan</td><td>nan</td><td>nan</td><td>-1</td><td>nan</td><td>15.836</td><td>0.051</td><td>21.399999618530273</td><td>0.9278</td><td>14.646</td><td>0.06</td><td>18.0</td><td>0.9767</td><td>11.143</td><td>0.171</td><td>6.400000095367432</td><td>0.9539</td><td>9.072</td><td>0.051</td><td>2.0</td><td>0.9777</td><td>0000</td><td>AABC</td><td>0.344997</td><td>0.0</td><td>0.0</td><td>0.0</td><td>0.0</td><td>0.0</td><td>0.0</td><td>0.0</td><td>0.0</td><td>0.0</td><td>0</td><td>-1.0</td><td>-1.0</td><td>-1.0</td></tr>\n",
       "<tr><td>235959.71+255838.4</td><td>359.99883155522065</td><td>25.977356307449146</td><td>336778739</td><td>7666</td><td>57339</td><td>844</td><td>BOSS</td><td>3.3075193999999994</td><td>0.0</td><td>AUTO</td><td>-1.0</td><td>3.3075194358825684</td><td>0.002343666972592473</td><td>0</td><td>3.158866</td><td>-1.0</td><td>-1.0</td><td>0</td><td>0</td><td>0</td><td>0</td><td>1024</td><td>0</td><td>0</td><td>0</td><td>0</td><td>-1 .. -1</td><td>-1 .. -1</td><td>-1 .. -1</td><td>- .. -</td><td>0.0</td><td>0.0</td><td>0</td><td>-</td><td>0</td><td>0</td><td>-</td><td>0.4287842810153961 .. 2.2631523609161377</td><td>29.013948440551758 .. 2.113093376159668</td><td>23.318723678588867 .. 21.512279510498047</td><td>0.39360281825065613 .. 0.27620986104011536</td><td>-24.760565</td><td>0.17487069964408875 .. 0.052102312445640564</td><td>0.0</td><td>0.0</td><td>-1.0</td><td>nan</td><td>nan</td><td>nan</td><td>nan</td><td>nan</td><td>nan</td><td>nan</td><td>nan</td><td>1.0</td><td>-0.1665298044681549</td><td>66.92186340057647</td><td>0.14324310421943665</td><td>0.463262848261377</td><td>nan</td><td>nan</td><td>nan</td><td>-1</td><td>nan</td><td>nan</td><td>nan</td><td>-1</td><td>nan</td><td>nan</td><td>nan</td><td>-1</td><td>nan</td><td>nan</td><td>nan</td><td>nan</td><td>nan</td><td>nan</td><td>nan</td><td>nan</td><td>nan</td><td>nan</td><td>nan</td><td>nan</td><td>nan</td><td>nan</td><td>nan</td><td>nan</td><td>nan</td><td></td><td></td><td>nan</td><td>0.0</td><td>0.0</td><td>0.0</td><td>0.0</td><td>0.0</td><td>0.0</td><td>0.0</td><td>0.0</td><td>0.0</td><td>-1</td><td>-1.0</td><td>-1.0</td><td>-1.0</td></tr>\n",
       "<tr><td>235959.74+100700.4</td><td>359.99892231843813</td><td>10.116800342372995</td><td>202268211</td><td>6182</td><td>56190</td><td>380</td><td>BOSS</td><td>2.415</td><td>0.0</td><td>VI</td><td>2.414999961853028</td><td>2.4158482551574707</td><td>0.0004391265101730824</td><td>0</td><td>2.4162044999999996</td><td>2.394154</td><td>2.394154</td><td>2199023255552</td><td>0</td><td>0</td><td>0</td><td>0</td><td>0</td><td>0</td><td>0</td><td>0</td><td>-1 .. -1</td><td>-1 .. -1</td><td>-1 .. -1</td><td>- .. -</td><td>0.0</td><td>0.0</td><td>0</td><td>-</td><td>0</td><td>0</td><td>-</td><td>0.13701799511909485 .. 2.3733279705047607</td><td>8.572785377502441 .. 0.8092840313911438</td><td>24.122575759887695 .. 21.46878433227539</td><td>1.1895657777786255 .. 0.43150395154953003</td><td>-25.087162</td><td>0.39340513944625854 .. 0.117214135825634</td><td>0.0</td><td>0.0</td><td>-1.0</td><td>nan</td><td>nan</td><td>nan</td><td>nan</td><td>nan</td><td>nan</td><td>nan</td><td>nan</td><td>1.0</td><td>0.8168631196022034</td><td>5.3016064747843945</td><td>0.18351194262504572</td><td>7.803975152448138</td><td>nan</td><td>nan</td><td>nan</td><td>-1</td><td>nan</td><td>nan</td><td>nan</td><td>-1</td><td>nan</td><td>nan</td><td>nan</td><td>-1</td><td>nan</td><td>nan</td><td>nan</td><td>nan</td><td>nan</td><td>nan</td><td>nan</td><td>nan</td><td>nan</td><td>nan</td><td>nan</td><td>nan</td><td>nan</td><td>nan</td><td>nan</td><td>nan</td><td>nan</td><td></td><td></td><td>nan</td><td>1.0</td><td>1.1244376940898019e-31</td><td>2.6793083880594683e-32</td><td>1.4119519749068605e-31</td><td>3.7041008366232856e-32</td><td>1.6103698965022135e-31</td><td>5.596675541058764e-32</td><td>1.9354891819975573e-31</td><td>5.194566547759703e-32</td><td>0</td><td>-1.0</td><td>-1.0</td><td>-1.0</td></tr>\n",
       "<tr><td>235959.76+242448.7</td><td>359.999027641761</td><td>24.41354843124339</td><td>323503200</td><td>7666</td><td>57339</td><td>130</td><td>BOSS</td><td>1.4900646999999998</td><td>0.0</td><td>AUTO</td><td>-1.0</td><td>1.4900647401809692</td><td>0.0005706399097107353</td><td>0</td><td>1.4877276000000001</td><td>1.4901986999999999</td><td>1.4901986999999999</td><td>0</td><td>0</td><td>0</td><td>0</td><td>3072</td><td>0</td><td>0</td><td>0</td><td>0</td><td>-1 .. -1</td><td>-1 .. -1</td><td>-1 .. -1</td><td>- .. -</td><td>0.0</td><td>0.0</td><td>0</td><td>-</td><td>0</td><td>0</td><td>-</td><td>2.8394405841827393 .. 7.860564231872559</td><td>16.299022674560547 .. 1.5556150674819946</td><td>21.364288330078125 .. 20.251869201660156</td><td>0.09425608068704605 .. 0.10883158445358276</td><td>-24.493919</td><td>0.43763792514801025 .. 0.13039319217205048</td><td>0.0</td><td>0.0</td><td>-1.0</td><td>nan</td><td>nan</td><td>nan</td><td>nan</td><td>nan</td><td>nan</td><td>nan</td><td>nan</td><td>1.0</td><td>-0.2318636924028397</td><td>28.97845190439065</td><td>0.6528385877609253</td><td>6.0032878643597165</td><td>nan</td><td>nan</td><td>nan</td><td>-1</td><td>nan</td><td>nan</td><td>nan</td><td>-1</td><td>nan</td><td>nan</td><td>nan</td><td>-1</td><td>nan</td><td>16.863</td><td>0.105</td><td>10.399999618530273</td><td>0.8879</td><td>16.061</td><td>0.17800000000000002</td><td>6.099999904632568</td><td>0.8593</td><td>12.048</td><td>nan</td><td>1.2999999523162842</td><td>0.877</td><td>8.255</td><td>0.105</td><td>1.7000000476837158</td><td>1.052</td><td>0000</td><td>ABUU</td><td>1.0657709999999998</td><td>0.0</td><td>0.0</td><td>0.0</td><td>0.0</td><td>0.0</td><td>0.0</td><td>0.0</td><td>0.0</td><td>0.0</td><td>-1</td><td>-1.0</td><td>-1.0</td><td>-1.0</td></tr>\n",
       "<tr><td>235959.78+285717.0</td><td>359.9991177907408</td><td>28.95473424342157</td><td>360831416</td><td>6511</td><td>56540</td><td>912</td><td>BOSS</td><td>2.452</td><td>0.0</td><td>VI</td><td>2.45199990272522</td><td>2.4509875774383545</td><td>0.0006248197169043124</td><td>0</td><td>2.4450705000000004</td><td>-1.0</td><td>-1.0</td><td>3298535424000</td><td>0</td><td>0</td><td>0</td><td>0</td><td>0</td><td>0</td><td>1</td><td>1</td><td>0 .. -1</td><td>0 .. -1</td><td>0 .. -1</td><td>- .. -</td><td>0.0</td><td>0.0</td><td>0</td><td>-</td><td>0</td><td>0</td><td>-</td><td>1.4106802940368652 .. 4.767739295959473</td><td>29.066919326782227 .. 2.151970863342285</td><td>22.115888595581055 .. 20.778961181640625</td><td>0.14002498984336853 .. 0.14825759828090668</td><td>-25.083122</td><td>0.23128443956375122 .. 0.06891065090894699</td><td>0.0</td><td>0.0</td><td>-1.0</td><td>nan</td><td>nan</td><td>nan</td><td>nan</td><td>nan</td><td>nan</td><td>nan</td><td>nan</td><td>1.0</td><td>0.012952172197401524</td><td>9.38362862573936</td><td>0.5922036170959473</td><td>0.3776120550528195</td><td>nan</td><td>nan</td><td>nan</td><td>-1</td><td>nan</td><td>nan</td><td>nan</td><td>-1</td><td>nan</td><td>nan</td><td>nan</td><td>-1</td><td>nan</td><td>17.312</td><td>0.122</td><td>8.899999618530273</td><td>0.9385</td><td>16.092</td><td>0.172</td><td>6.300000190734863</td><td>0.9008</td><td>12.012</td><td>nan</td><td>1.399999976158142</td><td>1.01</td><td>8.572000000000001</td><td>0.122</td><td>1.600000023841858</td><td>0.999</td><td>0000</td><td>BBUU</td><td>1.948948</td><td>0.0</td><td>0.0</td><td>0.0</td><td>0.0</td><td>0.0</td><td>0.0</td><td>0.0</td><td>0.0</td><td>0.0</td><td>-1</td><td>-1.0</td><td>-1.0</td><td>-1.0</td></tr>\n",
       "<tr><td>235959.83+344315.0</td><td>359.9993034693268</td><td>34.720842482815726</td><td>401165277</td><td>7145</td><td>56567</td><td>240</td><td>BOSS</td><td>3.109</td><td>0.0</td><td>VI</td><td>3.108999967575073</td><td>3.1135237216949463</td><td>0.00039327019476331765</td><td>0</td><td>3.1030495</td><td>-1.0</td><td>-1.0</td><td>3298535424000</td><td>0</td><td>0</td><td>0</td><td>0</td><td>0</td><td>0</td><td>0</td><td>0</td><td>-1 .. -1</td><td>-1 .. -1</td><td>-1 .. -1</td><td>- .. -</td><td>0.0</td><td>0.0</td><td>0</td><td>-</td><td>0</td><td>0</td><td>-</td><td>0.26430341601371765 .. 15.253443717956543</td><td>27.282411575317383 .. 1.2617765665054321</td><td>23.72138786315918 .. 19.539033889770508</td><td>0.5398540496826172 .. 0.063071109354496</td><td>-27.310951</td><td>0.3354918956756592 .. 0.09995901584625244</td><td>0.0</td><td>0.0</td><td>-1.0</td><td>nan</td><td>nan</td><td>nan</td><td>nan</td><td>nan</td><td>nan</td><td>nan</td><td>nan</td><td>1.0</td><td>-0.17406196892261505</td><td>21.936797353156877</td><td>0.14728955924510956</td><td>7.039888551569028</td><td>nan</td><td>nan</td><td>nan</td><td>-1</td><td>nan</td><td>nan</td><td>nan</td><td>-1</td><td>nan</td><td>nan</td><td>nan</td><td>-1</td><td>nan</td><td>nan</td><td>nan</td><td>nan</td><td>nan</td><td>nan</td><td>nan</td><td>nan</td><td>nan</td><td>nan</td><td>nan</td><td>nan</td><td>nan</td><td>nan</td><td>nan</td><td>nan</td><td>nan</td><td></td><td></td><td>nan</td><td>0.0</td><td>0.0</td><td>0.0</td><td>0.0</td><td>0.0</td><td>0.0</td><td>0.0</td><td>0.0</td><td>0.0</td><td>-1</td><td>-1.0</td><td>-1.0</td><td>-1.0</td></tr>\n",
       "<tr><td>235959.90+031606.9</td><td>359.9996152416898</td><td>3.2685861656570725</td><td>139887781</td><td>8741</td><td>57390</td><td>60</td><td>BOSS</td><td>1.2331611</td><td>0.0</td><td>AUTO</td><td>-1.0</td><td>1.2331610918045044</td><td>0.00017904076958075166</td><td>0</td><td>1.233739</td><td>1.2347603</td><td>1.2347603</td><td>0</td><td>0</td><td>0</td><td>0</td><td>1024</td><td>0</td><td>0</td><td>0</td><td>0</td><td>-1 .. -1</td><td>-1 .. -1</td><td>-1 .. -1</td><td>- .. -</td><td>0.0</td><td>0.0</td><td>0</td><td>-</td><td>0</td><td>0</td><td>-</td><td>27.749706268310547 .. 32.96937942504883</td><td>3.1735503673553467 .. 0.6952154040336609</td><td>18.891826629638672 .. 18.70417594909668</td><td>0.021961960941553116 .. 0.0394563302397728</td><td>-25.967665</td><td>0.09945588558912277 .. 0.029632646590471268</td><td>0.0</td><td>0.0</td><td>-1.0</td><td>nan</td><td>nan</td><td>nan</td><td>nan</td><td>nan</td><td>nan</td><td>nan</td><td>nan</td><td>1.0</td><td>-0.049239084124565125</td><td>6.706261091725037</td><td>6.480186462402344</td><td>2.184885105525128</td><td>nan</td><td>nan</td><td>nan</td><td>-1</td><td>nan</td><td>nan</td><td>nan</td><td>-1</td><td>nan</td><td>nan</td><td>nan</td><td>-1</td><td>nan</td><td>nan</td><td>nan</td><td>nan</td><td>nan</td><td>nan</td><td>nan</td><td>nan</td><td>nan</td><td>nan</td><td>nan</td><td>nan</td><td>nan</td><td>nan</td><td>nan</td><td>nan</td><td>nan</td><td></td><td></td><td>nan</td><td>0.0</td><td>0.0</td><td>0.0</td><td>0.0</td><td>0.0</td><td>0.0</td><td>0.0</td><td>0.0</td><td>0.0</td><td>0</td><td>-1.0</td><td>-1.0</td><td>-1.0</td></tr>\n",
       "<tr><td>235959.94+204315.8</td><td>359.9997591000248</td><td>20.72107938656721</td><td>292309197</td><td>7595</td><td>56957</td><td>259</td><td>BOSS</td><td>2.0099409</td><td>0.0</td><td>AUTO</td><td>-1.0</td><td>2.00994086265564</td><td>0.0005322270444594325</td><td>0</td><td>2.0155287</td><td>2.0139256000000003</td><td>2.0139256000000003</td><td>0</td><td>0</td><td>0</td><td>0</td><td>1024</td><td>0</td><td>0</td><td>0</td><td>0</td><td>-1 .. -1</td><td>-1 .. -1</td><td>-1 .. -1</td><td>- .. -</td><td>0.0</td><td>0.0</td><td>0</td><td>-</td><td>0</td><td>0</td><td>-</td><td>7.154123306274414 .. 11.336148262023926</td><td>5.407712936401367 .. 0.8053292036056519</td><td>20.36319351196289 .. 19.85923957824707</td><td>0.0652121752500534 .. 0.10582835227251053</td><td>-25.787945</td><td>0.2858889698982239 .. 0.08517993986606598</td><td>0.0</td><td>0.0</td><td>-1.0</td><td>nan</td><td>nan</td><td>nan</td><td>nan</td><td>nan</td><td>nan</td><td>nan</td><td>nan</td><td>1.0</td><td>0.08469399809837341</td><td>30.776068553236605</td><td>1.8014731407165527</td><td>89.4015925136389</td><td>nan</td><td>nan</td><td>nan</td><td>-1</td><td>nan</td><td>nan</td><td>nan</td><td>-1</td><td>nan</td><td>nan</td><td>nan</td><td>-1</td><td>nan</td><td>16.896</td><td>0.104</td><td>10.399999618530273</td><td>0.9653</td><td>15.893</td><td>0.16</td><td>6.800000190734863</td><td>1.022</td><td>12.621</td><td>nan</td><td>-2.0</td><td>0.9596</td><td>8.572000000000001</td><td>0.104</td><td>1.2000000476837158</td><td>1.012</td><td>0000</td><td>ABUU</td><td>0.106632</td><td>0.0</td><td>0.0</td><td>0.0</td><td>0.0</td><td>0.0</td><td>0.0</td><td>0.0</td><td>0.0</td><td>0.0</td><td>-1</td><td>-1.0</td><td>-1.0</td><td>-1.0</td></tr>\n",
       "<tr><td>235959.98+344449.6</td><td>359.9999541295649</td><td>34.747133291446325</td><td>401165238</td><td>7145</td><td>56567</td><td>262</td><td>BOSS</td><td>2.375</td><td>0.0</td><td>VI</td><td>2.375</td><td>2.397723913192749</td><td>0.0003489350492600352</td><td>0</td><td>2.3635013</td><td>2.3669076000000002</td><td>2.3669076000000002</td><td>3298535424000</td><td>0</td><td>0</td><td>0</td><td>0</td><td>0</td><td>0</td><td>0</td><td>0</td><td>-1 .. -1</td><td>-1 .. -1</td><td>-1 .. -1</td><td>- .. -</td><td>199.63788</td><td>13.583471</td><td>0</td><td>-</td><td>0</td><td>0</td><td>-</td><td>2.0665082931518555 .. 10.901832580566406</td><td>20.731266021728516 .. 1.3692610263824463</td><td>21.706958770751953 .. 19.901283264160156</td><td>0.11434675753116608 .. 0.08433660119771957</td><td>-26.091427</td><td>0.3320152461528778 .. 0.09892316162586212</td><td>0.0</td><td>0.0</td><td>-1.0</td><td>nan</td><td>nan</td><td>nan</td><td>nan</td><td>nan</td><td>nan</td><td>nan</td><td>nan</td><td>1.0</td><td>-0.353803426027298</td><td>2.7362933480076053</td><td>0.3526000678539276</td><td>0.9934353697992904</td><td>nan</td><td>nan</td><td>nan</td><td>-1</td><td>nan</td><td>nan</td><td>nan</td><td>-1</td><td>nan</td><td>nan</td><td>nan</td><td>-1</td><td>nan</td><td>nan</td><td>nan</td><td>nan</td><td>nan</td><td>nan</td><td>nan</td><td>nan</td><td>nan</td><td>nan</td><td>nan</td><td>nan</td><td>nan</td><td>nan</td><td>nan</td><td>nan</td><td>nan</td><td></td><td></td><td>nan</td><td>0.0</td><td>0.0</td><td>0.0</td><td>0.0</td><td>0.0</td><td>0.0</td><td>0.0</td><td>0.0</td><td>0.0</td><td>-1</td><td>-1.0</td><td>-1.0</td><td>-1.0</td></tr>\n",
       "</table>"
      ],
      "text/plain": [
       "<Table length=526356>\n",
       "    SDSS_NAME                RA          ... FIRST_SNR SDSS2FIRST_SEP\n",
       "        -                   deg          ...     -         arcsec    \n",
       "     bytes18              float64        ...  float64     float64    \n",
       "------------------ --------------------- ... --------- --------------\n",
       "000000.45+174625.4  0.001898274356335605 ...      -1.0           -1.0\n",
       "000000.57+055630.8 0.0023754761888312714 ...      -1.0           -1.0\n",
       "000000.66+145828.8  0.002756432550313548 ...      -1.0           -1.0\n",
       "000000.97+044947.2  0.004052389452795069 ...      -1.0           -1.0\n",
       "000001.20+240354.5  0.005025713552072375 ...      -1.0           -1.0\n",
       "000001.27-020159.7  0.005316971570891838 ...  7.048389        0.57105\n",
       "000001.37-011930.0  0.005746209112004408 ...      -1.0           -1.0\n",
       "000001.41+200044.1  0.005912092570781624 ...      -1.0           -1.0\n",
       "000001.47+211636.1  0.006143972596646563 ...      -1.0           -1.0\n",
       "               ...                   ... ...       ...            ...\n",
       "235959.64-003921.1    359.99851995615614 ...      -1.0           -1.0\n",
       "235959.70+084505.2    359.99877436139883 ...      -1.0           -1.0\n",
       "235959.71+255838.4    359.99883155522065 ...      -1.0           -1.0\n",
       "235959.74+100700.4    359.99892231843813 ...      -1.0           -1.0\n",
       "235959.76+242448.7      359.999027641761 ...      -1.0           -1.0\n",
       "235959.78+285717.0     359.9991177907408 ...      -1.0           -1.0\n",
       "235959.83+344315.0     359.9993034693268 ...      -1.0           -1.0\n",
       "235959.90+031606.9     359.9996152416898 ...      -1.0           -1.0\n",
       "235959.94+204315.8     359.9997591000248 ...      -1.0           -1.0\n",
       "235959.98+344449.6     359.9999541295649 ...      -1.0           -1.0"
      ]
     },
     "execution_count": 6,
     "metadata": {},
     "output_type": "execute_result"
    }
   ],
   "source": [
    "catalog"
   ]
  },
  {
   "cell_type": "markdown",
   "metadata": {},
   "source": [
    "As you see there are about 500,000 objetcs, this is what is used for a real life analysis. For this day we'll use a \n",
    "few only... "
   ]
  },
  {
   "cell_type": "code",
   "execution_count": 7,
   "metadata": {},
   "outputs": [
    {
     "data": {
      "text/html": [
       "<i>Table length=203726</i>\n",
       "<table id=\"table140386559052880\" class=\"table-striped table-bordered table-condensed\">\n",
       "<thead><tr><th>SDSS_NAME</th><th>RA</th><th>DEC</th><th>THING_ID</th><th>PLATE</th><th>MJD</th><th>FIBERID</th><th>SPECTRO</th><th>Z</th><th>Z_ERR</th><th>SOURCE_Z</th><th>Z_VI</th><th>Z_PIPE</th><th>Z_PIPE_ERR</th><th>ZWARNING</th><th>Z_PCA</th><th>Z_PCA_ER</th><th>Z_MGII</th><th>BOSS_TARGET1</th><th>ANCILLARY_TARGET1</th><th>ANCILLARY_TARGET2</th><th>EBOSS_TARGET0</th><th>EBOSS_TARGET1</th><th>EBOSS_TARGET2</th><th>N_SPEC_SDSS</th><th>N_SPEC_BOSS</th><th>N_SPEC</th><th>PLATE_DUPLICATE [51]</th><th>MJD_DUPLICATE [51]</th><th>FIBERID_DUPLICATE [51]</th><th>SPECTRO_DUPLICATE [51]</th><th>BI_CIV</th><th>ERR_BI_CIV</th><th>RUN_NUMBER</th><th>RERUN_NUMBER</th><th>COL_NUMBER</th><th>FIELD_NUMBER</th><th>OBJ_ID</th><th>PSFFLUX [5]</th><th>IVAR_PSFFLUX [5]</th><th>PSFMAG [5]</th><th>ERR_PSFMAG [5]</th><th>MI</th><th>GAL_EXT [5]</th><th>RASS_COUNTS</th><th>RASS_COUNTS_SNR</th><th>SDSS2ROSAT_SEP</th><th>FLUX_0.2_2.0keV</th><th>FLUX_0.2_2.0keV_ERR</th><th>FLUX_2.0_12.0keV</th><th>FLUX_2.0_12.0keV_ERR</th><th>FLUX_0.2_12.0keV</th><th>FLUX_0.2_12.0keV_ERR</th><th>LUM_0.2_12.0keV</th><th>SDSS2XMM_SEP</th><th>GALEX_MATCHED</th><th>FUV</th><th>FUV_IVAR</th><th>NUV</th><th>NUV_IVAR</th><th>JMAG</th><th>ERR_JMAG</th><th>JSNR</th><th>JRDFLAG</th><th>HMAG</th><th>ERR_HMAG</th><th>HSNR</th><th>HRDFLAG</th><th>KMAG</th><th>ERR_KMAG</th><th>KSNR</th><th>KRDFLAG</th><th>SDSS2MASS_SEP</th><th>W1MAG</th><th>ERR_W1MAG</th><th>W1SNR</th><th>W1CHI2</th><th>W2MAG</th><th>ERR_W2MAG</th><th>W2SNR</th><th>W2CHI2</th><th>W3MAG</th><th>ERR_W3MAG</th><th>W3SNR</th><th>W3CHI2</th><th>W4MAG</th><th>ERR_W4MAG</th><th>W4SNR</th><th>W4CHI2</th><th>CC_FLAGS</th><th>PH_FLAGS</th><th>SDSS2WISE_SEP</th><th>UKIDSS_MATCHED</th><th>YFLUX</th><th>YFLUX_ERR</th><th>JFLUX</th><th>JFLUX_ERR</th><th>HFLUX</th><th>HFLUX_ERR</th><th>KFLUX</th><th>KFLUX_ERR</th><th>FIRST_MATCHED</th><th>FIRST_FLUX</th><th>FIRST_SNR</th><th>SDSS2FIRST_SEP</th></tr></thead>\n",
       "<thead><tr><th>-</th><th>deg</th><th>deg</th><th>-</th><th>-</th><th>-</th><th>-</th><th>-</th><th>-</th><th>-</th><th>-</th><th>-</th><th>-</th><th>-</th><th>-</th><th>-</th><th>-</th><th>-</th><th>-</th><th>-</th><th>-</th><th>-</th><th>-</th><th>-</th><th>-</th><th>-</th><th>-</th><th>-</th><th>-</th><th>-</th><th>-</th><th>km / s</th><th>km / s</th><th>-</th><th>-</th><th>-</th><th>-</th><th>-</th><th>nanomaggies</th><th>-</th><th>mag</th><th>mag</th><th>-</th><th>mag</th><th>counts/s</th><th>-</th><th>arcsec</th><th>erg / (cm2 s)</th><th>erg / (cm2 s)</th><th>erg / (cm2 s)</th><th>erg / (cm2 s)</th><th>erg / (cm2 s)</th><th>erg / (cm2 s)</th><th>erg / s</th><th>arcsec</th><th>-</th><th>-</th><th>-</th><th>-</th><th>-</th><th>Vega</th><th>Vega</th><th>-</th><th>-</th><th>Vega</th><th>Vega</th><th>-</th><th>-</th><th>Vega</th><th>Vega</th><th>-</th><th>-</th><th>arcsec</th><th>-</th><th>-</th><th>-</th><th>-</th><th>-</th><th>-</th><th>-</th><th>-</th><th>-</th><th>-</th><th>-</th><th>-</th><th>-</th><th>-</th><th>-</th><th>-</th><th>-</th><th>-</th><th>arcsec</th><th>-</th><th>W / (Hz m2)</th><th>W / (Hz m2)</th><th>W / (Hz m2)</th><th>W / (Hz m2)</th><th>W / (Hz m2)</th><th>W / (Hz m2)</th><th>W / (Hz m2)</th><th>W / (Hz m2)</th><th>-</th><th>mJy</th><th>-</th><th>arcsec</th></tr></thead>\n",
       "<thead><tr><th>bytes18</th><th>float64</th><th>float64</th><th>int32</th><th>int16</th><th>int32</th><th>int16</th><th>bytes4</th><th>float64</th><th>float64</th><th>bytes4</th><th>float64</th><th>float64</th><th>float64</th><th>int16</th><th>float64</th><th>float64</th><th>float64</th><th>int64</th><th>int64</th><th>int64</th><th>int64</th><th>int64</th><th>int64</th><th>int16</th><th>int16</th><th>int16</th><th>int32</th><th>int32</th><th>int32</th><th>bytes1</th><th>float64</th><th>float64</th><th>int16</th><th>bytes1</th><th>int16</th><th>int16</th><th>bytes1</th><th>float64</th><th>float64</th><th>float64</th><th>float64</th><th>float64</th><th>float64</th><th>float64</th><th>float64</th><th>float64</th><th>float64</th><th>float64</th><th>float64</th><th>float64</th><th>float64</th><th>float64</th><th>float64</th><th>float64</th><th>float32</th><th>float64</th><th>float64</th><th>float64</th><th>float64</th><th>float64</th><th>float64</th><th>float32</th><th>int16</th><th>float64</th><th>float64</th><th>float32</th><th>int16</th><th>float64</th><th>float64</th><th>float32</th><th>int16</th><th>float64</th><th>float64</th><th>float64</th><th>float64</th><th>float64</th><th>float64</th><th>float64</th><th>float64</th><th>float64</th><th>float64</th><th>float64</th><th>float64</th><th>float64</th><th>float64</th><th>float64</th><th>float64</th><th>float64</th><th>bytes4</th><th>bytes4</th><th>float64</th><th>float32</th><th>float64</th><th>float64</th><th>float64</th><th>float64</th><th>float64</th><th>float64</th><th>float64</th><th>float64</th><th>int16</th><th>float64</th><th>float64</th><th>float64</th></tr></thead>\n",
       "<tr><td>000000.45+174625.4</td><td>0.001898274356335605</td><td>17.773739123771385</td><td>268270422</td><td>7596</td><td>56945</td><td>162</td><td>BOSS</td><td>2.309</td><td>0.0</td><td>VI</td><td>2.309000015258789</td><td>2.307750701904297</td><td>0.0010300044668838382</td><td>0</td><td>2.3045657000000004</td><td>-1.0</td><td>-1.0</td><td>0</td><td>0</td><td>0</td><td>0</td><td>4096</td><td>0</td><td>0</td><td>1</td><td>1</td><td>0 .. -1</td><td>0 .. -1</td><td>0 .. -1</td><td>- .. -</td><td>0.0</td><td>0.0</td><td>0</td><td>-</td><td>0</td><td>0</td><td>-</td><td>1.0379366874694824 .. 2.631136417388916</td><td>12.372532844543457 .. 0.8706143498420715</td><td>22.440338134765625 .. 21.372461318969727</td><td>0.2871243953704834 .. 0.38545534014701843</td><td>-24.410782</td><td>0.12021728605031967 .. 0.03581845760345459</td><td>0.0</td><td>0.0</td><td>-1.0</td><td>nan</td><td>nan</td><td>nan</td><td>nan</td><td>nan</td><td>nan</td><td>nan</td><td>nan</td><td>1.0</td><td>0.30231887102127075</td><td>8.785573140381722</td><td>0.7275648713111877</td><td>4.537358964921044</td><td>nan</td><td>nan</td><td>nan</td><td>-1</td><td>nan</td><td>nan</td><td>nan</td><td>-1</td><td>nan</td><td>nan</td><td>nan</td><td>-1</td><td>nan</td><td>nan</td><td>nan</td><td>nan</td><td>nan</td><td>nan</td><td>nan</td><td>nan</td><td>nan</td><td>nan</td><td>nan</td><td>nan</td><td>nan</td><td>nan</td><td>nan</td><td>nan</td><td>nan</td><td></td><td></td><td>nan</td><td>0.0</td><td>0.0</td><td>0.0</td><td>0.0</td><td>0.0</td><td>0.0</td><td>0.0</td><td>0.0</td><td>0.0</td><td>-1</td><td>-1.0</td><td>-1.0</td><td>-1.0</td></tr>\n",
       "<tr><td>000000.57+055630.8</td><td>0.0023754761888312714</td><td>5.941903005523435</td><td>163544156</td><td>8740</td><td>57367</td><td>694</td><td>BOSS</td><td>2.1031202999999996</td><td>0.0</td><td>AUTO</td><td>-1.0</td><td>2.1031203269958496</td><td>0.0009241577354259787</td><td>0</td><td>2.0996384999999997</td><td>2.0983490000000002</td><td>2.0983490000000002</td><td>0</td><td>0</td><td>0</td><td>0</td><td>2048</td><td>0</td><td>0</td><td>0</td><td>0</td><td>-1 .. -1</td><td>-1 .. -1</td><td>-1 .. -1</td><td>- .. -</td><td>0.0</td><td>0.0</td><td>0</td><td>-</td><td>0</td><td>0</td><td>-</td><td>1.1197296380996704 .. 4.730101585388184</td><td>9.196866035461426 .. 0.8192309737205505</td><td>22.360628128051758 .. 20.78717613220215</td><td>0.3101848363876343 .. 0.2420300394296646</td><td>-24.732</td><td>0.2338263988494873 .. 0.06966802477836609</td><td>0.0</td><td>0.0</td><td>-1.0</td><td>nan</td><td>nan</td><td>nan</td><td>nan</td><td>nan</td><td>nan</td><td>nan</td><td>nan</td><td>1.0</td><td>0.0</td><td>0.0</td><td>0.0</td><td>0.0</td><td>nan</td><td>nan</td><td>nan</td><td>-1</td><td>nan</td><td>nan</td><td>nan</td><td>-1</td><td>nan</td><td>nan</td><td>nan</td><td>-1</td><td>nan</td><td>16.969</td><td>0.127</td><td>8.5</td><td>0.9904</td><td>16.887999999999998</td><td>0.409</td><td>2.700000047683716</td><td>1.004</td><td>11.861</td><td>nan</td><td>1.399999976158142</td><td>0.9819</td><td>8.604</td><td>0.127</td><td>0.699999988079071</td><td>0.9478</td><td>hH00</td><td>BCUU</td><td>0.706171</td><td>1.0</td><td>1.2885136657753169e-31</td><td>2.4790984841010035e-32</td><td>1.229889058862803e-31</td><td>4.504542253745802e-32</td><td>1.496424644649041e-31</td><td>4.7290496259357616e-32</td><td>2.4598190249290145e-31</td><td>5.689571920868372e-32</td><td>0</td><td>-1.0</td><td>-1.0</td><td>-1.0</td></tr>\n",
       "<tr><td>000000.66+145828.8</td><td>0.002756432550313548</td><td>14.974675485824303</td><td>244864389</td><td>6177</td><td>56268</td><td>595</td><td>BOSS</td><td>2.497</td><td>0.0</td><td>VI</td><td>2.496999979019165</td><td>2.49796199798584</td><td>0.0008690897957421839</td><td>0</td><td>2.5099661</td><td>-1.0</td><td>-1.0</td><td>2199023255552</td><td>0</td><td>0</td><td>0</td><td>0</td><td>0</td><td>0</td><td>1</td><td>1</td><td>0 .. -1</td><td>0 .. -1</td><td>0 .. -1</td><td>- .. -</td><td>0.0</td><td>0.0</td><td>0</td><td>-</td><td>0</td><td>0</td><td>-</td><td>1.660184383392334 .. 5.348500728607178</td><td>15.485949516296387 .. 0.861799418926239</td><td>21.94196891784668 .. 20.659208297729492</td><td>0.16387343406677246 .. 0.21075020730495453</td><td>-25.664871</td><td>0.16341499984264374 .. 0.048689112067222595</td><td>0.0</td><td>0.0</td><td>-1.0</td><td>nan</td><td>nan</td><td>nan</td><td>nan</td><td>nan</td><td>nan</td><td>nan</td><td>nan</td><td>1.0</td><td>0.04631861299276352</td><td>701.1042837308206</td><td>0.05252976343035698</td><td>384.75096219826605</td><td>nan</td><td>nan</td><td>nan</td><td>-1</td><td>nan</td><td>nan</td><td>nan</td><td>-1</td><td>nan</td><td>nan</td><td>nan</td><td>-1</td><td>nan</td><td>17.5</td><td>0.185</td><td>5.900000095367432</td><td>0.9299</td><td>16.206</td><td>0.211</td><td>5.199999809265137</td><td>0.8249</td><td>12.321</td><td>nan</td><td>0.30000001192092896</td><td>1.149</td><td>8.51</td><td>0.185</td><td>0.699999988079071</td><td>1.036</td><td>0000</td><td>BBUU</td><td>0.495515</td><td>1.0</td><td>1.8603829687921641e-31</td><td>3.147684406018196e-32</td><td>2.310947837572515e-31</td><td>4.565332356351401e-32</td><td>2.355314285756731e-31</td><td>5.970480393631547e-32</td><td>2.427149215733221e-31</td><td>6.521724355219432e-32</td><td>0</td><td>-1.0</td><td>-1.0</td><td>-1.0</td></tr>\n",
       "<tr><td>000001.41+200044.1</td><td>0.005912092570781624</td><td>20.012258452497786</td><td>287103247</td><td>6110</td><td>56279</td><td>86</td><td>BOSS</td><td>3.09</td><td>0.0</td><td>VI</td><td>3.0899999141693115</td><td>3.087897539138794</td><td>-1.0</td><td>0</td><td>3.0928133</td><td>-1.0</td><td>-1.0</td><td>3298534883328</td><td>0</td><td>1024</td><td>0</td><td>0</td><td>0</td><td>0</td><td>2</td><td>2</td><td>0 .. -1</td><td>0 .. -1</td><td>0 .. -1</td><td>- .. -</td><td>2867.2402</td><td>170.6342</td><td>0</td><td>-</td><td>0</td><td>0</td><td>-</td><td>-0.42654621601104736 .. 8.79304027557373</td><td>3.944284200668335 .. 0.4377562999725342</td><td>25.94588279724121 .. 20.132043838500977</td><td>1.0714412927627563 .. 0.1840360164642334</td><td>-26.499355</td><td>0.22385552525520325 .. 0.06669722497463226</td><td>0.0</td><td>0.0</td><td>-1.0</td><td>nan</td><td>nan</td><td>nan</td><td>nan</td><td>nan</td><td>nan</td><td>nan</td><td>nan</td><td>1.0</td><td>-0.363820880651474</td><td>0.739653775774356</td><td>-0.16924284398555756</td><td>30.937609136038464</td><td>nan</td><td>nan</td><td>nan</td><td>-1</td><td>nan</td><td>nan</td><td>nan</td><td>-1</td><td>nan</td><td>nan</td><td>nan</td><td>-1</td><td>nan</td><td>16.968</td><td>0.119</td><td>9.100000381469727</td><td>1.077</td><td>16.035</td><td>0.189</td><td>5.699999809265137</td><td>0.9322</td><td>12.16</td><td>0.35</td><td>3.0999999046325684</td><td>0.9644</td><td>9.056</td><td>0.119</td><td>-0.30000001192092896</td><td>1.072</td><td>0000</td><td>BBBU</td><td>1.256771</td><td>0.0</td><td>0.0</td><td>0.0</td><td>0.0</td><td>0.0</td><td>0.0</td><td>0.0</td><td>0.0</td><td>0.0</td><td>-1</td><td>-1.0</td><td>-1.0</td><td>-1.0</td></tr>\n",
       "<tr><td>000001.56+203011.5</td><td>0.006523300778837893</td><td>20.503197214870518</td><td>290594773</td><td>7596</td><td>56945</td><td>821</td><td>BOSS</td><td>2.0832148</td><td>0.0</td><td>AUTO</td><td>-1.0</td><td>2.0832147598266597</td><td>0.0005314253503456712</td><td>0</td><td>2.0791096999999996</td><td>2.0791676</td><td>2.0791676</td><td>0</td><td>0</td><td>0</td><td>0</td><td>1024</td><td>0</td><td>0</td><td>0</td><td>0</td><td>-1 .. -1</td><td>-1 .. -1</td><td>-1 .. -1</td><td>- .. -</td><td>0.0</td><td>0.0</td><td>0</td><td>-</td><td>0</td><td>0</td><td>-</td><td>2.6177845001220703 .. 5.1968607902526855</td><td>4.777221202850342 .. 0.6618689298629761</td><td>21.45207405090332 .. 20.689273834228516</td><td>0.1886829137802124 .. 0.24698099493980408</td><td>-24.943636</td><td>0.44006621837615967 .. 0.13111668825149536</td><td>0.0</td><td>0.0</td><td>-1.0</td><td>nan</td><td>nan</td><td>nan</td><td>nan</td><td>nan</td><td>nan</td><td>nan</td><td>nan</td><td>1.0</td><td>0.12421373277902605</td><td>1.4972128301197112</td><td>0.4399522244930267</td><td>3.3870039804910115</td><td>nan</td><td>nan</td><td>nan</td><td>-1</td><td>nan</td><td>nan</td><td>nan</td><td>-1</td><td>nan</td><td>nan</td><td>nan</td><td>-1</td><td>nan</td><td>nan</td><td>nan</td><td>nan</td><td>nan</td><td>nan</td><td>nan</td><td>nan</td><td>nan</td><td>nan</td><td>nan</td><td>nan</td><td>nan</td><td>nan</td><td>nan</td><td>nan</td><td>nan</td><td></td><td></td><td>nan</td><td>0.0</td><td>0.0</td><td>0.0</td><td>0.0</td><td>0.0</td><td>0.0</td><td>0.0</td><td>0.0</td><td>0.0</td><td>-1</td><td>-1.0</td><td>-1.0</td><td>-1.0</td></tr>\n",
       "<tr><td>000001.63+303109.6</td><td>0.006818797719915892</td><td>30.519356120921465</td><td>373839246</td><td>6498</td><td>56565</td><td>177</td><td>BOSS</td><td>2.377</td><td>0.0</td><td>VI</td><td>2.377000093460083</td><td>2.3736331462860107</td><td>0.0004984131664969027</td><td>0</td><td>2.385122</td><td>2.380129</td><td>2.380129</td><td>3298535407616</td><td>0</td><td>0</td><td>0</td><td>0</td><td>0</td><td>0</td><td>1</td><td>1</td><td>0 .. -1</td><td>0 .. -1</td><td>0 .. -1</td><td>- .. -</td><td>0.0</td><td>0.0</td><td>0</td><td>-</td><td>0</td><td>0</td><td>-</td><td>0.8643057346343994 .. 3.282501220703125</td><td>32.162330627441406 .. 1.7680301666259766</td><td>22.630905151367188 .. 21.15809440612793</td><td>0.21072298288345337 .. 0.22677209973335266</td><td>-24.588036</td><td>0.20482011139392853 .. 0.061025671660900116</td><td>0.0</td><td>0.0</td><td>-1.0</td><td>nan</td><td>nan</td><td>nan</td><td>nan</td><td>nan</td><td>nan</td><td>nan</td><td>nan</td><td>1.0</td><td>0.047141242772340775</td><td>29.392266606517573</td><td>0.3764856457710266</td><td>8.347144602579759</td><td>nan</td><td>nan</td><td>nan</td><td>-1</td><td>nan</td><td>nan</td><td>nan</td><td>-1</td><td>nan</td><td>nan</td><td>nan</td><td>-1</td><td>nan</td><td>nan</td><td>nan</td><td>nan</td><td>nan</td><td>nan</td><td>nan</td><td>nan</td><td>nan</td><td>nan</td><td>nan</td><td>nan</td><td>nan</td><td>nan</td><td>nan</td><td>nan</td><td>nan</td><td></td><td></td><td>nan</td><td>0.0</td><td>0.0</td><td>0.0</td><td>0.0</td><td>0.0</td><td>0.0</td><td>0.0</td><td>0.0</td><td>0.0</td><td>-1</td><td>-1.0</td><td>-1.0</td><td>-1.0</td></tr>\n",
       "<tr><td>000001.64+003459.4</td><td>0.006855391014397583</td><td>0.5831838070349057</td><td>107544612</td><td>7848</td><td>56959</td><td>928</td><td>BOSS</td><td>2.2711023999999997</td><td>0.0</td><td>AUTO</td><td>-1.0</td><td>2.2711024284362797</td><td>0.00029374161385931075</td><td>0</td><td>2.2663342999999996</td><td>2.26762</td><td>2.26762</td><td>0</td><td>0</td><td>0</td><td>0</td><td>512</td><td>0</td><td>0</td><td>0</td><td>0</td><td>-1 .. -1</td><td>-1 .. -1</td><td>-1 .. -1</td><td>- .. -</td><td>0.0</td><td>0.0</td><td>0</td><td>-</td><td>0</td><td>0</td><td>-</td><td>0.18782053887844086 .. 1.0694701671600342</td><td>30.572063446044922 .. 3.2225606441497803</td><td>23.95221710205078 .. 22.09828758239746</td><td>0.5824068784713745 .. 0.3312303423881531</td><td>-24.261814</td><td>0.11183899641036987 .. 0.03332216665148735</td><td>0.0</td><td>0.0</td><td>-1.0</td><td>nan</td><td>nan</td><td>nan</td><td>nan</td><td>nan</td><td>nan</td><td>nan</td><td>nan</td><td>2.0</td><td>-0.03046761080622673</td><td>1145.3572931280976</td><td>0.12451523542404175</td><td>37.24534565782389</td><td>nan</td><td>nan</td><td>nan</td><td>-1</td><td>nan</td><td>nan</td><td>nan</td><td>-1</td><td>nan</td><td>nan</td><td>nan</td><td>-1</td><td>nan</td><td>nan</td><td>nan</td><td>nan</td><td>nan</td><td>nan</td><td>nan</td><td>nan</td><td>nan</td><td>nan</td><td>nan</td><td>nan</td><td>nan</td><td>nan</td><td>nan</td><td>nan</td><td>nan</td><td></td><td></td><td>nan</td><td>0.0</td><td>0.0</td><td>0.0</td><td>0.0</td><td>0.0</td><td>0.0</td><td>0.0</td><td>0.0</td><td>0.0</td><td>0</td><td>-1.0</td><td>-1.0</td><td>-1.0</td></tr>\n",
       "<tr><td>000001.81+141150.5</td><td>0.007578550192420154</td><td>14.197385436316592</td><td>237177970</td><td>6177</td><td>56268</td><td>608</td><td>BOSS</td><td>3.7110000000000003</td><td>0.0</td><td>VI</td><td>3.7109999656677246</td><td>3.7117843627929688</td><td>0.0006505508790723983</td><td>0</td><td>3.7220237000000003</td><td>-1.0</td><td>-1.0</td><td>2199023255552</td><td>0</td><td>0</td><td>0</td><td>0</td><td>0</td><td>0</td><td>0</td><td>0</td><td>-1 .. -1</td><td>-1 .. -1</td><td>-1 .. -1</td><td>- .. -</td><td>0.0</td><td>0.0</td><td>0</td><td>-</td><td>0</td><td>0</td><td>-</td><td>-0.2515270709991455 .. 4.488283157348633</td><td>16.394065856933594 .. 1.0866059064865112</td><td>25.511531829833984 .. 20.841421127319336</td><td>0.7124401330947876 .. 0.22039131820201874</td><td>-26.63237</td><td>0.24081189930438995 .. 0.07174933701753616</td><td>0.0</td><td>0.0</td><td>-1.0</td><td>nan</td><td>nan</td><td>nan</td><td>nan</td><td>nan</td><td>nan</td><td>nan</td><td>nan</td><td>1.0</td><td>-0.10591911524534224</td><td>294.57753699891174</td><td>-0.06454353034496307</td><td>246.27792357057652</td><td>nan</td><td>nan</td><td>nan</td><td>-1</td><td>nan</td><td>nan</td><td>nan</td><td>-1</td><td>nan</td><td>nan</td><td>nan</td><td>-1</td><td>nan</td><td>17.221</td><td>0.14800000000000002</td><td>7.300000190734863</td><td>0.9375</td><td>17.116</td><td>0.4920000000000001</td><td>2.200000047683716</td><td>0.8113</td><td>12.361</td><td>nan</td><td>0.10000000149011612</td><td>0.8645</td><td>8.701</td><td>0.14800000000000002</td><td>-0.20000000298023224</td><td>0.8814</td><td>0000</td><td>BCUU</td><td>0.724597</td><td>1.0</td><td>2.2453359746892787e-31</td><td>5.508096164252549e-32</td><td>2.2171520870350925e-31</td><td>3.7478921154216437e-32</td><td>1.7926857789305685e-31</td><td>6.573567770320923e-32</td><td>2.6942429262372303e-31</td><td>6.276590877529181e-32</td><td>0</td><td>-1.0</td><td>-1.0</td><td>-1.0</td></tr>\n",
       "<tr><td>000002.20+114148.5</td><td>0.009191302171927871</td><td>11.696819998933652</td><td>216253507</td><td>6182</td><td>56190</td><td>652</td><td>BOSS</td><td>2.559</td><td>0.0</td><td>VI</td><td>2.559000015258789</td><td>2.545538663864136</td><td>0.0006021891604177654</td><td>0</td><td>2.5550947</td><td>-1.0</td><td>-1.0</td><td>0</td><td>0</td><td>1024</td><td>0</td><td>0</td><td>0</td><td>0</td><td>0</td><td>0</td><td>-1 .. -1</td><td>-1 .. -1</td><td>-1 .. -1</td><td>- .. -</td><td>0.0</td><td>0.0</td><td>0</td><td>-</td><td>0</td><td>0</td><td>-</td><td>2.6512045860290527 .. 10.317191123962402</td><td>7.4088239669799805 .. 0.9827603697776794</td><td>21.438377380371094 .. 19.960554122924805</td><td>0.14962279796600342 .. 0.10507900267839432</td><td>-26.29607</td><td>0.38205835223197937 .. 0.11383338272571564</td><td>0.0</td><td>0.0</td><td>-1.0</td><td>nan</td><td>nan</td><td>nan</td><td>nan</td><td>nan</td><td>nan</td><td>nan</td><td>nan</td><td>1.0</td><td>0.03737923875451088</td><td>4.4626409253510095</td><td>0.7012360095977783</td><td>9.303091420674447</td><td>nan</td><td>nan</td><td>nan</td><td>-1</td><td>nan</td><td>nan</td><td>nan</td><td>-1</td><td>nan</td><td>nan</td><td>nan</td><td>-1</td><td>nan</td><td>16.566</td><td>0.099</td><td>11.0</td><td>0.944</td><td>16.492</td><td>nan</td><td>1.600000023841858</td><td>0.8646</td><td>12.115</td><td>nan</td><td>0.8999999761581421</td><td>0.9463</td><td>8.23</td><td>0.099</td><td>1.399999976158142</td><td>0.9361</td><td>hHd0</td><td>AUUU</td><td>0.679408</td><td>1.0</td><td>3.0802000394088165e-31</td><td>2.976424283058195e-32</td><td>1.7870805516681073e-31</td><td>5.701621325711477e-32</td><td>3.809273374136272e-31</td><td>6.199369127140613e-32</td><td>3.1782694172080884e-31</td><td>7.115068646982017e-32</td><td>0</td><td>-1.0</td><td>-1.0</td><td>-1.0</td></tr>\n",
       "<tr><td>...</td><td>...</td><td>...</td><td>...</td><td>...</td><td>...</td><td>...</td><td>...</td><td>...</td><td>...</td><td>...</td><td>...</td><td>...</td><td>...</td><td>...</td><td>...</td><td>...</td><td>...</td><td>...</td><td>...</td><td>...</td><td>...</td><td>...</td><td>...</td><td>...</td><td>...</td><td>...</td><td>...</td><td>...</td><td>...</td><td>...</td><td>...</td><td>...</td><td>...</td><td>...</td><td>...</td><td>...</td><td>...</td><td>...</td><td>...</td><td>...</td><td>...</td><td>...</td><td>...</td><td>...</td><td>...</td><td>...</td><td>...</td><td>...</td><td>...</td><td>...</td><td>...</td><td>...</td><td>...</td><td>...</td><td>...</td><td>...</td><td>...</td><td>...</td><td>...</td><td>...</td><td>...</td><td>...</td><td>...</td><td>...</td><td>...</td><td>...</td><td>...</td><td>...</td><td>...</td><td>...</td><td>...</td><td>...</td><td>...</td><td>...</td><td>...</td><td>...</td><td>...</td><td>...</td><td>...</td><td>...</td><td>...</td><td>...</td><td>...</td><td>...</td><td>...</td><td>...</td><td>...</td><td>...</td><td>...</td><td>...</td><td>...</td><td>...</td><td>...</td><td>...</td><td>...</td><td>...</td><td>...</td><td>...</td><td>...</td><td>...</td><td>...</td><td>...</td><td>...</td><td>...</td></tr>\n",
       "<tr><td>235959.10+024906.7</td><td>359.9962697789151</td><td>2.818551902464084</td><td>136400676</td><td>4277</td><td>55506</td><td>138</td><td>BOSS</td><td>2.398</td><td>0.0</td><td>VI</td><td>2.3980000019073486</td><td>2.390223741531372</td><td>0.0018055354012176394</td><td>0</td><td>2.3853009999999997</td><td>2.3840057999999997</td><td>2.3840057999999997</td><td>16492675088384</td><td>0</td><td>0</td><td>0</td><td>0</td><td>0</td><td>0</td><td>1</td><td>1</td><td>0 .. -1</td><td>0 .. -1</td><td>0 .. -1</td><td>- .. -</td><td>0.0</td><td>0.0</td><td>0</td><td>-</td><td>0</td><td>0</td><td>-</td><td>2.702700614929199 .. 5.723132133483887</td><td>9.194402694702148 .. 0.9545406699180603</td><td>21.417604446411133 .. 20.58820343017578</td><td>0.13177905976772308 .. 0.18799088895320892</td><td>-25.483221</td><td>0.08995088934898376 .. 0.02680065669119358</td><td>0.0</td><td>0.0</td><td>-1.0</td><td>nan</td><td>nan</td><td>nan</td><td>nan</td><td>nan</td><td>nan</td><td>nan</td><td>nan</td><td>1.0</td><td>-0.22469191253185272</td><td>7.74585769657077</td><td>-0.2523953318595886</td><td>2.8225939198169554</td><td>nan</td><td>nan</td><td>nan</td><td>-1</td><td>nan</td><td>nan</td><td>nan</td><td>-1</td><td>nan</td><td>nan</td><td>nan</td><td>-1</td><td>nan</td><td>17.131</td><td>0.132</td><td>8.199999809265137</td><td>1.031</td><td>15.982</td><td>0.177</td><td>6.099999904632568</td><td>0.926</td><td>12.173</td><td>nan</td><td>0.8999999761581421</td><td>0.8382</td><td>9.13</td><td>0.132</td><td>-0.5</td><td>0.9036</td><td>0000</td><td>BBUU</td><td>1.7803060000000002</td><td>1.0</td><td>3.0034941547161063e-32</td><td>2.8986136099998653e-32</td><td>3.00285968164025e-32</td><td>3.413805159848029e-32</td><td>1.3188882047016946e-31</td><td>5.253638665371576e-32</td><td>3.051563116231824e-31</td><td>6.039398451925909e-32</td><td>0</td><td>-1.0</td><td>-1.0</td><td>-1.0</td></tr>\n",
       "<tr><td>235959.37+294704.4</td><td>359.99739206407736</td><td>29.784564234733445</td><td>368262933</td><td>7134</td><td>56566</td><td>436</td><td>BOSS</td><td>2.199</td><td>0.0</td><td>VI</td><td>2.1989998817443848</td><td>2.181215047836304</td><td>0.0004703309386968613</td><td>0</td><td>2.1907961</td><td>-1.0</td><td>-1.0</td><td>2199023796224</td><td>0</td><td>0</td><td>0</td><td>0</td><td>0</td><td>0</td><td>0</td><td>0</td><td>-1 .. -1</td><td>-1 .. -1</td><td>-1 .. -1</td><td>- .. -</td><td>0.0</td><td>0.0</td><td>0</td><td>-</td><td>0</td><td>0</td><td>-</td><td>1.0647767782211304 .. 6.463043212890625</td><td>14.938095092773438 .. 1.1025470495224</td><td>22.41355323791504 .. 20.459945678710938</td><td>0.25515177845954895 .. 0.15595178306102753</td><td>-24.984957</td><td>0.21776767075061798 .. 0.06488335877656937</td><td>0.0</td><td>0.0</td><td>-1.0</td><td>nan</td><td>nan</td><td>nan</td><td>nan</td><td>nan</td><td>nan</td><td>nan</td><td>nan</td><td>1.0</td><td>0.0</td><td>0.0</td><td>0.0</td><td>0.0</td><td>nan</td><td>nan</td><td>nan</td><td>-1</td><td>nan</td><td>nan</td><td>nan</td><td>-1</td><td>nan</td><td>nan</td><td>nan</td><td>-1</td><td>nan</td><td>17.34</td><td>0.122</td><td>8.899999618530273</td><td>0.945</td><td>16.778</td><td>nan</td><td>1.2999999523162842</td><td>0.8594</td><td>11.872</td><td>nan</td><td>1.7000000476837158</td><td>1.02</td><td>9.207</td><td>0.122</td><td>-1.2000000476837158</td><td>0.9891</td><td>0000</td><td>BUUU</td><td>0.29757100000000003</td><td>0.0</td><td>0.0</td><td>0.0</td><td>0.0</td><td>0.0</td><td>0.0</td><td>0.0</td><td>0.0</td><td>0.0</td><td>-1</td><td>-1.0</td><td>-1.0</td><td>-1.0</td></tr>\n",
       "<tr><td>235959.44+263405.3</td><td>359.99769282893476</td><td>26.568164704179605</td><td>342283047</td><td>7666</td><td>57339</td><td>828</td><td>BOSS</td><td>2.0197597</td><td>0.0</td><td>AUTO</td><td>-1.0</td><td>2.0197596549987797</td><td>0.0005614236579276621</td><td>0</td><td>2.0315883</td><td>2.022966</td><td>2.022966</td><td>0</td><td>0</td><td>0</td><td>0</td><td>1024</td><td>0</td><td>0</td><td>0</td><td>0</td><td>-1 .. -1</td><td>-1 .. -1</td><td>-1 .. -1</td><td>- .. -</td><td>0.0</td><td>0.0</td><td>0</td><td>-</td><td>0</td><td>0</td><td>-</td><td>4.346867561340332 .. 7.0989861488342285</td><td>9.070478439331055 .. 0.729953944683075</td><td>20.90343475341797 .. 20.36039924621582</td><td>0.08276251703500748 .. 0.1752433329820633</td><td>-25.085508</td><td>0.18699200451374054 .. 0.05571382865309715</td><td>0.0</td><td>0.0</td><td>-1.0</td><td>nan</td><td>nan</td><td>nan</td><td>nan</td><td>nan</td><td>nan</td><td>nan</td><td>nan</td><td>1.0</td><td>-0.1805021911859513</td><td>23.025656835049137</td><td>1.3893449306488037</td><td>2.107064421186419</td><td>nan</td><td>nan</td><td>nan</td><td>-1</td><td>nan</td><td>nan</td><td>nan</td><td>-1</td><td>nan</td><td>nan</td><td>nan</td><td>-1</td><td>nan</td><td>17.752</td><td>0.21</td><td>5.199999809265137</td><td>0.9512</td><td>16.384</td><td>0.26</td><td>4.199999809265137</td><td>0.8141</td><td>12.397</td><td>nan</td><td>0.10000000149011612</td><td>0.9768</td><td>8.652000000000001</td><td>0.21</td><td>-2.0999999046325684</td><td>0.8254</td><td>0000</td><td>BBUU</td><td>0.409379</td><td>0.0</td><td>0.0</td><td>0.0</td><td>0.0</td><td>0.0</td><td>0.0</td><td>0.0</td><td>0.0</td><td>0.0</td><td>-1</td><td>-1.0</td><td>-1.0</td><td>-1.0</td></tr>\n",
       "<tr><td>235959.70+084505.2</td><td>359.99877436139883</td><td>8.751452235361512</td><td>190787316</td><td>6152</td><td>56164</td><td>12</td><td>BOSS</td><td>2.205</td><td>0.0</td><td>VI</td><td>2.2049999237060547</td><td>2.1861588954925537</td><td>0.0005236854776740074</td><td>0</td><td>2.2050369</td><td>2.2072399</td><td>2.2072399</td><td>2199023779840</td><td>0</td><td>0</td><td>0</td><td>0</td><td>0</td><td>0</td><td>0</td><td>0</td><td>-1 .. -1</td><td>-1 .. -1</td><td>-1 .. -1</td><td>- .. -</td><td>0.0</td><td>0.0</td><td>0</td><td>-</td><td>0</td><td>0</td><td>-</td><td>10.209931373596191 .. 33.29141616821289</td><td>1.9940565824508667 .. 0.5809568762779236</td><td>19.97723960876465 .. 18.693634033203125</td><td>0.07527824491262436 .. 0.042745593935251236</td><td>-27.205271000000003</td><td>0.2600480318069458 .. 0.07748069614171982</td><td>0.0</td><td>0.0</td><td>-1.0</td><td>nan</td><td>nan</td><td>nan</td><td>nan</td><td>nan</td><td>nan</td><td>nan</td><td>nan</td><td>1.0</td><td>-0.012690875679254532</td><td>4.967534234447898</td><td>0.4558853209018707</td><td>25.000072736504702</td><td>nan</td><td>nan</td><td>nan</td><td>-1</td><td>nan</td><td>nan</td><td>nan</td><td>-1</td><td>nan</td><td>nan</td><td>nan</td><td>-1</td><td>nan</td><td>15.836</td><td>0.051</td><td>21.399999618530273</td><td>0.9278</td><td>14.646</td><td>0.06</td><td>18.0</td><td>0.9767</td><td>11.143</td><td>0.171</td><td>6.400000095367432</td><td>0.9539</td><td>9.072</td><td>0.051</td><td>2.0</td><td>0.9777</td><td>0000</td><td>AABC</td><td>0.344997</td><td>0.0</td><td>0.0</td><td>0.0</td><td>0.0</td><td>0.0</td><td>0.0</td><td>0.0</td><td>0.0</td><td>0.0</td><td>0</td><td>-1.0</td><td>-1.0</td><td>-1.0</td></tr>\n",
       "<tr><td>235959.71+255838.4</td><td>359.99883155522065</td><td>25.977356307449146</td><td>336778739</td><td>7666</td><td>57339</td><td>844</td><td>BOSS</td><td>3.3075193999999994</td><td>0.0</td><td>AUTO</td><td>-1.0</td><td>3.3075194358825684</td><td>0.002343666972592473</td><td>0</td><td>3.158866</td><td>-1.0</td><td>-1.0</td><td>0</td><td>0</td><td>0</td><td>0</td><td>1024</td><td>0</td><td>0</td><td>0</td><td>0</td><td>-1 .. -1</td><td>-1 .. -1</td><td>-1 .. -1</td><td>- .. -</td><td>0.0</td><td>0.0</td><td>0</td><td>-</td><td>0</td><td>0</td><td>-</td><td>0.4287842810153961 .. 2.2631523609161377</td><td>29.013948440551758 .. 2.113093376159668</td><td>23.318723678588867 .. 21.512279510498047</td><td>0.39360281825065613 .. 0.27620986104011536</td><td>-24.760565</td><td>0.17487069964408875 .. 0.052102312445640564</td><td>0.0</td><td>0.0</td><td>-1.0</td><td>nan</td><td>nan</td><td>nan</td><td>nan</td><td>nan</td><td>nan</td><td>nan</td><td>nan</td><td>1.0</td><td>-0.1665298044681549</td><td>66.92186340057647</td><td>0.14324310421943665</td><td>0.463262848261377</td><td>nan</td><td>nan</td><td>nan</td><td>-1</td><td>nan</td><td>nan</td><td>nan</td><td>-1</td><td>nan</td><td>nan</td><td>nan</td><td>-1</td><td>nan</td><td>nan</td><td>nan</td><td>nan</td><td>nan</td><td>nan</td><td>nan</td><td>nan</td><td>nan</td><td>nan</td><td>nan</td><td>nan</td><td>nan</td><td>nan</td><td>nan</td><td>nan</td><td>nan</td><td></td><td></td><td>nan</td><td>0.0</td><td>0.0</td><td>0.0</td><td>0.0</td><td>0.0</td><td>0.0</td><td>0.0</td><td>0.0</td><td>0.0</td><td>-1</td><td>-1.0</td><td>-1.0</td><td>-1.0</td></tr>\n",
       "<tr><td>235959.74+100700.4</td><td>359.99892231843813</td><td>10.116800342372995</td><td>202268211</td><td>6182</td><td>56190</td><td>380</td><td>BOSS</td><td>2.415</td><td>0.0</td><td>VI</td><td>2.414999961853028</td><td>2.4158482551574707</td><td>0.0004391265101730824</td><td>0</td><td>2.4162044999999996</td><td>2.394154</td><td>2.394154</td><td>2199023255552</td><td>0</td><td>0</td><td>0</td><td>0</td><td>0</td><td>0</td><td>0</td><td>0</td><td>-1 .. -1</td><td>-1 .. -1</td><td>-1 .. -1</td><td>- .. -</td><td>0.0</td><td>0.0</td><td>0</td><td>-</td><td>0</td><td>0</td><td>-</td><td>0.13701799511909485 .. 2.3733279705047607</td><td>8.572785377502441 .. 0.8092840313911438</td><td>24.122575759887695 .. 21.46878433227539</td><td>1.1895657777786255 .. 0.43150395154953003</td><td>-25.087162</td><td>0.39340513944625854 .. 0.117214135825634</td><td>0.0</td><td>0.0</td><td>-1.0</td><td>nan</td><td>nan</td><td>nan</td><td>nan</td><td>nan</td><td>nan</td><td>nan</td><td>nan</td><td>1.0</td><td>0.8168631196022034</td><td>5.3016064747843945</td><td>0.18351194262504572</td><td>7.803975152448138</td><td>nan</td><td>nan</td><td>nan</td><td>-1</td><td>nan</td><td>nan</td><td>nan</td><td>-1</td><td>nan</td><td>nan</td><td>nan</td><td>-1</td><td>nan</td><td>nan</td><td>nan</td><td>nan</td><td>nan</td><td>nan</td><td>nan</td><td>nan</td><td>nan</td><td>nan</td><td>nan</td><td>nan</td><td>nan</td><td>nan</td><td>nan</td><td>nan</td><td>nan</td><td></td><td></td><td>nan</td><td>1.0</td><td>1.1244376940898019e-31</td><td>2.6793083880594683e-32</td><td>1.4119519749068605e-31</td><td>3.7041008366232856e-32</td><td>1.6103698965022135e-31</td><td>5.596675541058764e-32</td><td>1.9354891819975573e-31</td><td>5.194566547759703e-32</td><td>0</td><td>-1.0</td><td>-1.0</td><td>-1.0</td></tr>\n",
       "<tr><td>235959.78+285717.0</td><td>359.9991177907408</td><td>28.95473424342157</td><td>360831416</td><td>6511</td><td>56540</td><td>912</td><td>BOSS</td><td>2.452</td><td>0.0</td><td>VI</td><td>2.45199990272522</td><td>2.4509875774383545</td><td>0.0006248197169043124</td><td>0</td><td>2.4450705000000004</td><td>-1.0</td><td>-1.0</td><td>3298535424000</td><td>0</td><td>0</td><td>0</td><td>0</td><td>0</td><td>0</td><td>1</td><td>1</td><td>0 .. -1</td><td>0 .. -1</td><td>0 .. -1</td><td>- .. -</td><td>0.0</td><td>0.0</td><td>0</td><td>-</td><td>0</td><td>0</td><td>-</td><td>1.4106802940368652 .. 4.767739295959473</td><td>29.066919326782227 .. 2.151970863342285</td><td>22.115888595581055 .. 20.778961181640625</td><td>0.14002498984336853 .. 0.14825759828090668</td><td>-25.083122</td><td>0.23128443956375122 .. 0.06891065090894699</td><td>0.0</td><td>0.0</td><td>-1.0</td><td>nan</td><td>nan</td><td>nan</td><td>nan</td><td>nan</td><td>nan</td><td>nan</td><td>nan</td><td>1.0</td><td>0.012952172197401524</td><td>9.38362862573936</td><td>0.5922036170959473</td><td>0.3776120550528195</td><td>nan</td><td>nan</td><td>nan</td><td>-1</td><td>nan</td><td>nan</td><td>nan</td><td>-1</td><td>nan</td><td>nan</td><td>nan</td><td>-1</td><td>nan</td><td>17.312</td><td>0.122</td><td>8.899999618530273</td><td>0.9385</td><td>16.092</td><td>0.172</td><td>6.300000190734863</td><td>0.9008</td><td>12.012</td><td>nan</td><td>1.399999976158142</td><td>1.01</td><td>8.572000000000001</td><td>0.122</td><td>1.600000023841858</td><td>0.999</td><td>0000</td><td>BBUU</td><td>1.948948</td><td>0.0</td><td>0.0</td><td>0.0</td><td>0.0</td><td>0.0</td><td>0.0</td><td>0.0</td><td>0.0</td><td>0.0</td><td>-1</td><td>-1.0</td><td>-1.0</td><td>-1.0</td></tr>\n",
       "<tr><td>235959.83+344315.0</td><td>359.9993034693268</td><td>34.720842482815726</td><td>401165277</td><td>7145</td><td>56567</td><td>240</td><td>BOSS</td><td>3.109</td><td>0.0</td><td>VI</td><td>3.108999967575073</td><td>3.1135237216949463</td><td>0.00039327019476331765</td><td>0</td><td>3.1030495</td><td>-1.0</td><td>-1.0</td><td>3298535424000</td><td>0</td><td>0</td><td>0</td><td>0</td><td>0</td><td>0</td><td>0</td><td>0</td><td>-1 .. -1</td><td>-1 .. -1</td><td>-1 .. -1</td><td>- .. -</td><td>0.0</td><td>0.0</td><td>0</td><td>-</td><td>0</td><td>0</td><td>-</td><td>0.26430341601371765 .. 15.253443717956543</td><td>27.282411575317383 .. 1.2617765665054321</td><td>23.72138786315918 .. 19.539033889770508</td><td>0.5398540496826172 .. 0.063071109354496</td><td>-27.310951</td><td>0.3354918956756592 .. 0.09995901584625244</td><td>0.0</td><td>0.0</td><td>-1.0</td><td>nan</td><td>nan</td><td>nan</td><td>nan</td><td>nan</td><td>nan</td><td>nan</td><td>nan</td><td>1.0</td><td>-0.17406196892261505</td><td>21.936797353156877</td><td>0.14728955924510956</td><td>7.039888551569028</td><td>nan</td><td>nan</td><td>nan</td><td>-1</td><td>nan</td><td>nan</td><td>nan</td><td>-1</td><td>nan</td><td>nan</td><td>nan</td><td>-1</td><td>nan</td><td>nan</td><td>nan</td><td>nan</td><td>nan</td><td>nan</td><td>nan</td><td>nan</td><td>nan</td><td>nan</td><td>nan</td><td>nan</td><td>nan</td><td>nan</td><td>nan</td><td>nan</td><td>nan</td><td></td><td></td><td>nan</td><td>0.0</td><td>0.0</td><td>0.0</td><td>0.0</td><td>0.0</td><td>0.0</td><td>0.0</td><td>0.0</td><td>0.0</td><td>-1</td><td>-1.0</td><td>-1.0</td><td>-1.0</td></tr>\n",
       "<tr><td>235959.94+204315.8</td><td>359.9997591000248</td><td>20.72107938656721</td><td>292309197</td><td>7595</td><td>56957</td><td>259</td><td>BOSS</td><td>2.0099409</td><td>0.0</td><td>AUTO</td><td>-1.0</td><td>2.00994086265564</td><td>0.0005322270444594325</td><td>0</td><td>2.0155287</td><td>2.0139256000000003</td><td>2.0139256000000003</td><td>0</td><td>0</td><td>0</td><td>0</td><td>1024</td><td>0</td><td>0</td><td>0</td><td>0</td><td>-1 .. -1</td><td>-1 .. -1</td><td>-1 .. -1</td><td>- .. -</td><td>0.0</td><td>0.0</td><td>0</td><td>-</td><td>0</td><td>0</td><td>-</td><td>7.154123306274414 .. 11.336148262023926</td><td>5.407712936401367 .. 0.8053292036056519</td><td>20.36319351196289 .. 19.85923957824707</td><td>0.0652121752500534 .. 0.10582835227251053</td><td>-25.787945</td><td>0.2858889698982239 .. 0.08517993986606598</td><td>0.0</td><td>0.0</td><td>-1.0</td><td>nan</td><td>nan</td><td>nan</td><td>nan</td><td>nan</td><td>nan</td><td>nan</td><td>nan</td><td>1.0</td><td>0.08469399809837341</td><td>30.776068553236605</td><td>1.8014731407165527</td><td>89.4015925136389</td><td>nan</td><td>nan</td><td>nan</td><td>-1</td><td>nan</td><td>nan</td><td>nan</td><td>-1</td><td>nan</td><td>nan</td><td>nan</td><td>-1</td><td>nan</td><td>16.896</td><td>0.104</td><td>10.399999618530273</td><td>0.9653</td><td>15.893</td><td>0.16</td><td>6.800000190734863</td><td>1.022</td><td>12.621</td><td>nan</td><td>-2.0</td><td>0.9596</td><td>8.572000000000001</td><td>0.104</td><td>1.2000000476837158</td><td>1.012</td><td>0000</td><td>ABUU</td><td>0.106632</td><td>0.0</td><td>0.0</td><td>0.0</td><td>0.0</td><td>0.0</td><td>0.0</td><td>0.0</td><td>0.0</td><td>0.0</td><td>-1</td><td>-1.0</td><td>-1.0</td><td>-1.0</td></tr>\n",
       "<tr><td>235959.98+344449.6</td><td>359.9999541295649</td><td>34.747133291446325</td><td>401165238</td><td>7145</td><td>56567</td><td>262</td><td>BOSS</td><td>2.375</td><td>0.0</td><td>VI</td><td>2.375</td><td>2.397723913192749</td><td>0.0003489350492600352</td><td>0</td><td>2.3635013</td><td>2.3669076000000002</td><td>2.3669076000000002</td><td>3298535424000</td><td>0</td><td>0</td><td>0</td><td>0</td><td>0</td><td>0</td><td>0</td><td>0</td><td>-1 .. -1</td><td>-1 .. -1</td><td>-1 .. -1</td><td>- .. -</td><td>199.63788</td><td>13.583471</td><td>0</td><td>-</td><td>0</td><td>0</td><td>-</td><td>2.0665082931518555 .. 10.901832580566406</td><td>20.731266021728516 .. 1.3692610263824463</td><td>21.706958770751953 .. 19.901283264160156</td><td>0.11434675753116608 .. 0.08433660119771957</td><td>-26.091427</td><td>0.3320152461528778 .. 0.09892316162586212</td><td>0.0</td><td>0.0</td><td>-1.0</td><td>nan</td><td>nan</td><td>nan</td><td>nan</td><td>nan</td><td>nan</td><td>nan</td><td>nan</td><td>1.0</td><td>-0.353803426027298</td><td>2.7362933480076053</td><td>0.3526000678539276</td><td>0.9934353697992904</td><td>nan</td><td>nan</td><td>nan</td><td>-1</td><td>nan</td><td>nan</td><td>nan</td><td>-1</td><td>nan</td><td>nan</td><td>nan</td><td>-1</td><td>nan</td><td>nan</td><td>nan</td><td>nan</td><td>nan</td><td>nan</td><td>nan</td><td>nan</td><td>nan</td><td>nan</td><td>nan</td><td>nan</td><td>nan</td><td>nan</td><td>nan</td><td>nan</td><td>nan</td><td></td><td></td><td>nan</td><td>0.0</td><td>0.0</td><td>0.0</td><td>0.0</td><td>0.0</td><td>0.0</td><td>0.0</td><td>0.0</td><td>0.0</td><td>-1</td><td>-1.0</td><td>-1.0</td><td>-1.0</td></tr>\n",
       "</table>"
      ],
      "text/plain": [
       "<Table length=203726>\n",
       "    SDSS_NAME                RA          ... FIRST_SNR SDSS2FIRST_SEP\n",
       "        -                   deg          ...     -         arcsec    \n",
       "     bytes18              float64        ...  float64     float64    \n",
       "------------------ --------------------- ... --------- --------------\n",
       "000000.45+174625.4  0.001898274356335605 ...      -1.0           -1.0\n",
       "000000.57+055630.8 0.0023754761888312714 ...      -1.0           -1.0\n",
       "000000.66+145828.8  0.002756432550313548 ...      -1.0           -1.0\n",
       "000001.41+200044.1  0.005912092570781624 ...      -1.0           -1.0\n",
       "000001.56+203011.5  0.006523300778837893 ...      -1.0           -1.0\n",
       "000001.63+303109.6  0.006818797719915892 ...      -1.0           -1.0\n",
       "000001.64+003459.4  0.006855391014397583 ...      -1.0           -1.0\n",
       "000001.81+141150.5  0.007578550192420154 ...      -1.0           -1.0\n",
       "000002.20+114148.5  0.009191302171927871 ...      -1.0           -1.0\n",
       "               ...                   ... ...       ...            ...\n",
       "235959.10+024906.7     359.9962697789151 ...      -1.0           -1.0\n",
       "235959.37+294704.4    359.99739206407736 ...      -1.0           -1.0\n",
       "235959.44+263405.3    359.99769282893476 ...      -1.0           -1.0\n",
       "235959.70+084505.2    359.99877436139883 ...      -1.0           -1.0\n",
       "235959.71+255838.4    359.99883155522065 ...      -1.0           -1.0\n",
       "235959.74+100700.4    359.99892231843813 ...      -1.0           -1.0\n",
       "235959.78+285717.0     359.9991177907408 ...      -1.0           -1.0\n",
       "235959.83+344315.0     359.9993034693268 ...      -1.0           -1.0\n",
       "235959.94+204315.8     359.9997591000248 ...      -1.0           -1.0\n",
       "235959.98+344449.6     359.9999541295649 ...      -1.0           -1.0"
      ]
     },
     "execution_count": 7,
     "metadata": {},
     "output_type": "execute_result"
    }
   ],
   "source": [
    "#select objects with THING_ID>0. Also select the qso's within the zmin, zmax redshift interval, defined so that\n",
    "#we capture many lyman alpha quasars \n",
    "w=(catalog['THING_ID']>0) & (catalog['Z']>2) & (catalog['Z']<4) & (catalog['RA']!=catalog['DEC'])& (catalog['RA']>0) & (catalog['DEC']>0)\n",
    "reduced_cat=catalog[w]\n",
    "reduced_cat"
   ]
  },
  {
   "cell_type": "markdown",
   "metadata": {},
   "source": [
    " We still have about 200,000 objects. Because we have limited and download a few files only, lets order all this qso's by the PLATE in which they were observed. You could also select them by position, or other randomly. "
   ]
  },
  {
   "cell_type": "code",
   "execution_count": 8,
   "metadata": {},
   "outputs": [
    {
     "data": {
      "text/html": [
       "<i>Table length=100</i>\n",
       "<table id=\"table140386714337872\" class=\"table-striped table-bordered table-condensed\">\n",
       "<thead><tr><th>SDSS_NAME</th><th>RA</th><th>DEC</th><th>THING_ID</th><th>PLATE</th><th>MJD</th><th>FIBERID</th><th>SPECTRO</th><th>Z</th><th>Z_ERR</th><th>SOURCE_Z</th><th>Z_VI</th><th>Z_PIPE</th><th>Z_PIPE_ERR</th><th>ZWARNING</th><th>Z_PCA</th><th>Z_PCA_ER</th><th>Z_MGII</th><th>BOSS_TARGET1</th><th>ANCILLARY_TARGET1</th><th>ANCILLARY_TARGET2</th><th>EBOSS_TARGET0</th><th>EBOSS_TARGET1</th><th>EBOSS_TARGET2</th><th>N_SPEC_SDSS</th><th>N_SPEC_BOSS</th><th>N_SPEC</th><th>PLATE_DUPLICATE [51]</th><th>MJD_DUPLICATE [51]</th><th>FIBERID_DUPLICATE [51]</th><th>SPECTRO_DUPLICATE [51]</th><th>BI_CIV</th><th>ERR_BI_CIV</th><th>RUN_NUMBER</th><th>RERUN_NUMBER</th><th>COL_NUMBER</th><th>FIELD_NUMBER</th><th>OBJ_ID</th><th>PSFFLUX [5]</th><th>IVAR_PSFFLUX [5]</th><th>PSFMAG [5]</th><th>ERR_PSFMAG [5]</th><th>MI</th><th>GAL_EXT [5]</th><th>RASS_COUNTS</th><th>RASS_COUNTS_SNR</th><th>SDSS2ROSAT_SEP</th><th>FLUX_0.2_2.0keV</th><th>FLUX_0.2_2.0keV_ERR</th><th>FLUX_2.0_12.0keV</th><th>FLUX_2.0_12.0keV_ERR</th><th>FLUX_0.2_12.0keV</th><th>FLUX_0.2_12.0keV_ERR</th><th>LUM_0.2_12.0keV</th><th>SDSS2XMM_SEP</th><th>GALEX_MATCHED</th><th>FUV</th><th>FUV_IVAR</th><th>NUV</th><th>NUV_IVAR</th><th>JMAG</th><th>ERR_JMAG</th><th>JSNR</th><th>JRDFLAG</th><th>HMAG</th><th>ERR_HMAG</th><th>HSNR</th><th>HRDFLAG</th><th>KMAG</th><th>ERR_KMAG</th><th>KSNR</th><th>KRDFLAG</th><th>SDSS2MASS_SEP</th><th>W1MAG</th><th>ERR_W1MAG</th><th>W1SNR</th><th>W1CHI2</th><th>W2MAG</th><th>ERR_W2MAG</th><th>W2SNR</th><th>W2CHI2</th><th>W3MAG</th><th>ERR_W3MAG</th><th>W3SNR</th><th>W3CHI2</th><th>W4MAG</th><th>ERR_W4MAG</th><th>W4SNR</th><th>W4CHI2</th><th>CC_FLAGS</th><th>PH_FLAGS</th><th>SDSS2WISE_SEP</th><th>UKIDSS_MATCHED</th><th>YFLUX</th><th>YFLUX_ERR</th><th>JFLUX</th><th>JFLUX_ERR</th><th>HFLUX</th><th>HFLUX_ERR</th><th>KFLUX</th><th>KFLUX_ERR</th><th>FIRST_MATCHED</th><th>FIRST_FLUX</th><th>FIRST_SNR</th><th>SDSS2FIRST_SEP</th></tr></thead>\n",
       "<thead><tr><th>-</th><th>deg</th><th>deg</th><th>-</th><th>-</th><th>-</th><th>-</th><th>-</th><th>-</th><th>-</th><th>-</th><th>-</th><th>-</th><th>-</th><th>-</th><th>-</th><th>-</th><th>-</th><th>-</th><th>-</th><th>-</th><th>-</th><th>-</th><th>-</th><th>-</th><th>-</th><th>-</th><th>-</th><th>-</th><th>-</th><th>-</th><th>km / s</th><th>km / s</th><th>-</th><th>-</th><th>-</th><th>-</th><th>-</th><th>nanomaggies</th><th>-</th><th>mag</th><th>mag</th><th>-</th><th>mag</th><th>counts/s</th><th>-</th><th>arcsec</th><th>erg / (cm2 s)</th><th>erg / (cm2 s)</th><th>erg / (cm2 s)</th><th>erg / (cm2 s)</th><th>erg / (cm2 s)</th><th>erg / (cm2 s)</th><th>erg / s</th><th>arcsec</th><th>-</th><th>-</th><th>-</th><th>-</th><th>-</th><th>Vega</th><th>Vega</th><th>-</th><th>-</th><th>Vega</th><th>Vega</th><th>-</th><th>-</th><th>Vega</th><th>Vega</th><th>-</th><th>-</th><th>arcsec</th><th>-</th><th>-</th><th>-</th><th>-</th><th>-</th><th>-</th><th>-</th><th>-</th><th>-</th><th>-</th><th>-</th><th>-</th><th>-</th><th>-</th><th>-</th><th>-</th><th>-</th><th>-</th><th>arcsec</th><th>-</th><th>W / (Hz m2)</th><th>W / (Hz m2)</th><th>W / (Hz m2)</th><th>W / (Hz m2)</th><th>W / (Hz m2)</th><th>W / (Hz m2)</th><th>W / (Hz m2)</th><th>W / (Hz m2)</th><th>-</th><th>mJy</th><th>-</th><th>arcsec</th></tr></thead>\n",
       "<thead><tr><th>bytes18</th><th>float64</th><th>float64</th><th>int32</th><th>int16</th><th>int32</th><th>int16</th><th>bytes4</th><th>float64</th><th>float64</th><th>bytes4</th><th>float64</th><th>float64</th><th>float64</th><th>int16</th><th>float64</th><th>float64</th><th>float64</th><th>int64</th><th>int64</th><th>int64</th><th>int64</th><th>int64</th><th>int64</th><th>int16</th><th>int16</th><th>int16</th><th>int32</th><th>int32</th><th>int32</th><th>bytes1</th><th>float64</th><th>float64</th><th>int16</th><th>bytes1</th><th>int16</th><th>int16</th><th>bytes1</th><th>float64</th><th>float64</th><th>float64</th><th>float64</th><th>float64</th><th>float64</th><th>float64</th><th>float64</th><th>float64</th><th>float64</th><th>float64</th><th>float64</th><th>float64</th><th>float64</th><th>float64</th><th>float64</th><th>float64</th><th>float32</th><th>float64</th><th>float64</th><th>float64</th><th>float64</th><th>float64</th><th>float64</th><th>float32</th><th>int16</th><th>float64</th><th>float64</th><th>float32</th><th>int16</th><th>float64</th><th>float64</th><th>float32</th><th>int16</th><th>float64</th><th>float64</th><th>float64</th><th>float64</th><th>float64</th><th>float64</th><th>float64</th><th>float64</th><th>float64</th><th>float64</th><th>float64</th><th>float64</th><th>float64</th><th>float64</th><th>float64</th><th>float64</th><th>float64</th><th>bytes4</th><th>bytes4</th><th>float64</th><th>float32</th><th>float64</th><th>float64</th><th>float64</th><th>float64</th><th>float64</th><th>float64</th><th>float64</th><th>float64</th><th>int16</th><th>float64</th><th>float64</th><th>float64</th></tr></thead>\n",
       "<tr><td>002927.12+005959.1</td><td>7.3630113436661695</td><td>0.9997557609564308</td><td>119126428</td><td>3586</td><td>55181</td><td>594</td><td>BOSS</td><td>2.197</td><td>0.0</td><td>VI</td><td>2.197000026702881</td><td>2.2041704654693604</td><td>0.0019501503556966786</td><td>0</td><td>2.2176769</td><td>2.1851583</td><td>2.1851583</td><td>81920</td><td>0</td><td>0</td><td>0</td><td>0</td><td>0</td><td>0</td><td>0</td><td>0</td><td>-1 .. -1</td><td>-1 .. -1</td><td>-1 .. -1</td><td>- .. -</td><td>0.0</td><td>0.0</td><td>0</td><td>-</td><td>0</td><td>0</td><td>-</td><td>1.082460641860962 .. 5.404262542724609</td><td>17.25505828857422 .. 1.4724500179290771</td><td>22.39624786376953 .. 20.648351669311523</td><td>0.2337706983089447 .. 0.15968485176563263</td><td>-24.988821</td><td>0.1120922863483429 .. 0.03339763358235359</td><td>0.0</td><td>0.0</td><td>-1.0</td><td>nan</td><td>nan</td><td>nan</td><td>nan</td><td>nan</td><td>nan</td><td>nan</td><td>nan</td><td>1.0</td><td>0.02334750071167946</td><td>16.08032872380867</td><td>0.013374969363212584</td><td>124.61452751266</td><td>nan</td><td>nan</td><td>nan</td><td>-1</td><td>nan</td><td>nan</td><td>nan</td><td>-1</td><td>nan</td><td>nan</td><td>nan</td><td>-1</td><td>nan</td><td>17.288</td><td>0.163</td><td>6.699999809265137</td><td>0.9566</td><td>16.323</td><td>0.259</td><td>4.199999809265137</td><td>0.9101</td><td>12.138</td><td>0.42</td><td>2.5999999046325684</td><td>0.8814</td><td>8.777000000000001</td><td>0.163</td><td>-0.5</td><td>1.124</td><td>0000</td><td>BBCU</td><td>0.402873</td><td>1.0</td><td>1.5315462999617797e-31</td><td>3.49182712801592e-32</td><td>2.369125168884542e-31</td><td>3.257587838095501e-32</td><td>2.946421964418005e-31</td><td>8.163112961552275e-32</td><td>3.268164172192872e-31</td><td>4.075393363894775e-32</td><td>0</td><td>-1.0</td><td>-1.0</td><td>-1.0</td></tr>\n",
       "<tr><td>002951.92+011450.1</td><td>7.466360282002142</td><td>1.247255758767018</td><td>124326006</td><td>3586</td><td>55181</td><td>622</td><td>BOSS</td><td>2.092</td><td>0.0</td><td>VI</td><td>2.0920000076293945</td><td>2.1335699558258057</td><td>0.0009776175720617175</td><td>0</td><td>2.1113958</td><td>2.0834067</td><td>2.0834067</td><td>16384</td><td>0</td><td>0</td><td>0</td><td>0</td><td>0</td><td>0</td><td>0</td><td>0</td><td>-1 .. -1</td><td>-1 .. -1</td><td>-1 .. -1</td><td>- .. -</td><td>0.0</td><td>0.0</td><td>0</td><td>-</td><td>0</td><td>0</td><td>-</td><td>0.9829164743423462 .. 4.830942153930664</td><td>19.4893741607666 .. 1.8968703746795654</td><td>22.497323989868164 .. 20.765296936035156</td><td>0.24063898622989655 .. 0.15602481365203857</td><td>-24.948919</td><td>0.11912687122821808 .. 0.03549357131123543</td><td>0.0</td><td>0.0</td><td>-1.0</td><td>nan</td><td>nan</td><td>nan</td><td>nan</td><td>nan</td><td>nan</td><td>nan</td><td>nan</td><td>1.0</td><td>0.034334227442741394</td><td>26.000245826780446</td><td>0.04506143182516098</td><td>34.706384627050674</td><td>nan</td><td>nan</td><td>nan</td><td>-1</td><td>nan</td><td>nan</td><td>nan</td><td>-1</td><td>nan</td><td>nan</td><td>nan</td><td>-1</td><td>nan</td><td>17.435</td><td>0.189</td><td>5.699999809265137</td><td>0.8576</td><td>16.167</td><td>0.211</td><td>5.099999904632568</td><td>0.9398</td><td>11.808</td><td>nan</td><td>1.5</td><td>0.9252</td><td>8.654</td><td>0.189</td><td>0.5</td><td>0.9375</td><td>0000</td><td>BBUU</td><td>0.718381</td><td>1.0</td><td>1.6478192657284505e-31</td><td>4.6920177335282216e-32</td><td>1.4254959032675998e-31</td><td>2.8558435419187835e-32</td><td>2.6900440604160927e-31</td><td>4.8013595731794187e-32</td><td>2.72456339242347e-31</td><td>1.0047110083709805e-31</td><td>0</td><td>-1.0</td><td>-1.0</td><td>-1.0</td></tr>\n",
       "<tr><td>003016.29+011056.3</td><td>7.5678928031310795</td><td>1.1823086085391048</td><td>123328446</td><td>3586</td><td>55181</td><td>668</td><td>BOSS</td><td>2.225</td><td>0.0</td><td>VI</td><td>2.2249999046325684</td><td>2.237971305847168</td><td>0.0010521023068577053</td><td>0</td><td>2.2351970000000003</td><td>2.2369175</td><td>2.2369175</td><td>196608</td><td>0</td><td>0</td><td>0</td><td>0</td><td>0</td><td>0</td><td>2</td><td>2</td><td>0 .. -1</td><td>0 .. -1</td><td>0 .. -1</td><td>- .. -</td><td>0.0</td><td>0.0</td><td>0</td><td>-</td><td>0</td><td>0</td><td>-</td><td>2.285710573196411 .. 6.682548522949219</td><td>14.836679458618164 .. 1.6911613941192627</td><td>21.59839630126953 .. 20.424570083618164</td><td>0.12240533530712128 .. 0.12198082357645035</td><td>-25.403734</td><td>0.1215534508228302 .. 0.03621656447649002</td><td>0.0</td><td>0.0</td><td>-1.0</td><td>nan</td><td>nan</td><td>nan</td><td>nan</td><td>nan</td><td>nan</td><td>nan</td><td>nan</td><td>1.0</td><td>0.06194449961185455</td><td>21.04817152088081</td><td>0.02541405148804188</td><td>696.7942509088408</td><td>nan</td><td>nan</td><td>nan</td><td>-1</td><td>nan</td><td>nan</td><td>nan</td><td>-1</td><td>nan</td><td>nan</td><td>nan</td><td>-1</td><td>nan</td><td>16.658</td><td>0.08900000000000001</td><td>12.199999809265137</td><td>0.8582</td><td>15.380999999999998</td><td>0.105</td><td>10.399999618530273</td><td>0.9448</td><td>12.384</td><td>0.482</td><td>2.299999952316284</td><td>0.8964</td><td>8.287</td><td>0.08900000000000001</td><td>1.5</td><td>0.9545</td><td>0000</td><td>AACU</td><td>0.482483</td><td>0.0</td><td>0.0</td><td>0.0</td><td>0.0</td><td>0.0</td><td>0.0</td><td>0.0</td><td>0.0</td><td>0.0</td><td>0</td><td>-1.0</td><td>-1.0</td><td>-1.0</td></tr>\n",
       "<tr><td>003116.89+002935.5</td><td>7.820408684607401</td><td>0.4931963395312766</td><td>106556268</td><td>3586</td><td>55181</td><td>726</td><td>BOSS</td><td>2.029</td><td>0.0</td><td>VI</td><td>2.0290000438690186</td><td>2.033062696456909</td><td>0.0006311614997684956</td><td>0</td><td>2.0183053</td><td>2.0299323</td><td>2.0299323</td><td>17408</td><td>0</td><td>0</td><td>0</td><td>0</td><td>0</td><td>0</td><td>0</td><td>0</td><td>-1 .. -1</td><td>-1 .. -1</td><td>-1 .. -1</td><td>- .. -</td><td>0.0</td><td>0.0</td><td>0</td><td>-</td><td>0</td><td>0</td><td>-</td><td>1.1732879877090454 .. 4.9538893699646</td><td>14.028509140014648 .. 2.5715548992156982</td><td>22.311349868774414 .. 20.739179611206055</td><td>0.24031803011894226 .. 0.13095298409461975</td><td>-24.68531</td><td>0.10654054582118988 .. 0.031743504106998444</td><td>0.0</td><td>0.0</td><td>-1.0</td><td>nan</td><td>nan</td><td>nan</td><td>nan</td><td>nan</td><td>nan</td><td>nan</td><td>nan</td><td>1.0</td><td>-0.0444917306303978</td><td>225.71893715894896</td><td>0.007577556185424328</td><td>342.2891272525107</td><td>nan</td><td>nan</td><td>nan</td><td>-1</td><td>nan</td><td>nan</td><td>nan</td><td>-1</td><td>nan</td><td>nan</td><td>nan</td><td>-1</td><td>nan</td><td>16.933</td><td>0.117</td><td>9.300000190734863</td><td>0.9345</td><td>15.652</td><td>0.139</td><td>7.800000190734863</td><td>1.005</td><td>11.998</td><td>0.383</td><td>2.799999952316284</td><td>0.8681</td><td>8.495</td><td>0.117</td><td>1.2000000476837158</td><td>1.058</td><td>0000</td><td>BBCU</td><td>0.414222</td><td>1.0</td><td>3.5948589139919056e-32</td><td>2.6368939070195103e-32</td><td>2.043802875514811e-31</td><td>4.995591794490366e-32</td><td>2.184537761172658e-31</td><td>5.624213847215474e-32</td><td>2.2700904751243747e-31</td><td>5.906877920791607e-32</td><td>0</td><td>-1.0</td><td>-1.0</td><td>-1.0</td></tr>\n",
       "<tr><td>003135.50+004503.4</td><td>7.897957879137124</td><td>0.7509554992970786</td><td>113045826</td><td>3586</td><td>55181</td><td>728</td><td>BOSS</td><td>2.1630000000000003</td><td>0.0</td><td>VI</td><td>2.1630001068115234</td><td>2.1698601245880127</td><td>0.0011075055226683617</td><td>0</td><td>2.1502</td><td>2.155956</td><td>2.155956</td><td>16384</td><td>0</td><td>0</td><td>0</td><td>0</td><td>0</td><td>0</td><td>0</td><td>0</td><td>-1 .. -1</td><td>-1 .. -1</td><td>-1 .. -1</td><td>- .. -</td><td>3092.8237</td><td>958.8759</td><td>0</td><td>-</td><td>0</td><td>0</td><td>-</td><td>1.8091200590133667 .. 14.630169868469238</td><td>17.215932846069336 .. 0.9840676784515381</td><td>21.84988784790039 .. 19.584110260009766</td><td>0.14293920993804932 .. 0.07443060725927353</td><td>-25.984894</td><td>0.09886682033538818 .. 0.02945713698863983</td><td>0.0</td><td>0.0</td><td>-1.0</td><td>nan</td><td>nan</td><td>nan</td><td>nan</td><td>nan</td><td>nan</td><td>nan</td><td>nan</td><td>1.0</td><td>0.0035374949220567937</td><td>1043.8583134438734</td><td>0.06958463042974472</td><td>88.65520356132832</td><td>nan</td><td>nan</td><td>nan</td><td>-1</td><td>nan</td><td>nan</td><td>nan</td><td>-1</td><td>nan</td><td>nan</td><td>nan</td><td>-1</td><td>nan</td><td>16.359</td><td>0.078</td><td>13.899999618530273</td><td>0.913</td><td>15.368</td><td>0.118</td><td>9.199999809265137</td><td>0.8495</td><td>11.343</td><td>0.2</td><td>5.400000095367432</td><td>0.9628</td><td>8.673</td><td>0.078</td><td>2.700000047683716</td><td>0.8887</td><td>0000</td><td>ABBC</td><td>0.080727</td><td>1.0</td><td>4.030935168376478e-31</td><td>5.451834653633495e-32</td><td>4.9183191451964065e-31</td><td>3.215734949481648e-32</td><td>6.696679879770114e-31</td><td>4.765126429183261e-32</td><td>8.618176329663788e-31</td><td>4.043271805264207e-32</td><td>0</td><td>-1.0</td><td>-1.0</td><td>-1.0</td></tr>\n",
       "<tr><td>003425.95+003904.0</td><td>8.608143195145914</td><td>0.6511370853315509</td><td>113036998</td><td>3586</td><td>55181</td><td>850</td><td>BOSS</td><td>2.148</td><td>0.0</td><td>VI</td><td>2.1480000019073486</td><td>2.147042989730835</td><td>0.00047924875980243087</td><td>0</td><td>2.1462432999999996</td><td>2.1523373</td><td>2.1523373</td><td>16384</td><td>0</td><td>0</td><td>0</td><td>0</td><td>0</td><td>0</td><td>0</td><td>0</td><td>-1 .. -1</td><td>-1 .. -1</td><td>-1 .. -1</td><td>- .. -</td><td>0.0</td><td>0.0</td><td>0</td><td>-</td><td>0</td><td>0</td><td>-</td><td>1.8678007125854492 .. 3.8280434608459473</td><td>16.361841201782227 .. 1.1628193855285645</td><td>21.815624237060547 .. 21.004087448120117</td><td>0.142118901014328 .. 0.24532482028007507</td><td>-24.922947</td><td>0.07900445908308029 .. 0.023539191111922264</td><td>0.0</td><td>0.0</td><td>-1.0</td><td>nan</td><td>nan</td><td>nan</td><td>nan</td><td>nan</td><td>nan</td><td>nan</td><td>nan</td><td>1.0</td><td>0.1871742457151413</td><td>425.3688650596878</td><td>0.11898912489414215</td><td>183.16189459841863</td><td>nan</td><td>nan</td><td>nan</td><td>-1</td><td>nan</td><td>nan</td><td>nan</td><td>-1</td><td>nan</td><td>nan</td><td>nan</td><td>-1</td><td>nan</td><td>17.197</td><td>0.16</td><td>6.800000190734863</td><td>0.8267</td><td>16.055999999999994</td><td>0.211</td><td>5.099999904632568</td><td>0.9307</td><td>12.25</td><td>0.4920000000000001</td><td>2.200000047683716</td><td>0.8345</td><td>8.894</td><td>0.16</td><td>-0.20000000298023224</td><td>0.8782</td><td>0000</td><td>BBCU</td><td>0.266277</td><td>1.0</td><td>1.4424079755917498e-31</td><td>6.320834133905428e-32</td><td>1.3281663816127356e-31</td><td>3.1691639204171834e-32</td><td>1.8157848306714012e-31</td><td>4.995218575033981e-32</td><td>2.8170016820845627e-31</td><td>4.3957373211393394e-32</td><td>0</td><td>-1.0</td><td>-1.0</td><td>-1.0</td></tr>\n",
       "<tr><td>003432.39+010650.6</td><td>8.634960882107023</td><td>1.114081333510875</td><td>119465634</td><td>3586</td><td>55181</td><td>874</td><td>BOSS</td><td>2.211</td><td>0.0</td><td>VI</td><td>2.2109999656677246</td><td>2.2131388187408447</td><td>0.00037839569267816836</td><td>0</td><td>2.2064939999999997</td><td>2.212415</td><td>2.212415</td><td>1024</td><td>0</td><td>0</td><td>0</td><td>0</td><td>0</td><td>0</td><td>2</td><td>2</td><td>0 .. -1</td><td>0 .. -1</td><td>0 .. -1</td><td>- .. -</td><td>0.0</td><td>0.0</td><td>0</td><td>-</td><td>0</td><td>0</td><td>-</td><td>1.8665894269943237 .. 4.771460056304932</td><td>10.370464324951172 .. 1.5556281805038452</td><td>21.816320419311523 .. 20.778152465820312</td><td>0.17862586677074432 .. 0.17425017058849335</td><td>-25.095856</td><td>0.0831911638379097 .. 0.024786612018942833</td><td>0.0</td><td>0.0</td><td>-1.0</td><td>nan</td><td>nan</td><td>nan</td><td>nan</td><td>nan</td><td>nan</td><td>nan</td><td>nan</td><td>1.0</td><td>0.0253753699362278</td><td>1008.0560121962798</td><td>-0.057817790657281876</td><td>538.2630621273095</td><td>nan</td><td>nan</td><td>nan</td><td>-1</td><td>nan</td><td>nan</td><td>nan</td><td>-1</td><td>nan</td><td>nan</td><td>nan</td><td>-1</td><td>nan</td><td>nan</td><td>nan</td><td>nan</td><td>nan</td><td>nan</td><td>nan</td><td>nan</td><td>nan</td><td>nan</td><td>nan</td><td>nan</td><td>nan</td><td>nan</td><td>nan</td><td>nan</td><td>nan</td><td></td><td></td><td>nan</td><td>1.0</td><td>1.423700805844459e-31</td><td>5.5437988664229e-32</td><td>1.6415853840871698e-31</td><td>3.5894642765423934e-32</td><td>8.110479614247031e-32</td><td>4.535364303371537e-32</td><td>1.3383924771682784e-31</td><td>4.127783677742986e-32</td><td>0</td><td>-1.0</td><td>-1.0</td><td>-1.0</td></tr>\n",
       "<tr><td>003452.82+001351.9</td><td>8.720122532190715</td><td>0.23110124901283194</td><td>104096549</td><td>3586</td><td>55181</td><td>890</td><td>BOSS</td><td>2.1959999999999997</td><td>0.0</td><td>VI</td><td>2.1960000991821294</td><td>2.1941277980804443</td><td>0.000396242510760203</td><td>0</td><td>2.1896972999999997</td><td>2.195448</td><td>2.195448</td><td>137216</td><td>0</td><td>0</td><td>0</td><td>0</td><td>0</td><td>1</td><td>0</td><td>1</td><td>0 .. -1</td><td>0 .. -1</td><td>0 .. -1</td><td>- .. -</td><td>0.0</td><td>0.0</td><td>0</td><td>-</td><td>0</td><td>0</td><td>-</td><td>5.072015285491943 .. 11.33122730255127</td><td>10.10874080657959 .. 1.1935763359069824</td><td>20.736223220825195 .. 19.85970687866211</td><td>0.06722556799650192 .. 0.08696591109037399</td><td>-25.886028</td><td>0.08425252884626389 .. 0.02510284259915352</td><td>0.0</td><td>0.0</td><td>-1.0</td><td>nan</td><td>nan</td><td>nan</td><td>nan</td><td>nan</td><td>nan</td><td>nan</td><td>nan</td><td>1.0</td><td>0.7236233949661255</td><td>102.58913776505224</td><td>1.5496256351470947</td><td>107.48878694464035</td><td>nan</td><td>nan</td><td>nan</td><td>-1</td><td>nan</td><td>nan</td><td>nan</td><td>-1</td><td>nan</td><td>nan</td><td>nan</td><td>-1</td><td>nan</td><td>nan</td><td>nan</td><td>nan</td><td>nan</td><td>nan</td><td>nan</td><td>nan</td><td>nan</td><td>nan</td><td>nan</td><td>nan</td><td>nan</td><td>nan</td><td>nan</td><td>nan</td><td>nan</td><td></td><td></td><td>nan</td><td>1.0</td><td>2.3755513614016168e-31</td><td>4.551384822005305e-32</td><td>3.2493673122266127e-31</td><td>5.133205154899606e-32</td><td>3.84735468912551e-31</td><td>5.406404147962913e-32</td><td>4.6409965179504115e-31</td><td>5.792284854001697e-32</td><td>0</td><td>-1.0</td><td>-1.0</td><td>-1.0</td></tr>\n",
       "<tr><td>003633.69+005020.7</td><td>9.140380223195224</td><td>0.8390926196994276</td><td>115845663</td><td>3586</td><td>55181</td><td>958</td><td>BOSS</td><td>2.17</td><td>0.0</td><td>VI</td><td>2.1700000762939453</td><td>2.1677520275115967</td><td>0.0005330225685611367</td><td>0</td><td>2.1633042999999996</td><td>2.1668806000000003</td><td>2.1668806000000003</td><td>202752</td><td>0</td><td>0</td><td>0</td><td>0</td><td>0</td><td>1</td><td>0</td><td>1</td><td>0 .. -1</td><td>0 .. -1</td><td>0 .. -1</td><td>- .. -</td><td>0.0</td><td>0.0</td><td>0</td><td>-</td><td>0</td><td>0</td><td>-</td><td>4.652605056762695 .. 14.155592918395996</td><td>15.353445053100586 .. 1.6559996604919434</td><td>20.82977867126465 .. 19.61972427368164</td><td>0.059448398649692535 .. 0.059279609471559525</td><td>-26.221848</td><td>0.08521640300750732 .. 0.025390025228261948</td><td>0.0</td><td>0.0</td><td>-1.0</td><td>nan</td><td>nan</td><td>nan</td><td>nan</td><td>nan</td><td>nan</td><td>nan</td><td>nan</td><td>1.0</td><td>0.026876254007220268</td><td>347.0345246633133</td><td>0.004641593433916569</td><td>11.694391842121814</td><td>nan</td><td>nan</td><td>nan</td><td>-1</td><td>nan</td><td>nan</td><td>nan</td><td>-1</td><td>nan</td><td>nan</td><td>nan</td><td>-1</td><td>nan</td><td>16.717</td><td>0.102</td><td>10.699999809265137</td><td>0.9182</td><td>16.274</td><td>0.251</td><td>4.300000190734863</td><td>0.9247</td><td>11.966</td><td>nan</td><td>0.8999999761581421</td><td>0.9629</td><td>8.506</td><td>0.102</td><td>1.2000000476837158</td><td>0.9174</td><td>0000</td><td>ABUU</td><td>0.411129</td><td>1.0</td><td>3.6963401053697218e-31</td><td>8.277951706661508e-32</td><td>5.4470565041962705e-31</td><td>3.603803250507312e-32</td><td>5.230323087571321e-31</td><td>4.973875711853276e-32</td><td>5.074010550776377e-31</td><td>6.704793494427795e-32</td><td>0</td><td>-1.0</td><td>-1.0</td><td>-1.0</td></tr>\n",
       "<tr><td>...</td><td>...</td><td>...</td><td>...</td><td>...</td><td>...</td><td>...</td><td>...</td><td>...</td><td>...</td><td>...</td><td>...</td><td>...</td><td>...</td><td>...</td><td>...</td><td>...</td><td>...</td><td>...</td><td>...</td><td>...</td><td>...</td><td>...</td><td>...</td><td>...</td><td>...</td><td>...</td><td>...</td><td>...</td><td>...</td><td>...</td><td>...</td><td>...</td><td>...</td><td>...</td><td>...</td><td>...</td><td>...</td><td>...</td><td>...</td><td>...</td><td>...</td><td>...</td><td>...</td><td>...</td><td>...</td><td>...</td><td>...</td><td>...</td><td>...</td><td>...</td><td>...</td><td>...</td><td>...</td><td>...</td><td>...</td><td>...</td><td>...</td><td>...</td><td>...</td><td>...</td><td>...</td><td>...</td><td>...</td><td>...</td><td>...</td><td>...</td><td>...</td><td>...</td><td>...</td><td>...</td><td>...</td><td>...</td><td>...</td><td>...</td><td>...</td><td>...</td><td>...</td><td>...</td><td>...</td><td>...</td><td>...</td><td>...</td><td>...</td><td>...</td><td>...</td><td>...</td><td>...</td><td>...</td><td>...</td><td>...</td><td>...</td><td>...</td><td>...</td><td>...</td><td>...</td><td>...</td><td>...</td><td>...</td><td>...</td><td>...</td><td>...</td><td>...</td><td>...</td><td>...</td></tr>\n",
       "<tr><td>022519.50+004823.7</td><td>36.33125486708319</td><td>0.8065851750162302</td><td>110630924</td><td>3615</td><td>55179</td><td>588</td><td>BOSS</td><td>2.82</td><td>0.0</td><td>VI</td><td>2.8199999332427983</td><td>2.8198330402374268</td><td>0.0002457330992911011</td><td>0</td><td>2.8174912999999995</td><td>-1.0</td><td>-1.0</td><td>71680</td><td>0</td><td>0</td><td>0</td><td>0</td><td>0</td><td>1</td><td>14</td><td>15</td><td>0 .. -1</td><td>0 .. -1</td><td>0 .. -1</td><td>- .. -</td><td>0.0</td><td>0.0</td><td>0</td><td>-</td><td>0</td><td>0</td><td>-</td><td>1.6143183708190918 .. 6.573657035827637</td><td>19.13422966003418 .. 1.6651312112808228</td><td>21.971952438354492 .. 20.441978454589844</td><td>0.15149325132369995 .. 0.12486940622329712</td><td>-26.013905</td><td>0.1667599081993103 .. 0.04968572035431862</td><td>0.0</td><td>0.0</td><td>-1.0</td><td>nan</td><td>nan</td><td>nan</td><td>nan</td><td>nan</td><td>nan</td><td>nan</td><td>nan</td><td>1.0</td><td>0.1698579043149948</td><td>2020.9570826850654</td><td>0.4952609539031982</td><td>10.197430829979462</td><td>nan</td><td>nan</td><td>nan</td><td>-1</td><td>nan</td><td>nan</td><td>nan</td><td>-1</td><td>nan</td><td>nan</td><td>nan</td><td>-1</td><td>nan</td><td>nan</td><td>nan</td><td>nan</td><td>nan</td><td>nan</td><td>nan</td><td>nan</td><td>nan</td><td>nan</td><td>nan</td><td>nan</td><td>nan</td><td>nan</td><td>nan</td><td>nan</td><td>nan</td><td></td><td></td><td>nan</td><td>1.0</td><td>1.6216632233788685e-31</td><td>3.343991080984755e-32</td><td>2.1638027461207642e-31</td><td>3.8460062207809644e-32</td><td>2.815356930388892e-31</td><td>6.522630073616741e-32</td><td>9.856530711094037e-32</td><td>6.004538579205098e-32</td><td>0</td><td>-1.0</td><td>-1.0</td><td>-1.0</td></tr>\n",
       "<tr><td>022545.65+005149.9</td><td>36.44024400864447</td><td>0.8638788743926521</td><td>116045026</td><td>3615</td><td>55179</td><td>634</td><td>BOSS</td><td>2.525</td><td>0.0</td><td>VI</td><td>2.525000095367432</td><td>2.524226188659668</td><td>0.0005176224512979388</td><td>0</td><td>2.5134206000000003</td><td>-1.0</td><td>-1.0</td><td>212992</td><td>0</td><td>0</td><td>0</td><td>0</td><td>0</td><td>0</td><td>16</td><td>16</td><td>0 .. -1</td><td>0 .. -1</td><td>0 .. -1</td><td>- .. -</td><td>0.0</td><td>0.0</td><td>0</td><td>-</td><td>0</td><td>0</td><td>-</td><td>1.3101272583007812 .. 4.7202324867248535</td><td>16.679973602294922 .. 1.3374463319778442</td><td>22.19452476501465 .. 20.78934097290039</td><td>0.1984332948923111 .. 0.18978431820869446</td><td>-25.368053</td><td>0.1530085653066635 .. 0.04558854177594185</td><td>0.0</td><td>0.0</td><td>-1.0</td><td>nan</td><td>nan</td><td>nan</td><td>nan</td><td>nan</td><td>nan</td><td>nan</td><td>nan</td><td>1.0</td><td>-0.00946793518960476</td><td>869.5478571808902</td><td>0.009776988066732885</td><td>5046.962500533379</td><td>nan</td><td>nan</td><td>nan</td><td>-1</td><td>nan</td><td>nan</td><td>nan</td><td>-1</td><td>nan</td><td>nan</td><td>nan</td><td>-1</td><td>nan</td><td>nan</td><td>nan</td><td>nan</td><td>nan</td><td>nan</td><td>nan</td><td>nan</td><td>nan</td><td>nan</td><td>nan</td><td>nan</td><td>nan</td><td>nan</td><td>nan</td><td>nan</td><td>nan</td><td></td><td></td><td>nan</td><td>1.0</td><td>1.4178308572541931e-31</td><td>3.1850401471193903e-32</td><td>1.4323422174656588e-31</td><td>3.735400136955455e-32</td><td>2.10012551184011e-31</td><td>6.257999846623749e-32</td><td>3.559078335320813e-31</td><td>6.090640013919778e-32</td><td>0</td><td>-1.0</td><td>-1.0</td><td>-1.0</td></tr>\n",
       "<tr><td>022558.08+001938.6</td><td>36.49201886006188</td><td>0.32738967645911604</td><td>103525770</td><td>3615</td><td>55179</td><td>654</td><td>BOSS</td><td>2.3680000000000003</td><td>0.0</td><td>VI</td><td>2.368000030517578</td><td>2.36789345741272</td><td>0.0003196527250111103</td><td>0</td><td>2.3633710999999997</td><td>2.3879185</td><td>2.3879185</td><td>217088</td><td>0</td><td>0</td><td>0</td><td>0</td><td>0</td><td>1</td><td>15</td><td>16</td><td>0 .. -1</td><td>0 .. -1</td><td>0 .. -1</td><td>- .. -</td><td>0.0</td><td>0.0</td><td>0</td><td>-</td><td>0</td><td>0</td><td>-</td><td>0.19625353813171387 .. 2.123006582260132</td><td>22.843055725097656 .. 1.4511065483093262</td><td>23.925251007080078 .. 21.569799423217773</td><td>0.664371907711029 .. 0.34827032685279846</td><td>-24.174873</td><td>0.16020281612873077 .. 0.04773205146193504</td><td>0.0</td><td>0.0</td><td>-1.0</td><td>nan</td><td>nan</td><td>nan</td><td>nan</td><td>nan</td><td>nan</td><td>nan</td><td>nan</td><td>1.0</td><td>0.06426998972892761</td><td>2.836421468510962</td><td>0.2793076038360596</td><td>0.7434395198444881</td><td>nan</td><td>nan</td><td>nan</td><td>-1</td><td>nan</td><td>nan</td><td>nan</td><td>-1</td><td>nan</td><td>nan</td><td>nan</td><td>-1</td><td>nan</td><td>nan</td><td>nan</td><td>nan</td><td>nan</td><td>nan</td><td>nan</td><td>nan</td><td>nan</td><td>nan</td><td>nan</td><td>nan</td><td>nan</td><td>nan</td><td>nan</td><td>nan</td><td>nan</td><td></td><td></td><td>nan</td><td>1.0</td><td>6.910205842509412e-32</td><td>3.2850941120311544e-32</td><td>1.0661555086816823e-31</td><td>5.010846772428162e-32</td><td>4.6722917628270717e-32</td><td>5.994610353918054e-32</td><td>-2.4313828174124244e-32</td><td>7.045061493171621e-32</td><td>0</td><td>-1.0</td><td>-1.0</td><td>-1.0</td></tr>\n",
       "<tr><td>022614.49+004706.7</td><td>36.560399665839206</td><td>0.7852175866190187</td><td>110629518</td><td>3615</td><td>55179</td><td>678</td><td>BOSS</td><td>2.17</td><td>0.0</td><td>VI</td><td>2.1700000762939453</td><td>2.1656343936920166</td><td>0.0006526239449158312</td><td>0</td><td>2.1738396</td><td>2.1639504</td><td>2.1639504</td><td>219136</td><td>0</td><td>0</td><td>0</td><td>0</td><td>0</td><td>1</td><td>13</td><td>14</td><td>0 .. -1</td><td>0 .. -1</td><td>0 .. -1</td><td>- .. -</td><td>2048.0</td><td>44.303776</td><td>0</td><td>-</td><td>0</td><td>0</td><td>-</td><td>3.133089780807495 .. 10.989302635192871</td><td>16.462200164794922 .. 1.5523446798324585</td><td>21.257905960083008 .. 19.892684936523438</td><td>0.08507072180509567 .. 0.078588105738163</td><td>-25.81599</td><td>0.14211145043373108 .. 0.042341772466897964</td><td>0.0</td><td>0.0</td><td>-1.0</td><td>nan</td><td>nan</td><td>nan</td><td>nan</td><td>nan</td><td>nan</td><td>nan</td><td>nan</td><td>1.0</td><td>0.16276052594184875</td><td>4234.641910666246</td><td>0.589651882648468</td><td>36.609332032719024</td><td>nan</td><td>nan</td><td>nan</td><td>-1</td><td>nan</td><td>nan</td><td>nan</td><td>-1</td><td>nan</td><td>nan</td><td>nan</td><td>-1</td><td>nan</td><td>16.785</td><td>0.08900000000000001</td><td>12.199999809265137</td><td>0.9412</td><td>16.164</td><td>0.18600000000000005</td><td>5.800000190734863</td><td>0.9114</td><td>12.004</td><td>0.284</td><td>3.799999952316284</td><td>0.9965</td><td>8.651</td><td>0.08900000000000001</td><td>1.2000000476837158</td><td>0.9591</td><td>0000</td><td>ABBU</td><td>0.542063</td><td>1.0</td><td>2.975554005815564e-31</td><td>3.175899209173808e-32</td><td>2.0989772889582263e-31</td><td>3.6504595029122116e-32</td><td>3.1311988618192405e-31</td><td>5.947126847363763e-32</td><td>3.5872824414778328e-31</td><td>5.724736834373221e-32</td><td>0</td><td>-1.0</td><td>-1.0</td><td>-1.0</td></tr>\n",
       "<tr><td>022623.06+005827.6</td><td>36.596104817929074</td><td>0.9743512174629624</td><td>117779618</td><td>3615</td><td>56544</td><td>612</td><td>BOSS</td><td>2.552</td><td>0.0</td><td>VI</td><td>2.5520000457763667</td><td>2.551522254943848</td><td>0.00026021280791610485</td><td>0</td><td>2.5536966</td><td>-1.0</td><td>-1.0</td><td>201728</td><td>0</td><td>0</td><td>0</td><td>0</td><td>0</td><td>0</td><td>15</td><td>15</td><td>0 .. -1</td><td>0 .. -1</td><td>0 .. -1</td><td>- .. -</td><td>0.0</td><td>0.0</td><td>0</td><td>-</td><td>0</td><td>0</td><td>-</td><td>2.42348575592041 .. 6.344313144683838</td><td>15.544382095336914 .. 1.932565689086914</td><td>21.535293579101562 .. 20.47955894470215</td><td>0.112880177795887 .. 0.11988528072834015</td><td>-25.764486</td><td>0.13469579815864563 .. 0.040132299065589905</td><td>0.0</td><td>0.0</td><td>-1.0</td><td>nan</td><td>nan</td><td>nan</td><td>nan</td><td>nan</td><td>nan</td><td>nan</td><td>nan</td><td>1.0</td><td>0.03989342972636223</td><td>3.1179794444968425</td><td>0.0827404335141182</td><td>1.7940192571485032</td><td>nan</td><td>nan</td><td>nan</td><td>-1</td><td>nan</td><td>nan</td><td>nan</td><td>-1</td><td>nan</td><td>nan</td><td>nan</td><td>-1</td><td>nan</td><td>17.131</td><td>0.118</td><td>9.199999809265137</td><td>0.9124</td><td>16.033</td><td>0.171</td><td>6.400000095367432</td><td>0.8207</td><td>12.35</td><td>0.421</td><td>2.5999999046325684</td><td>0.8435</td><td>8.788</td><td>0.118</td><td>0.699999988079071</td><td>0.8777</td><td>0000</td><td>BBCU</td><td>0.5269159999999999</td><td>1.0</td><td>2.482266265052317e-31</td><td>3.169197715879769e-32</td><td>1.2489936632501069e-31</td><td>4.086511483338441e-32</td><td>1.7870967734901484e-31</td><td>6.357246834663676e-32</td><td>3.7467937335002353e-31</td><td>6.039610628656233e-32</td><td>0</td><td>-1.0</td><td>-1.0</td><td>-1.0</td></tr>\n",
       "<tr><td>022641.43+010459.6</td><td>36.672647838374075</td><td>1.083227197207942</td><td>122714605</td><td>3615</td><td>55179</td><td>670</td><td>BOSS</td><td>2.434</td><td>0.0</td><td>VI</td><td>2.434000015258789</td><td>2.4344263076782227</td><td>0.0004520920047070831</td><td>0</td><td>2.4304447</td><td>-1.0</td><td>-1.0</td><td>87040</td><td>0</td><td>0</td><td>0</td><td>0</td><td>0</td><td>1</td><td>16</td><td>17</td><td>0 .. -1</td><td>0 .. -1</td><td>0 .. -1</td><td>- .. -</td><td>0.0</td><td>0.0</td><td>0</td><td>-</td><td>0</td><td>0</td><td>-</td><td>0.7648898363113403 .. 2.9483182430267334</td><td>22.99815559387207 .. 2.005537271499634</td><td>22.756332397460938 .. 21.263351440429688</td><td>0.2779531478881836 .. 0.23239940404891968</td><td>-24.886189</td><td>0.12933847308158875 .. 0.03853609040379524</td><td>0.0</td><td>0.0</td><td>-1.0</td><td>nan</td><td>nan</td><td>nan</td><td>nan</td><td>nan</td><td>nan</td><td>nan</td><td>nan</td><td>1.0</td><td>-0.009086928330361843</td><td>4984.55781630604</td><td>0.02413524128496647</td><td>1684.7457062928477</td><td>nan</td><td>nan</td><td>nan</td><td>-1</td><td>nan</td><td>nan</td><td>nan</td><td>-1</td><td>nan</td><td>nan</td><td>nan</td><td>-1</td><td>nan</td><td>nan</td><td>nan</td><td>nan</td><td>nan</td><td>nan</td><td>nan</td><td>nan</td><td>nan</td><td>nan</td><td>nan</td><td>nan</td><td>nan</td><td>nan</td><td>nan</td><td>nan</td><td>nan</td><td></td><td></td><td>nan</td><td>1.0</td><td>1.2762915808120775e-31</td><td>3.1262830619935377e-32</td><td>1.6058395412741447e-31</td><td>4.0857212572611005e-32</td><td>5.017471270842222e-32</td><td>6.339172433525434e-32</td><td>5.124219088334744e-32</td><td>5.99616964717442e-32</td><td>0</td><td>-1.0</td><td>-1.0</td><td>-1.0</td></tr>\n",
       "<tr><td>022649.12+004812.5</td><td>36.70470746600017</td><td>0.8034725527994789</td><td>110628681</td><td>3615</td><td>55179</td><td>676</td><td>BOSS</td><td>2.549</td><td>0.0</td><td>VI</td><td>2.549000024795532</td><td>2.549424171447754</td><td>0.00021698306954931468</td><td>0</td><td>2.5459994999999997</td><td>-1.0</td><td>-1.0</td><td>217088</td><td>0</td><td>0</td><td>0</td><td>0</td><td>0</td><td>1</td><td>16</td><td>17</td><td>0 .. -1</td><td>0 .. -1</td><td>0 .. -1</td><td>- .. -</td><td>0.0</td><td>0.0</td><td>0</td><td>-</td><td>0</td><td>0</td><td>-</td><td>1.2363622188568115 .. 4.518825054168701</td><td>20.056344985961914 .. 1.7317814826965332</td><td>22.25597381591797 .. 20.83442497253418</td><td>0.1912456750869751 .. 0.17351049184799194</td><td>-24.952185</td><td>0.1397840976715088 .. 0.041648343205451965</td><td>0.0</td><td>0.0</td><td>-1.0</td><td>nan</td><td>nan</td><td>nan</td><td>nan</td><td>nan</td><td>nan</td><td>nan</td><td>nan</td><td>1.0</td><td>0.243483304977417</td><td>836.2812317396747</td><td>0.2794331312179565</td><td>36.62649531897034</td><td>nan</td><td>nan</td><td>nan</td><td>-1</td><td>nan</td><td>nan</td><td>nan</td><td>-1</td><td>nan</td><td>nan</td><td>nan</td><td>-1</td><td>nan</td><td>nan</td><td>nan</td><td>nan</td><td>nan</td><td>nan</td><td>nan</td><td>nan</td><td>nan</td><td>nan</td><td>nan</td><td>nan</td><td>nan</td><td>nan</td><td>nan</td><td>nan</td><td>nan</td><td></td><td></td><td>nan</td><td>1.0</td><td>1.670338328556588e-31</td><td>3.1493309797301103e-32</td><td>1.5153247130193025e-31</td><td>3.656415438914241e-32</td><td>1.8555677912828903e-31</td><td>5.963686624030972e-32</td><td>2.1968449519268976e-31</td><td>5.739107252812021e-32</td><td>0</td><td>-1.0</td><td>-1.0</td><td>-1.0</td></tr>\n",
       "<tr><td>022655.43+005555.5</td><td>36.73098778062654</td><td>0.9320878102441036</td><td>117770491</td><td>3615</td><td>56544</td><td>651</td><td>BOSS</td><td>2.1790000000000003</td><td>0.0</td><td>VI</td><td>2.17899990081787</td><td>2.178398609161377</td><td>0.0003499080776236952</td><td>0</td><td>2.1855652</td><td>2.1822271</td><td>2.1822271</td><td>135168</td><td>0</td><td>0</td><td>0</td><td>0</td><td>0</td><td>0</td><td>13</td><td>13</td><td>0 .. -1</td><td>0 .. -1</td><td>0 .. -1</td><td>- .. -</td><td>0.0</td><td>0.0</td><td>0</td><td>-</td><td>0</td><td>0</td><td>-</td><td>5.651854991912842 .. 7.340826511383057</td><td>12.284736633300781 .. 1.7660554647445679</td><td>20.61885643005371 .. 20.32476806640625</td><td>0.05474167317152023 .. 0.10910015553236008</td><td>-25.608688</td><td>0.12814953923225403 .. 0.0381818525493145</td><td>0.0</td><td>0.0</td><td>-1.0</td><td>nan</td><td>nan</td><td>nan</td><td>nan</td><td>nan</td><td>nan</td><td>nan</td><td>nan</td><td>1.0</td><td>0.0041288137435913095</td><td>224.054957995766</td><td>1.3705788850784302</td><td>18.41772791895294</td><td>nan</td><td>nan</td><td>nan</td><td>-1</td><td>nan</td><td>nan</td><td>nan</td><td>-1</td><td>nan</td><td>nan</td><td>nan</td><td>-1</td><td>nan</td><td>17.069000000000006</td><td>0.104</td><td>10.399999618530273</td><td>0.8691</td><td>16.134</td><td>0.162</td><td>6.699999809265137</td><td>0.8783</td><td>12.130999999999998</td><td>nan</td><td>1.7000000476837158</td><td>0.9044</td><td>8.96</td><td>0.104</td><td>0.800000011920929</td><td>0.9446</td><td>0000</td><td>ABUU</td><td>0.37077</td><td>1.0</td><td>2.4063518994807325e-31</td><td>3.182120219151947e-32</td><td>2.1096178638218697e-31</td><td>3.6788106634125195e-32</td><td>1.783616604915104e-31</td><td>5.981792175769512e-32</td><td>2.4450630443431424e-31</td><td>5.767028770127106e-32</td><td>0</td><td>-1.0</td><td>-1.0</td><td>-1.0</td></tr>\n",
       "<tr><td>022702.11+002744.4</td><td>36.75882746195649</td><td>0.4623432136556615</td><td>106368778</td><td>3615</td><td>55208</td><td>690</td><td>BOSS</td><td>2.39</td><td>0.0</td><td>VI</td><td>2.390000104904175</td><td>2.384610176086426</td><td>0.00040776943205855787</td><td>0</td><td>2.3803092999999995</td><td>2.394154</td><td>2.394154</td><td>202752</td><td>0</td><td>0</td><td>0</td><td>0</td><td>0</td><td>0</td><td>15</td><td>15</td><td>0 .. -1</td><td>0 .. -1</td><td>0 .. -1</td><td>- .. -</td><td>0.0</td><td>0.0</td><td>0</td><td>-</td><td>0</td><td>0</td><td>-</td><td>1.2816234827041626 .. 3.640155553817749</td><td>34.555233001708984 .. 2.127051591873169</td><td>22.21786880493164 .. 21.054882049560547</td><td>0.1407933533191681 .. 0.1894504874944687</td><td>-24.970522</td><td>0.1347462236881256 .. 0.0401473194360733</td><td>0.0</td><td>0.0</td><td>-1.0</td><td>4.671350000000001e-15</td><td>1.2819479e-15</td><td>2.518712e-15</td><td>4.489657e-15</td><td>8.907550000000003e-15</td><td>4.29324e-15</td><td>4.174508513736831e+44</td><td>3.371963252944209</td><td>1.0</td><td>0.020333552733063698</td><td>1935.517613964044</td><td>0.03535957634449005</td><td>110.35367648834713</td><td>nan</td><td>nan</td><td>nan</td><td>-1</td><td>nan</td><td>nan</td><td>nan</td><td>-1</td><td>nan</td><td>nan</td><td>nan</td><td>-1</td><td>nan</td><td>17.139</td><td>0.115</td><td>9.5</td><td>0.9945</td><td>16.046</td><td>0.158</td><td>6.900000095367432</td><td>0.8065</td><td>12.079</td><td>nan</td><td>1.5</td><td>0.8934</td><td>8.588</td><td>0.115</td><td>1.2999999523162842</td><td>1.023</td><td>0000</td><td>BBUU</td><td>1.189934</td><td>1.0</td><td>8.567681089033256e-32</td><td>2.9463642476453795e-32</td><td>4.1508627460798566e-32</td><td>3.927573479910935e-32</td><td>7.18904426972079e-32</td><td>5.34057470107534e-32</td><td>2.1204258290810697e-31</td><td>6.494983621979752e-32</td><td>0</td><td>-1.0</td><td>-1.0</td><td>-1.0</td></tr>\n",
       "<tr><td>022710.75+010457.9</td><td>36.79482964992712</td><td>1.082765875272602</td><td>122686196</td><td>3615</td><td>56544</td><td>692</td><td>BOSS</td><td>2.737</td><td>0.0</td><td>VI</td><td>2.736999988555908</td><td>2.737954616546631</td><td>0.00026782555505633354</td><td>0</td><td>2.7326174</td><td>-1.0</td><td>-1.0</td><td>217088</td><td>0</td><td>0</td><td>0</td><td>0</td><td>0</td><td>0</td><td>14</td><td>14</td><td>0 .. -1</td><td>0 .. -1</td><td>0 .. -1</td><td>- .. -</td><td>0.0</td><td>0.0</td><td>0</td><td>-</td><td>0</td><td>0</td><td>-</td><td>1.0882296562194824 .. 4.161633014678955</td><td>16.75626564025879 .. 1.862652063369751</td><td>22.39065933227539 .. 20.919034957885742</td><td>0.2360452562570572 .. 0.18010857701301575</td><td>-25.38258</td><td>0.12448941171169281 .. 0.03709132596850395</td><td>0.0</td><td>0.0</td><td>-1.0</td><td>nan</td><td>nan</td><td>nan</td><td>nan</td><td>nan</td><td>nan</td><td>nan</td><td>nan</td><td>1.0</td><td>-0.01506884302943945</td><td>5735.519329773757</td><td>-0.011933160945773123</td><td>4826.947265972228</td><td>nan</td><td>nan</td><td>nan</td><td>-1</td><td>nan</td><td>nan</td><td>nan</td><td>-1</td><td>nan</td><td>nan</td><td>nan</td><td>-1</td><td>nan</td><td>17.147000000000002</td><td>0.114</td><td>9.5</td><td>0.9209</td><td>17.299</td><td>0.488</td><td>2.200000047683716</td><td>0.9023</td><td>12.078</td><td>nan</td><td>1.7000000476837158</td><td>0.9846</td><td>9.195</td><td>0.114</td><td>0.0</td><td>0.9834</td><td>0000</td><td>BCUU</td><td>1.9542</td><td>1.0</td><td>1.4553019731259195e-31</td><td>3.058207245401542e-32</td><td>5.626205722392948e-32</td><td>4.34547171333024e-32</td><td>1.0370132404832715e-31</td><td>6.036993390484128e-32</td><td>3.234950461760952e-32</td><td>6.303459151905925e-32</td><td>0</td><td>-1.0</td><td>-1.0</td><td>-1.0</td></tr>\n",
       "</table>"
      ],
      "text/plain": [
       "<Table length=100>\n",
       "    SDSS_NAME              RA         ... FIRST_SNR SDSS2FIRST_SEP\n",
       "        -                 deg         ...     -         arcsec    \n",
       "     bytes18            float64       ...  float64     float64    \n",
       "------------------ ------------------ ... --------- --------------\n",
       "002927.12+005959.1 7.3630113436661695 ...      -1.0           -1.0\n",
       "002951.92+011450.1  7.466360282002142 ...      -1.0           -1.0\n",
       "003016.29+011056.3 7.5678928031310795 ...      -1.0           -1.0\n",
       "003116.89+002935.5  7.820408684607401 ...      -1.0           -1.0\n",
       "003135.50+004503.4  7.897957879137124 ...      -1.0           -1.0\n",
       "003425.95+003904.0  8.608143195145914 ...      -1.0           -1.0\n",
       "003432.39+010650.6  8.634960882107023 ...      -1.0           -1.0\n",
       "003452.82+001351.9  8.720122532190715 ...      -1.0           -1.0\n",
       "003633.69+005020.7  9.140380223195224 ...      -1.0           -1.0\n",
       "               ...                ... ...       ...            ...\n",
       "022519.50+004823.7  36.33125486708319 ...      -1.0           -1.0\n",
       "022545.65+005149.9  36.44024400864447 ...      -1.0           -1.0\n",
       "022558.08+001938.6  36.49201886006188 ...      -1.0           -1.0\n",
       "022614.49+004706.7 36.560399665839206 ...      -1.0           -1.0\n",
       "022623.06+005827.6 36.596104817929074 ...      -1.0           -1.0\n",
       "022641.43+010459.6 36.672647838374075 ...      -1.0           -1.0\n",
       "022649.12+004812.5  36.70470746600017 ...      -1.0           -1.0\n",
       "022655.43+005555.5  36.73098778062654 ...      -1.0           -1.0\n",
       "022702.11+002744.4  36.75882746195649 ...      -1.0           -1.0\n",
       "022710.75+010457.9  36.79482964992712 ...      -1.0           -1.0"
      ]
     },
     "execution_count": 8,
     "metadata": {},
     "output_type": "execute_result"
    }
   ],
   "source": [
    "#Group the catalog by PLATE and select only first N objects you want to use... \n",
    "#Note I've used only 50 here but the idea would be to download many more... \n",
    "cat_by_plate=reduced_cat.group_by('PLATE')\n",
    "small_cat=cat_by_plate[0:100]\n",
    "small_cat"
   ]
  },
  {
   "cell_type": "markdown",
   "metadata": {},
   "source": [
    "This will be our small catalog to use. Let's see how the qso's are distributed compared to the full catalog."
   ]
  },
  {
   "cell_type": "code",
   "execution_count": 9,
   "metadata": {},
   "outputs": [
    {
     "data": {
      "text/plain": [
       "Text(0, 0.5, 'DEC')"
      ]
     },
     "execution_count": 9,
     "metadata": {},
     "output_type": "execute_result"
    },
    {
     "data": {
      "image/png": "[encoded data removed]",
      "text/plain": [
       "<Figure size 432x288 with 1 Axes>"
      ]
     },
     "metadata": {
      "needs_background": "light"
     },
     "output_type": "display_data"
    }
   ],
   "source": [
    "#Lets plot the distribution in RA/DEC of the full catalog, and the small catalog\n",
    "plt.scatter(cat_by_plate['RA'],cat_by_plate['DEC'],marker='.')\n",
    "plt.scatter(small_cat['RA'],small_cat['DEC'],marker='.')\n",
    "plt.xlabel('RA')\n",
    "plt.ylabel('DEC')"
   ]
  },
  {
   "cell_type": "markdown",
   "metadata": {},
   "source": [
    "Excercise: Make a few more plots showing how the full and small catalog are distributed in redshift, magnitude, etc... "
   ]
  },
  {
   "cell_type": "code",
   "execution_count": 10,
   "metadata": {},
   "outputs": [],
   "source": [
    "thing_id=small_cat['THING_ID']\n",
    "fiberid=small_cat['FIBERID']\n",
    "plate=small_cat['PLATE']\n",
    "zqso=small_cat['Z']"
   ]
  },
  {
   "cell_type": "markdown",
   "metadata": {},
   "source": [
    "Now each of the spectra is located in specific files called spPlate-PLATE-MJD. So lets make a list of all the spPlates that we need "
   ]
  },
  {
   "cell_type": "code",
   "execution_count": 11,
   "metadata": {},
   "outputs": [
    {
     "data": {
      "text/plain": [
       "array(['3586/spPlate-3586-55181.fits', '3587/spPlate-3587-55182.fits',\n",
       "       '3588/spPlate-3588-55184.fits', '3589/spPlate-3589-55186.fits',\n",
       "       '3590/spPlate-3590-55201.fits', '3606/spPlate-3606-55182.fits',\n",
       "       '3609/spPlate-3609-55201.fits', '3615/spPlate-3615-55179.fits',\n",
       "       '3615/spPlate-3615-55208.fits', '3615/spPlate-3615-56544.fits'],\n",
       "      dtype='<U28')"
      ]
     },
     "execution_count": 11,
     "metadata": {},
     "output_type": "execute_result"
    }
   ],
   "source": [
    "#GET THE UNIQUE PLATES WE NEED TO DOWNLOAD FOR THE SELECTION ABOVE AND CONSTRUCT THE FILE NAMES WE NEED. \n",
    "plate_list=[]\n",
    "for p,m in zip(small_cat['PLATE'],small_cat['MJD']):\n",
    "    plate_list.append(str(p)+'/spPlate-'+str(p)+'-'+str(m)+'.fits')\n",
    "plate_list=np.unique(plate_list)\n",
    "plate_list"
   ]
  },
  {
   "cell_type": "markdown",
   "metadata": {},
   "source": [
    "Now lets download the files the same way we did with the catalog"
   ]
  },
  {
   "cell_type": "code",
   "execution_count": null,
   "metadata": {},
   "outputs": [
    {
     "name": "stdout",
     "output_type": "stream",
     "text": [
      "downloading spplate from https://data.sdss.org/sas/dr14/eboss/spectro/redux/v5_10_0/3586/spPlate-3586-55181.fits to ./spPlates/spPlate-3586-55181.fits\n",
      "downloading spplate from https://data.sdss.org/sas/dr14/eboss/spectro/redux/v5_10_0/3587/spPlate-3587-55182.fits to ./spPlates/spPlate-3587-55182.fits\n",
      "downloading spplate from https://data.sdss.org/sas/dr14/eboss/spectro/redux/v5_10_0/3588/spPlate-3588-55184.fits to ./spPlates/spPlate-3588-55184.fits\n",
      "downloading spplate from https://data.sdss.org/sas/dr14/eboss/spectro/redux/v5_10_0/3589/spPlate-3589-55186.fits to ./spPlates/spPlate-3589-55186.fits\n",
      "downloading spplate from https://data.sdss.org/sas/dr14/eboss/spectro/redux/v5_10_0/3590/spPlate-3590-55201.fits to ./spPlates/spPlate-3590-55201.fits\n",
      "downloading spplate from https://data.sdss.org/sas/dr14/eboss/spectro/redux/v5_10_0/3606/spPlate-3606-55182.fits to ./spPlates/spPlate-3606-55182.fits\n",
      "downloading spplate from https://data.sdss.org/sas/dr14/eboss/spectro/redux/v5_10_0/3609/spPlate-3609-55201.fits to ./spPlates/spPlate-3609-55201.fits\n"
     ]
    }
   ],
   "source": [
    "#Takes some minutes... we will have this data on a \n",
    "plates_url='https://data.sdss.org/sas/dr14/eboss/spectro/redux/v5_10_0/'\n",
    "plates_local='./spPlates/'\n",
    "\n",
    "if not os.path.exists(plates_local):\n",
    "        os.makedirs(plates_local)\n",
    "\n",
    "for plate_ in plate_list:\n",
    "    url_file = os.path.join(plates_url,plate_)\n",
    "    local_file=plates_local+plate_.split(\"/\")[1]\n",
    "    if not os.path.exists(local_file):\n",
    "        print(\"downloading spplate from %s to %s\"\n",
    "              % (url_file, local_file))\n",
    "        tmp = urllib.request.urlretrieve(url_file, local_file)\n",
    "    else:\n",
    "        print('%s  %s present on disk. '%(url_file,local_file))\n"
   ]
  },
  {
   "cell_type": "markdown",
   "metadata": {},
   "source": [
    "If downloading multiple files, as many as to have a about 10K qso's, maybe is better to save the filenames list to a file \n",
    "and use it to download the files from terminal... it could be a little faster..."
   ]
  },
  {
   "cell_type": "markdown",
   "metadata": {},
   "source": [
    "## PART 2: Explore the qso data. "
   ]
  },
  {
   "cell_type": "markdown",
   "metadata": {},
   "source": [
    "Lets explore what is in those file we've downloaded. For a full description of the spPlates look \n",
    "https://data.sdss.org/datamodel/files/BOSS_SPECTRO_REDUX/RUN2D/PLATE4/spPlate.html  "
   ]
  },
  {
   "cell_type": "code",
   "execution_count": null,
   "metadata": {},
   "outputs": [],
   "source": [
    "#Explore the fist of the spPlates.\n",
    "file=plates_local+plate_list[2].split(\"/\")[1]\n",
    "plate1=pyfits.open(file)\n",
    "print(file)"
   ]
  },
  {
   "cell_type": "code",
   "execution_count": null,
   "metadata": {},
   "outputs": [],
   "source": [
    "plate1.info()"
   ]
  },
  {
   "cell_type": "code",
   "execution_count": null,
   "metadata": {},
   "outputs": [],
   "source": [
    "#What is in the PLUGMAP\n",
    "plugmap=plate1['PLUGMAP'].data\n",
    "Table(plugmap)"
   ]
  },
  {
   "cell_type": "markdown",
   "metadata": {},
   "source": [
    "As you can see an spPlate has more than only qso's... so we need to retrive only the information for the quasars we have selected in the small catalog. Then lets to this for the first spPlate. "
   ]
  },
  {
   "cell_type": "code",
   "execution_count": null,
   "metadata": {},
   "outputs": [],
   "source": [
    "#Select from small catalog only qso's that are in first spPlate.\n",
    "thisplate=plate_list[2].split(\"/\")[0]\n",
    "w=plate==int(thisplate)\n",
    "ids_=fiberid[w]\n",
    "zqso_=zqso[w]"
   ]
  },
  {
   "cell_type": "code",
   "execution_count": null,
   "metadata": {},
   "outputs": [],
   "source": [
    "#Select from the plugmap nly the qso's that are in the small catalog. \n",
    "w=np.in1d(plugmap['FIBERID'],ids_)\n",
    "small_plugmap=plugmap[w]\n",
    "Table(small_plugmap)"
   ]
  },
  {
   "cell_type": "markdown",
   "metadata": {},
   "source": [
    "So far so good, but haven't selected the spectra, only the information about the qso's. So lets get the observed flux for the qso's, i.e. the spectra!"
   ]
  },
  {
   "cell_type": "markdown",
   "metadata": {},
   "source": [
    "The wavelenght is given by the parameters 'COEFF0' and 'COEFF1' present in the header of the first hdu of the spPlate file, while the flux is an array in the same hdu."
   ]
  },
  {
   "cell_type": "code",
   "execution_count": null,
   "metadata": {},
   "outputs": [],
   "source": [
    "#Get the wavelenght\n",
    "pltheader=plate1[0].header\n",
    "coeff0=pltheader['COEFF0']\n",
    "coeff1=pltheader['COEFF1']\n"
   ]
  },
  {
   "cell_type": "code",
   "execution_count": null,
   "metadata": {},
   "outputs": [],
   "source": [
    "#Get the spectra\n",
    "flux=plate1[0].data\n",
    "ivar=plate1[1].data\n",
    "logwave=coeff0+coeff1*np.arange(flux.shape[1])"
   ]
  },
  {
   "cell_type": "markdown",
   "metadata": {},
   "source": [
    "Lets look at what we got. "
   ]
  },
  {
   "cell_type": "code",
   "execution_count": null,
   "metadata": {},
   "outputs": [],
   "source": [
    "#Plot some of the specta\n",
    "plt.figure(figsize=(6,40),dpi=100)\n",
    "i=0\n",
    "for i in range(4):\n",
    "    plt.subplot(len(ids_),1,i+1)\n",
    "    plt.plot(10**logwave,flux[ids_[i]-1])\n",
    "    plt.ylabel('Flux 1E-17 erg/cm^2/s/Ang')\n",
    "    plt.xlabel('\\lambda [\\Ang]')\n",
    "    plt.xlim(3500,6000)\n",
    "    i+=1\n"
   ]
  },
  {
   "cell_type": "markdown",
   "metadata": {},
   "source": [
    "Exercise: Ideally you'll do both but you can start with the one is more interesting for you. \n",
    "\n",
    "- For those interested in quasars :D\n",
    "\n",
    "    - Do they look like Lya quasars?\n",
    "    - Plot some of the spectra in the rest frame\n",
    "    - Cut the spectra to save only the Lya region defined between 104-120nm in the rest frame\n",
    "    - For each spectra save the zqso,wave,flux_lya,ivar, and save all in a single file. \n",
    "    - Make other selections criteria, to see other types of quasars... \n",
    " \n",
    "- For those just practicing/playing with the data \n",
    "\n",
    "    - Find other variables that could be linked between the spPlates and the DR14Q file. \n",
    "    - Play making different selections, maybe based in redshift, or color, or different combinations.\n",
    "    - From the spPlates, what other types of objets are? make a descriptive analysis of these data, and the DR14Q file. "
   ]
  },
  {
   "cell_type": "markdown",
   "metadata": {},
   "source": []
  },
  {
   "cell_type": "code",
   "execution_count": null,
   "metadata": {},
   "outputs": [],
   "source": []
  }
 ],
 "metadata": {
  "kernelspec": {
   "display_name": "Python 3",
   "language": "python",
   "name": "python3"
  },
  "language_info": {
   "codemirror_mode": {
    "name": "ipython",
    "version": 3
   },
   "file_extension": ".py",
   "mimetype": "text/x-python",
   "name": "python",
   "nbconvert_exporter": "python",
   "pygments_lexer": "ipython3",
   "version": "3.7.7"
  }
 },
 "nbformat": 4,
 "nbformat_minor": 4
}
