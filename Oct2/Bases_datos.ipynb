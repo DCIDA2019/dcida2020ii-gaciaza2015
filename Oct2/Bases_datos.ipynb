{
 "cells": [
  {
   "cell_type": "markdown",
   "metadata": {},
   "source": [
    "<h1><center>  <font color='red'> Bases de Datos </font></center></h1>"
   ]
  },
  {
   "cell_type": "markdown",
   "metadata": {
    "slideshow": {
     "slide_type": "slide"
    }
   },
   "source": [
    "## GRANDES BASES DE DATOS\n",
    "\n",
    "- Bases de datos actuales:\n",
    "  - Pueden llegar a contener miles de millones de objetos. \n",
    "  - El análisis empieza a representar un reto, aún cuando las operaciones que se realicen escalen linealmente con el tamaño de la base de datos. \n",
    "  - Parte de la estadística a realizar es interactiva, por lo que es deseable poder realizarla en tiempos que permitan que siga siendo así (descriptiva) \n",
    "  - Otros análisis estadísticos (inferencia) se vuelve mas compleja pues es iterativa o no escala linealmente con el tamaño de las bases de datos. \n",
    "\n",
    "- Importante a tomar en cuenta al elegir un método y/o técnica de análisis: \n",
    "  - No sacrificar la exactitud del análisis al usar aproximaciones. \n",
    "  - Desempeño computacional y desempeño del análisis estadístico van de la mano.\n",
    "  - Capacidad de probar modelos mas complejos y/o inferir parámetros para cada modelo, que deriven directamente en mejores ajustes y predicciones. "
   ]
  },
  {
   "cell_type": "markdown",
   "metadata": {
    "slideshow": {
     "slide_type": "slide"
    }
   },
   "source": [
    "## Recordatorio: Tipos de datos\n",
    "  - Categóricos : Descripciones, Atributos, pueden o no estar ordenados \n",
    "    -  Nominal. E.g tipo de galaxia, genero.\n",
    "    -  Ordinal. E.g. Clasificación espectral estelar,      Escolaridad,  Nivel de satisfacción del cliente. \n",
    "    \n",
    "  - Numéricos: Tipicamente son resultado de mediciones cuantitativas, usualmente tienen un error asociado. Los valores pueden ser asociados a distribuciones de probabilidad (mas adelante entraremos en detalle). \n",
    "    - Discretos \n",
    "    - Continuos\n",
    "    - Intervalos"
   ]
  },
  {
   "cell_type": "markdown",
   "metadata": {
    "slideshow": {
     "slide_type": "slide"
    }
   },
   "source": [
    "## Bases de datos\n",
    " - Relacionales (RDBMS- Relational Database Management Systems) : \n",
    "   - Datos organizados en colecciones de tablas (filas y columnas) con esquemas que representan atributos fijos y tipo de datos. \n",
    "   - Diseñadas para acceso tipo SQL (Structured Query Language) aunque muchos otros lenguajes tienen sus propias herramientas, e.g. PANDAS...  \n",
    " - No Relacionales:\n",
    "   - Alternativa a las RDBMS, surgen para cubrir necesidades de aplicaciones web. Pueden tener diferentes formas, la mayor diferencia es que no es un esquema rígido. En las RDBMs insertar datos debe ser de acuerdo al tipo y estructura original, mientras que en las no relacionales permiten almacenar y manipular datos de forma no estructurada, o semiestructurada.\n",
    "   - tipicamente organizada en pares: identificador-valor.\n",
    "\n",
    "- [Artículo interesante sobre bases de datos ](https://www.alooma.com/blog/types-of-modern-databases)"
   ]
  },
  {
   "cell_type": "markdown",
   "metadata": {
    "slideshow": {
     "slide_type": "subslide"
    }
   },
   "source": [
    "- Las bases de datos tradicionales no cubrirán las necesidades futuras, en particular de los sondeos astronómicos. Involucran la creación de grandes conjuntos de datos, algunos con formatos de arreglos, y relaciones entre ellos (multidimensionales).\n",
    "- Investigación y desarrollo de arquitecturas de bases de datos eficientes. \n",
    "    - E.g. [SciDB](https://dbdb.io/db/scidb) (Inspirada en las necesidades de almacenamiento de datos y procesamiento del [Rubin Observatory, LSST](https://www.lsst.org). \n",
    "        - 10-años del Legacy Survey of Space and Time (LSST).\n",
    "        - LSST plano focal: 3.2 mil millones pixels\n",
    "        - Para desplegar una imagen completa se requería de ~1500 pantallas de alta definición. \n",
    "        - Espera entregar 500 PB de imágenes y productos. \n",
    "        - Procesará más de 20TB de datos por noche.\n",
    "        - VER https://docushare.lsst.org/docushare/dsweb/Get/Document-14554"
   ]
  },
  {
   "cell_type": "markdown",
   "metadata": {
    "slideshow": {
     "slide_type": "slide"
    }
   },
   "source": [
    "## Formatos comunes de archivos en bases de datos \n",
    "\n",
    "- CSV (comma-separated values)\n",
    "  - Leíble y fácil de editar manualmente\n",
    "  - Compacto.\n",
    "  - No hace diferencia entre tipos de columnas. \n",
    "  - Archivos pesados, no pueden ser binarios. \n",
    "  - No hay estándar. \n",
    "- JSON (JavaScript object notation)\n",
    "  - Leíble y relativamente fácil de editar manualmente.\n",
    "  - Formato parcialmente estructurado.\n",
    "  - Estructura Jerárquica.\n",
    "  - Soporta el uso de listas\n",
    "  - Muy usado para bases que no requieren SQL"
   ]
  },
  {
   "cell_type": "markdown",
   "metadata": {
    "jupyter": {
     "source_hidden": true
    },
    "slideshow": {
     "slide_type": "subslide"
    }
   },
   "source": [
    "### En astronomía y cosmología\n",
    "- FITS (Flexible Image Transport System)\n",
    "    - Endorsado por la NASA y la IAU.\n",
    "    - Formato de arreglos multidimensionales (incluye imágenes) o tablas.\n",
    "    - Incluye Metadata\n",
    "    - Archivos binarios\n",
    "    - En python se pueden manipular con las librerías [fitsio](https://github.com/esheldon/fitsio), [astropy.io.fits](https://docs.astropy.org/en/stable/io/fits/)\n",
    "- HDF5 https://www.hdfgroup.org/about-us/\n",
    "    - conjuntos de datos multidimensionales, cada elemento puede ser en si mismo un objeto complejo...\n",
    "    - Incluye Metadata\n",
    "    - Archivos Binarios \n",
    "    - En python se pueden manipular con la librería [h5py](https://www.h5py.org) "
   ]
  },
  {
   "cell_type": "code",
   "execution_count": 146,
   "metadata": {
    "jupyter": {
     "source_hidden": true
    },
    "slideshow": {
     "slide_type": "slide"
    }
   },
   "outputs": [
    {
     "name": "stdout",
     "output_type": "stream",
     "text": [
      "\n",
      "  file: /Users/almagonzalez/Documents/cursos/DataAnalysis/DCIDA2020II/data/Skyserver_Radial10_2_2020_3_06_34_PM.fits\n",
      "  mode: READONLY\n",
      "  extnum hdutype         hduname[v]\n",
      "  0      IMAGE_HDU       \n",
      "  1      BINARY_TBL      \n"
     ]
    }
   ],
   "source": [
    "##Ejemplos en Astronomía/Cosmología\n",
    "import fitsio\n",
    "#Descargado de http://skyserver.sdss.org/dr13/en/tools/search/sql.aspx\n",
    "\n",
    "file='/Users/almagonzalez/Documents/cursos/DataAnalysis/DCIDA2020II/data/Skyserver_Radial10_2_2020_3_06_34_PM.fits' \n",
    "data=fitsio.FITS(file)\n",
    "print(data)"
   ]
  },
  {
   "cell_type": "code",
   "execution_count": 147,
   "metadata": {
    "jupyter": {
     "source_hidden": true
    },
    "slideshow": {
     "slide_type": "subslide"
    }
   },
   "outputs": [
    {
     "name": "stdout",
     "output_type": "stream",
     "text": [
      "\n",
      "  file: /Users/almagonzalez/Documents/cursos/DataAnalysis/DCIDA2020II/data/Skyserver_Radial10_2_2020_3_06_34_PM.fits\n",
      "  extension: 0\n",
      "  type: IMAGE_HDU\n",
      "  image info:\n",
      "    data type: u1\n",
      "    dims: []\n",
      "\n",
      "  file: /Users/almagonzalez/Documents/cursos/DataAnalysis/DCIDA2020II/data/Skyserver_Radial10_2_2020_3_06_34_PM.fits\n",
      "  extension: 1\n",
      "  type: BINARY_TBL\n",
      "  rows: 10\n",
      "  column info:\n",
      "    objid               i8  \n",
      "    ra                  f8  \n",
      "    dec                 f8  \n",
      "    u                   f4  \n",
      "    g                   f4  \n",
      "    r                   f4  \n",
      "    i                   f4  \n",
      "    z                   f4  \n",
      "    run                 i2  \n",
      "    rerun               i2  \n",
      "    camcol              u1  \n",
      "    field               i2  \n",
      "    specobjid           i8  \n",
      "    class              S32  \n",
      "    redshift            f4  \n",
      "    plate               i2  \n",
      "    mjd                 i4  \n",
      "    fiberid             i2  \n"
     ]
    }
   ],
   "source": [
    "#Se puede acceder a cada elemento ya sea por numero de extension o por nombre. \n",
    "print(data[0])\n",
    "print(data[1])"
   ]
  },
  {
   "cell_type": "code",
   "execution_count": 148,
   "metadata": {
    "slideshow": {
     "slide_type": "subslide"
    }
   },
   "outputs": [
    {
     "name": "stdout",
     "output_type": "stream",
     "text": [
      "  file: /Users/almagonzalez/Documents/cursos/DataAnalysis/DCIDA2020II/data/Skyserver_Radial10_2_2020_3_06_34_PM.fits\n",
      "  extension: 1\n",
      "  type: BINARY_TBL\n",
      "  rows: 10\n",
      "  column subset:\n",
      "    class              S32  array[32]\n"
     ]
    }
   ],
   "source": [
    "print(data[1]['class'])\n"
   ]
  },
  {
   "cell_type": "code",
   "execution_count": 149,
   "metadata": {
    "slideshow": {
     "slide_type": "fragment"
    }
   },
   "outputs": [
    {
     "name": "stdout",
     "output_type": "stream",
     "text": [
      "['GALAXY' 'GALAXY' 'GALAXY' 'GALAXY' 'GALAXY' 'GALAXY' 'STAR' 'STAR'\n",
      " 'STAR' 'STAR']\n"
     ]
    }
   ],
   "source": [
    "print(data[1]['class'].read())  \n"
   ]
  },
  {
   "cell_type": "code",
   "execution_count": 150,
   "metadata": {
    "slideshow": {
     "slide_type": "subslide"
    }
   },
   "outputs": [
    {
     "name": "stdout",
     "output_type": "stream",
     "text": [
      "\n",
      "  file: /Users/almagonzalez/Documents/cursos/DataAnalysis/DCIDA2020II/data/Skyserver_Radial10_2_2020_3_06_34_PM.fits\n",
      "  extension: 1\n",
      "  type: BINARY_TBL\n",
      "  rows: 10\n",
      "  column info:\n",
      "    objid               i8  \n",
      "    ra                  f8  \n",
      "    dec                 f8  \n",
      "    u                   f4  \n",
      "    g                   f4  \n",
      "    r                   f4  \n",
      "    i                   f4  \n",
      "    z                   f4  \n",
      "    run                 i2  \n",
      "    rerun               i2  \n",
      "    camcol              u1  \n",
      "    field               i2  \n",
      "    specobjid           i8  \n",
      "    class              S32  \n",
      "    redshift            f4  \n",
      "    plate               i2  \n",
      "    mjd                 i4  \n",
      "    fiberid             i2  \n"
     ]
    }
   ],
   "source": [
    "print(data[1])"
   ]
  },
  {
   "cell_type": "code",
   "execution_count": 151,
   "metadata": {
    "slideshow": {
     "slide_type": "fragment"
    }
   },
   "outputs": [
    {
     "name": "stdout",
     "output_type": "stream",
     "text": [
      "['objid', 'ra', 'dec', 'u', 'g', 'r', 'i', 'z', 'run', 'rerun', 'camcol', 'field', 'specobjid', 'class', 'redshift', 'plate', 'mjd', 'fiberid']\n"
     ]
    }
   ],
   "source": [
    "print(data[1].get_colnames())"
   ]
  },
  {
   "cell_type": "code",
   "execution_count": 152,
   "metadata": {
    "slideshow": {
     "slide_type": "subslide"
    }
   },
   "outputs": [
    {
     "name": "stdout",
     "output_type": "stream",
     "text": [
      "[(1237645879551066262, 348.90253017, 1.27188625, 19.389048, 18.244959, 17.587278, 17.208069, 16.909048,  94, 301, 6,  94,  430194949951088640, 'GALAXY',  3.2124542e-02,  382, 51816, 368)\n",
      " (1237645879578460255,  51.443695  , 1.27007272, 19.528076, 17.965414, 17.034931, 16.537539, 16.141544,  94, 301, 6, 512,  466235292731336704, 'GALAXY',  1.2131510e-01,  414, 51869, 410)\n",
      " (1237645942905438473,  57.02533658, 0.208845  , 17.614443, 16.171253, 15.521305, 15.155643, 14.869958, 109, 301, 4, 149, 1398488404370417664, 'GALAXY',  2.5474695e-02, 1242, 52901, 439)\n",
      " (1237645943976493256,  50.9079312 , 0.99125872, 19.398417, 18.404636, 18.17116 , 18.037088, 17.935434, 109, 301, 6, 108, 1198049078458476544, 'GALAXY',  2.2200702e-02, 1064, 52577, 333)\n",
      " (1237645943978590400,  55.59362538, 1.0000282 , 19.205717, 18.09703 , 17.647383, 17.322699, 17.136513, 109, 301, 6, 140,  468497811810314240, 'GALAXY',  7.2298594e-02,  416, 51811, 449)\n",
      " (1237645943978590386,  55.58549933, 1.02147552, 18.802794, 17.160578, 16.466654, 16.056725, 15.765658, 109, 301, 6, 140,  468496712298686464, 'GALAXY',  3.7585422e-02,  416, 51811, 445)\n",
      " (1237645943978590282,  55.6351766 , 1.04641324, 18.52349 , 17.489754, 16.904943, 16.734407, 16.590076, 109, 301, 6, 140, 8254209823278501888, 'STAR', -7.3576847e-04, 7331, 56658, 864)\n",
      " (1237645943978590279,  55.63246604, 0.91217183, 19.428385, 17.754522, 17.113958, 16.888033, 16.73496 , 109, 301, 6, 140,  804018464493692928, 'STAR',  2.3624645e-05,  714, 52201, 458)\n",
      " (1237645943978590229,  55.59012356, 0.89631646, 19.167492, 18.552994, 17.697626, 17.344303, 17.09744 , 109, 301, 6, 140, 1195815971047106560, 'STAR',  4.7686382e-05, 1062, 52619, 401)\n",
      " (1237645943978524767,  55.54596332, 0.86670069, 18.100332, 16.870993, 16.690332, 16.645224, 16.623785, 109, 301, 6, 139, 8254201851819200512, 'STAR', -2.6287858e-05, 7331, 56658, 835)]\n",
      "[1237645879551066262 1237645879578460255 1237645942905438473\n",
      " 1237645943976493256 1237645943978590400 1237645943978590386\n",
      " 1237645943978590282 1237645943978590279 1237645943978590229\n",
      " 1237645943978524767]\n"
     ]
    }
   ],
   "source": [
    "#Podemos asignar cada elemento a una nueva variable para después manipularla\n",
    "\n",
    "data_T=data[1].read()\n",
    "print(data_T)\n",
    "print(data_T['objid'])"
   ]
  },
  {
   "cell_type": "code",
   "execution_count": 153,
   "metadata": {},
   "outputs": [],
   "source": [
    "data.close()"
   ]
  },
  {
   "cell_type": "code",
   "execution_count": 154,
   "metadata": {
    "slideshow": {
     "slide_type": "slide"
    }
   },
   "outputs": [
    {
     "name": "stdout",
     "output_type": "stream",
     "text": [
      "[<astropy.io.fits.hdu.image.PrimaryHDU object at 0x7ff60d6b6f10>, <astropy.io.fits.hdu.table.BinTableHDU object at 0x7ff60d6ae110>]\n"
     ]
    }
   ],
   "source": [
    "##Podemos hacer exactamente lo mismo con astropy\n",
    "##Ejemplos en Astronomía/Cosmología\n",
    "import astropy.io.fits as apfits\n",
    "#Descargado de http://skyserver.sdss.org/dr13/en/tools/search/sql.aspx\n",
    "\n",
    "file='/Users/almagonzalez/Documents/cursos/DataAnalysis/DCIDA2020II/data/Skyserver_Radial10_2_2020_3_06_34_PM.fits' \n",
    "hdul=apfits.open(file)\n",
    "##hdul: Header Data Unit List\n",
    "print(hdul)"
   ]
  },
  {
   "cell_type": "code",
   "execution_count": 155,
   "metadata": {
    "slideshow": {
     "slide_type": "fragment"
    }
   },
   "outputs": [
    {
     "name": "stdout",
     "output_type": "stream",
     "text": [
      "Filename: /Users/almagonzalez/Documents/cursos/DataAnalysis/DCIDA2020II/data/Skyserver_Radial10_2_2020_3_06_34_PM.fits\n",
      "No.    Name      Ver    Type      Cards   Dimensions   Format\n",
      "  0  PRIMARY       1 PrimaryHDU       4   ()      \n",
      "  1                1 BinTableHDU     45   10R x 18C   [1K, 1D, 1D, 1E, 1E, 1E, 1E, 1E, 1I, 1I, 1B, 1I, 1K, 32A, 1E, 1I, 1J, 1I]   \n"
     ]
    }
   ],
   "source": [
    "#Obten informaciín del archivo. \n",
    "hdul.info()"
   ]
  },
  {
   "cell_type": "code",
   "execution_count": 156,
   "metadata": {
    "slideshow": {
     "slide_type": "fragment"
    }
   },
   "outputs": [
    {
     "name": "stdout",
     "output_type": "stream",
     "text": [
      "None\n",
      "[(1237645879551066262, 348.90253017, 1.27188625, 19.389048, 18.244959, 17.587278, 17.208069, 16.909048,  94, 301, 6,  94,  430194949951088640, 'GALAXY',  3.2124542e-02,  382, 51816, 368)\n",
      " (1237645879578460255,  51.443695  , 1.27007272, 19.528076, 17.965414, 17.034931, 16.537539, 16.141544,  94, 301, 6, 512,  466235292731336704, 'GALAXY',  1.2131510e-01,  414, 51869, 410)\n",
      " (1237645942905438473,  57.02533658, 0.208845  , 17.614443, 16.171253, 15.521305, 15.155643, 14.869958, 109, 301, 4, 149, 1398488404370417664, 'GALAXY',  2.5474695e-02, 1242, 52901, 439)\n",
      " (1237645943976493256,  50.9079312 , 0.99125872, 19.398417, 18.404636, 18.17116 , 18.037088, 17.935434, 109, 301, 6, 108, 1198049078458476544, 'GALAXY',  2.2200702e-02, 1064, 52577, 333)\n",
      " (1237645943978590400,  55.59362538, 1.0000282 , 19.205717, 18.09703 , 17.647383, 17.322699, 17.136513, 109, 301, 6, 140,  468497811810314240, 'GALAXY',  7.2298594e-02,  416, 51811, 449)\n",
      " (1237645943978590386,  55.58549933, 1.02147552, 18.802794, 17.160578, 16.466654, 16.056725, 15.765658, 109, 301, 6, 140,  468496712298686464, 'GALAXY',  3.7585422e-02,  416, 51811, 445)\n",
      " (1237645943978590282,  55.6351766 , 1.04641324, 18.52349 , 17.489754, 16.904943, 16.734407, 16.590076, 109, 301, 6, 140, 8254209823278501888, 'STAR', -7.3576847e-04, 7331, 56658, 864)\n",
      " (1237645943978590279,  55.63246604, 0.91217183, 19.428385, 17.754522, 17.113958, 16.888033, 16.73496 , 109, 301, 6, 140,  804018464493692928, 'STAR',  2.3624645e-05,  714, 52201, 458)\n",
      " (1237645943978590229,  55.59012356, 0.89631646, 19.167492, 18.552994, 17.697626, 17.344303, 17.09744 , 109, 301, 6, 140, 1195815971047106560, 'STAR',  4.7686382e-05, 1062, 52619, 401)\n",
      " (1237645943978524767,  55.54596332, 0.86670069, 18.100332, 16.870993, 16.690332, 16.645224, 16.623785, 109, 301, 6, 139, 8254201851819200512, 'STAR', -2.6287858e-05, 7331, 56658, 835)]\n"
     ]
    }
   ],
   "source": [
    "print(hdul[0].data)\n",
    "print(hdul[1].data)"
   ]
  },
  {
   "cell_type": "code",
   "execution_count": 157,
   "metadata": {
    "slideshow": {
     "slide_type": "subslide"
    }
   },
   "outputs": [
    {
     "name": "stdout",
     "output_type": "stream",
     "text": [
      "ColDefs(\n",
      "    name = 'objid'; format = '1K'\n",
      "    name = 'ra'; format = '1D'\n",
      "    name = 'dec'; format = '1D'\n",
      "    name = 'u'; format = '1E'\n",
      "    name = 'g'; format = '1E'\n",
      "    name = 'r'; format = '1E'\n",
      "    name = 'i'; format = '1E'\n",
      "    name = 'z'; format = '1E'\n",
      "    name = 'run'; format = '1I'\n",
      "    name = 'rerun'; format = '1I'\n",
      "    name = 'camcol'; format = '1B'\n",
      "    name = 'field'; format = '1I'\n",
      "    name = 'specobjid'; format = '1K'; null = -9223372036854775808\n",
      "    name = 'class'; format = '32A'\n",
      "    name = 'redshift'; format = '1E'\n",
      "    name = 'plate'; format = '1I'\n",
      "    name = 'mjd'; format = '1J'\n",
      "    name = 'fiberid'; format = '1I'\n",
      ")\n"
     ]
    }
   ],
   "source": [
    "data=hdul[1]\n",
    "print(data.columns)"
   ]
  },
  {
   "cell_type": "code",
   "execution_count": 158,
   "metadata": {
    "slideshow": {
     "slide_type": "slide"
    }
   },
   "outputs": [
    {
     "name": "stdout",
     "output_type": "stream",
     "text": [
      "       objid                ra                 dec         ...  mjd  fiberid\n",
      "------------------- ------------------ ------------------- ... ----- -------\n",
      "1237645879551066262  348.9025301715727  1.2718862493294594 ... 51816     368\n",
      "1237645879578460255 51.443695002614845   1.270072717958609 ... 51869     410\n",
      "1237645942905438473  57.02533657806703 0.20884499634774015 ... 52901     439\n",
      "1237645943976493256    50.907931201466  0.9912587244753006 ... 52577     333\n",
      "1237645943978590400  55.59362538435397  1.0000282044924411 ... 51811     449\n",
      "1237645943978590386  55.58549932777862  1.0214755217255564 ... 51811     445\n",
      "1237645943978590282 55.635176604308754  1.0464132374708153 ... 56658     864\n",
      "1237645943978590279 55.632466041338944  0.9121718325276191 ... 52201     458\n",
      "1237645943978590229  55.59012356048663  0.8963164575347443 ... 52619     401\n",
      "1237645943978524767  55.54596331976563  0.8667006911424032 ... 56658     835\n"
     ]
    }
   ],
   "source": [
    "#Podemos visualizarlo como tabla, y usar operaciones definidas para las tablas de astropy\n",
    "from astropy.table import Table\n",
    "data_T=Table(data.data)\n",
    "print(data_T)\n"
   ]
  },
  {
   "cell_type": "code",
   "execution_count": 159,
   "metadata": {},
   "outputs": [],
   "source": [
    "#Podemos cerrar el archivo\n",
    "hdul.close()"
   ]
  },
  {
   "cell_type": "code",
   "execution_count": 160,
   "metadata": {
    "slideshow": {
     "slide_type": "subslide"
    }
   },
   "outputs": [
    {
     "data": {
      "text/html": [
       "<i>Table masked=True length=10</i>\n",
       "<table id=\"table140694763895120\" class=\"table-striped table-bordered table-condensed\">\n",
       "<thead><tr><th>objid</th><th>ra</th><th>dec</th><th>u</th><th>g</th><th>r</th><th>i</th><th>z</th><th>run</th><th>rerun</th><th>camcol</th><th>field</th><th>specobjid</th><th>class</th><th>redshift</th><th>plate</th><th>mjd</th><th>fiberid</th></tr></thead>\n",
       "<thead><tr><th>int64</th><th>float64</th><th>float64</th><th>float32</th><th>float32</th><th>float32</th><th>float32</th><th>float32</th><th>int16</th><th>int16</th><th>uint8</th><th>int16</th><th>int64</th><th>bytes32</th><th>float32</th><th>int16</th><th>int32</th><th>int16</th></tr></thead>\n",
       "<tr><td>1237645879551066262</td><td>348.9025301715727</td><td>1.2718862493294594</td><td>19.389048</td><td>18.244959</td><td>17.587278</td><td>17.208069</td><td>16.909048</td><td>94</td><td>301</td><td>6</td><td>94</td><td>430194949951088640</td><td>GALAXY</td><td>0.03212454</td><td>382</td><td>51816</td><td>368</td></tr>\n",
       "<tr><td>1237645879578460255</td><td>51.443695002614845</td><td>1.270072717958609</td><td>19.528076</td><td>17.965414</td><td>17.034931</td><td>16.537539</td><td>16.141544</td><td>94</td><td>301</td><td>6</td><td>512</td><td>466235292731336704</td><td>GALAXY</td><td>0.1213151</td><td>414</td><td>51869</td><td>410</td></tr>\n",
       "<tr><td>1237645942905438473</td><td>57.02533657806703</td><td>0.20884499634774015</td><td>17.614443</td><td>16.171253</td><td>15.521305</td><td>15.155643</td><td>14.869958</td><td>109</td><td>301</td><td>4</td><td>149</td><td>1398488404370417664</td><td>GALAXY</td><td>0.025474695</td><td>1242</td><td>52901</td><td>439</td></tr>\n",
       "<tr><td>1237645943976493256</td><td>50.907931201466</td><td>0.9912587244753006</td><td>19.398417</td><td>18.404636</td><td>18.17116</td><td>18.037088</td><td>17.935434</td><td>109</td><td>301</td><td>6</td><td>108</td><td>1198049078458476544</td><td>GALAXY</td><td>0.022200702</td><td>1064</td><td>52577</td><td>333</td></tr>\n",
       "<tr><td>1237645943978590400</td><td>55.59362538435397</td><td>1.0000282044924411</td><td>19.205717</td><td>18.09703</td><td>17.647383</td><td>17.322699</td><td>17.136513</td><td>109</td><td>301</td><td>6</td><td>140</td><td>468497811810314240</td><td>GALAXY</td><td>0.072298594</td><td>416</td><td>51811</td><td>449</td></tr>\n",
       "<tr><td>1237645943978590386</td><td>55.58549932777862</td><td>1.0214755217255564</td><td>18.802794</td><td>17.160578</td><td>16.466654</td><td>16.056725</td><td>15.765658</td><td>109</td><td>301</td><td>6</td><td>140</td><td>468496712298686464</td><td>GALAXY</td><td>0.037585422</td><td>416</td><td>51811</td><td>445</td></tr>\n",
       "<tr><td>1237645943978590282</td><td>55.635176604308754</td><td>1.0464132374708153</td><td>18.52349</td><td>17.489754</td><td>16.904943</td><td>16.734407</td><td>16.590076</td><td>109</td><td>301</td><td>6</td><td>140</td><td>8254209823278501888</td><td>STAR</td><td>-0.00073576847</td><td>7331</td><td>56658</td><td>864</td></tr>\n",
       "<tr><td>1237645943978590279</td><td>55.632466041338944</td><td>0.9121718325276191</td><td>19.428385</td><td>17.754522</td><td>17.113958</td><td>16.888033</td><td>16.73496</td><td>109</td><td>301</td><td>6</td><td>140</td><td>804018464493692928</td><td>STAR</td><td>2.3624645e-05</td><td>714</td><td>52201</td><td>458</td></tr>\n",
       "<tr><td>1237645943978590229</td><td>55.59012356048663</td><td>0.8963164575347443</td><td>19.167492</td><td>18.552994</td><td>17.697626</td><td>17.344303</td><td>17.09744</td><td>109</td><td>301</td><td>6</td><td>140</td><td>1195815971047106560</td><td>STAR</td><td>4.7686382e-05</td><td>1062</td><td>52619</td><td>401</td></tr>\n",
       "<tr><td>1237645943978524767</td><td>55.54596331976563</td><td>0.8667006911424032</td><td>18.100332</td><td>16.870993</td><td>16.690332</td><td>16.645224</td><td>16.623785</td><td>109</td><td>301</td><td>6</td><td>139</td><td>8254201851819200512</td><td>STAR</td><td>-2.6287858e-05</td><td>7331</td><td>56658</td><td>835</td></tr>\n",
       "</table>"
      ],
      "text/plain": [
       "<Table masked=True length=10>\n",
       "       objid                ra                 dec         ...  mjd  fiberid\n",
       "       int64             float64             float64       ... int32  int16 \n",
       "------------------- ------------------ ------------------- ... ----- -------\n",
       "1237645879551066262  348.9025301715727  1.2718862493294594 ... 51816     368\n",
       "1237645879578460255 51.443695002614845   1.270072717958609 ... 51869     410\n",
       "1237645942905438473  57.02533657806703 0.20884499634774015 ... 52901     439\n",
       "1237645943976493256    50.907931201466  0.9912587244753006 ... 52577     333\n",
       "1237645943978590400  55.59362538435397  1.0000282044924411 ... 51811     449\n",
       "1237645943978590386  55.58549932777862  1.0214755217255564 ... 51811     445\n",
       "1237645943978590282 55.635176604308754  1.0464132374708153 ... 56658     864\n",
       "1237645943978590279 55.632466041338944  0.9121718325276191 ... 52201     458\n",
       "1237645943978590229  55.59012356048663  0.8963164575347443 ... 52619     401\n",
       "1237645943978524767  55.54596331976563  0.8667006911424032 ... 56658     835"
      ]
     },
     "execution_count": 160,
     "metadata": {},
     "output_type": "execute_result"
    }
   ],
   "source": [
    "#Cuando sabemos que dentro del archivo .fits hay una tabla en particular \n",
    "#con la que vamos a trabajar podríamos usar astropy.Table\n",
    "\n",
    "data= Table.read(file)\n",
    "data"
   ]
  },
  {
   "cell_type": "markdown",
   "metadata": {
    "slideshow": {
     "slide_type": "subslide"
    }
   },
   "source": [
    "- Ejercicio: Ir al notebook eboss_qso_DR14.ipynb\n",
    "\n",
    "- Tarea: \n",
    "  - Explora un poco el lenguaje SQL, hay muchos tutoriales en linea por ejemplo: https://www.tutorialspoint.com/sql/index.html \n",
    "  \n",
    "  - Puedes usar un lenguaje SQL desde python, e incluso combinarlo con pandas e.g  https://www.dataquest.io/blog/python-pandas-databases/\n",
    "  - Aplica algunos de los ejemplos que encuentres a la base de datos con que has estado trabajando. Ya sea repitiendo algo que ya habías hecho sin usar SQL, o bien añadiendo selecciones más complejas.           "
   ]
  },
  {
   "cell_type": "code",
   "execution_count": null,
   "metadata": {
    "jupyter": {
     "source_hidden": true
    }
   },
   "outputs": [],
   "source": []
  },
  {
   "cell_type": "code",
   "execution_count": null,
   "metadata": {
    "jupyter": {
     "source_hidden": true
    }
   },
   "outputs": [],
   "source": []
  }
 ],
 "metadata": {
  "celltoolbar": "Slideshow",
  "kernelspec": {
   "display_name": "Python 3",
   "language": "python",
   "name": "python3"
  },
  "language_info": {
   "codemirror_mode": {
    "name": "ipython",
    "version": 3
   },
   "file_extension": ".py",
   "mimetype": "text/x-python",
   "name": "python",
   "nbconvert_exporter": "python",
   "pygments_lexer": "ipython3",
   "version": "3.7.7"
  }
 },
 "nbformat": 4,
 "nbformat_minor": 4
}
