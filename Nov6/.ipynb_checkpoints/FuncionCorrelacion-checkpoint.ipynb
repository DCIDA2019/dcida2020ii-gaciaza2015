{
 "cells": [
  {
   "cell_type": "markdown",
   "metadata": {},
   "source": [
    "## Función de correlación"
   ]
  },
  {
   "cell_type": "code",
   "execution_count": 21,
   "metadata": {},
   "outputs": [],
   "source": [
    "import os\n",
    "import numpy as np"
   ]
  },
  {
   "cell_type": "markdown",
   "metadata": {},
   "source": [
    "### Se crearán dos cubos de largo $l$, cada uno con $n$ elementos aleatorios."
   ]
  },
  {
   "cell_type": "code",
   "execution_count": 31,
   "metadata": {},
   "outputs": [],
   "source": [
    "l = 1            #Largo del cubo\n",
    "n = 5            #número de partículas\n",
    "dim = 3          #dimensiones\n",
    "r = 0.5\n",
    "dr = 0.3"
   ]
  },
  {
   "cell_type": "code",
   "execution_count": 36,
   "metadata": {},
   "outputs": [],
   "source": [
    "a,b = np.zeros((n,dim)),np.zeros((n,dim))\n",
    "for i in range(n):\n",
    "    a[i] = np.random.uniform(0,l,dim)\n",
    "    b[i] = np.random.uniform(0,l,dim)"
   ]
  },
  {
   "cell_type": "code",
   "execution_count": 13,
   "metadata": {},
   "outputs": [],
   "source": [
    "def correlation(dd,rr):\n",
    "    ki,kj=0,0\n",
    "    c = r+dr\n",
    "    for i in range(n-1):\n",
    "        for j in range(i+1,n):\n",
    "            if r<np.linalg.norm(dd[i]-dd[j])<c:\n",
    "                ki+=1\n",
    "            if r<np.linalg.norm(rr[i]-rr[j])<c:\n",
    "                kj+=1\n",
    "    #kk = ki+kj\n",
    "    #for i in range(n):\n",
    "        #for j in range(n):\n",
    "            #if r<np.linalg.norm(dd[i]-rr[j])<c:\n",
    "               # kk+=1\n",
    "    return (ki/kj)-1                #(ki-2*kk+kj)/kj"
   ]
  },
  {
   "cell_type": "code",
   "execution_count": 37,
   "metadata": {},
   "outputs": [
    {
     "name": "stdout",
     "output_type": "stream",
     "text": [
      "Wall time: 997 µs\n"
     ]
    },
    {
     "data": {
      "text/plain": [
       "0.0"
      ]
     },
     "execution_count": 37,
     "metadata": {},
     "output_type": "execute_result"
    }
   ],
   "source": [
    "%%time\n",
    "correlation(a,b)"
   ]
  },
  {
   "cell_type": "code",
   "execution_count": null,
   "metadata": {},
   "outputs": [],
   "source": [
    "print()"
   ]
  }
 ],
 "metadata": {
  "kernelspec": {
   "display_name": "Python 3",
   "language": "python",
   "name": "python3"
  },
  "language_info": {
   "codemirror_mode": {
    "name": "ipython",
    "version": 3
   },
   "file_extension": ".py",
   "mimetype": "text/x-python",
   "name": "python",
   "nbconvert_exporter": "python",
   "pygments_lexer": "ipython3",
   "version": "3.6.5"
  }
 },
 "nbformat": 4,
 "nbformat_minor": 2
}
