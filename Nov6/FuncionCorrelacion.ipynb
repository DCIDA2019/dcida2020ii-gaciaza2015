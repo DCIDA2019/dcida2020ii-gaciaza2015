{
 "cells": [
  {
   "cell_type": "markdown",
   "metadata": {},
   "source": [
    "## Función de correlación"
   ]
  },
  {
   "cell_type": "code",
   "execution_count": 1,
   "metadata": {},
   "outputs": [],
   "source": [
    "import os\n",
    "import numpy as np\n",
    "from tqdm.notebook import tqdm as tqdm"
   ]
  },
  {
   "cell_type": "markdown",
   "metadata": {},
   "source": [
    "### Se crearán dos cubos de largo $l$, cada uno con $n$ elementos aleatorios."
   ]
  },
  {
   "cell_type": "code",
   "execution_count": 2,
   "metadata": {},
   "outputs": [],
   "source": [
    "l = 1            #Largo del cubo\n",
    "n = 500          #número de partículas\n",
    "dim = 3          #dimensiones\n",
    "r = 0.3\n",
    "dr = 0.2"
   ]
  },
  {
   "cell_type": "code",
   "execution_count": 3,
   "metadata": {},
   "outputs": [],
   "source": [
    "a = np.random.uniform(0,l,(n,dim))\n",
    "b = np.random.uniform(0,l,(n,dim))"
   ]
  },
  {
   "cell_type": "code",
   "execution_count": 4,
   "metadata": {},
   "outputs": [],
   "source": [
    "def correlation(dd,rr):\n",
    "    ki,kj=0,0\n",
    "    c = r+dr\n",
    "    for i in tqdm(range(n-1)):\n",
    "        for j in range(i+1,n):\n",
    "            if r<np.linalg.norm(dd[i]-dd[j])<c:\n",
    "                ki+=1\n",
    "            if r<np.linalg.norm(rr[i]-rr[j])<c:\n",
    "                kj+=1\n",
    "    #kk = ki+kj\n",
    "    #for i in range(n):\n",
    "        #for j in range(n):\n",
    "            #if r<np.linalg.norm(dd[i]-rr[j])<c:\n",
    "               # kk+=1\n",
    "    return (ki/kj)-1                #(ki-2*kk+kj)/kj"
   ]
  },
  {
   "cell_type": "code",
   "execution_count": 5,
   "metadata": {},
   "outputs": [
    {
     "data": {
      "application/vnd.jupyter.widget-view+json": {
       "model_id": "6234314ce1cb4c228ce3b761045afdbd",
       "version_major": 2,
       "version_minor": 0
      },
      "text/plain": [
       "HBox(children=(HTML(value=''), FloatProgress(value=0.0, max=499.0), HTML(value='')))"
      ]
     },
     "metadata": {},
     "output_type": "display_data"
    },
    {
     "name": "stdout",
     "output_type": "stream",
     "text": [
      "\n",
      "Wall time: 3.34 s\n"
     ]
    },
    {
     "data": {
      "text/plain": [
       "-0.008933384674624567"
      ]
     },
     "execution_count": 5,
     "metadata": {},
     "output_type": "execute_result"
    }
   ],
   "source": [
    "%%time\n",
    "correlation(a,b)"
   ]
  },
  {
   "cell_type": "code",
   "execution_count": null,
   "metadata": {},
   "outputs": [],
   "source": [
    "print()"
   ]
  }
 ],
 "metadata": {
  "kernelspec": {
   "display_name": "Python 3",
   "language": "python",
   "name": "python3"
  },
  "language_info": {
   "codemirror_mode": {
    "name": "ipython",
    "version": 3
   },
   "file_extension": ".py",
   "mimetype": "text/x-python",
   "name": "python",
   "nbconvert_exporter": "python",
   "pygments_lexer": "ipython3",
   "version": "3.6.5"
  }
 },
 "nbformat": 4,
 "nbformat_minor": 2
}
