{
 "cells": [
  {
   "cell_type": "markdown",
   "metadata": {},
   "source": [
    "## 1- Derive Bayes theorem from $p(x,y)=p(y,x)$"
   ]
  },
  {
   "cell_type": "markdown",
   "metadata": {},
   "source": [
    "### Sabemos que $p(x|y) = \\frac{p(x, y)}{p(y)}$ y $p(y|x) = \\frac{p(y, x)}{p(x)}$\n",
    "### y como $p(x,y)=p(y,x)$, entonces $p(x|y)p(y) = p(y|x)p(x)$\n",
    "### Despejando entonces $\\boxed{p(x|y) = \\frac{p(y|x)p(x)}{p(y)}}$"
   ]
  },
  {
   "cell_type": "markdown",
   "metadata": {},
   "source": [
    "## 2- Hay 3 puertas. Detrás de una hay un premio. Supongamos que eliges la puerta 2. Chabelo abre la puerta 1 y allí no hay un premio. ¿Te quedas con tu elección original o cambias a la puerta 3? \n",
    "### Argumenta tu respuesta usando el Teorema de Bayes"
   ]
  },
  {
   "cell_type": "markdown",
   "metadata": {},
   "source": [
    "## Llamemos aquí a las puertas 1,2 y 3 por facilidad. Existen varios escenarios aquí. Es claro que elegir la puerta ganadora tiene una probabilidad de 1/3.\n",
    "## Pero una vez que el participante elige una puerta Chabelo abre la puerta una puerta sin premio (Evento D, asumamos que abre puerta 2), las cosas cambian. El evento E es que el premio esté en alguna puerta en especial, asumamos también que primero se elige la puerta 1. Notemos que: $P(D = 2|E = 1) = \\frac{1}{2}$, $P(D = 2|E = 2) = 0$ y $P(D = 2|E = 3) = 1$\n",
    "## Queremos calcular $P(E = 3|D = 2)$ y $P(E = 1|D = 2)$ para saber qué opción nos conviene más, calculemos la primera, recordemos que nosotros elegimos 1 primero.\n",
    "## $P(E = 3|D = 2) = \\frac{P(D = 2|E = 3)P(E = 3)}{P(D = 2)} = \\frac{P(D = 2|E = 3)P(E = 3)}{\\sum_i^3 P(D = 2|E = i)P(E = i)}$\n",
    "## $P(E = 3|D = 2) = \\frac{1\\frac{1}{3}}{\\frac{1}{2}\\frac{1}{3} + 0\\frac{1}{3} + 1\\frac{1}{3}} = \\frac{2}{3}$\n",
    "## Por tanto, $P(E = 1|D = 2) = \\frac{1}{3}$, ya que la suma de las probabilidades de estos dos eventos debe ser 1.\n",
    "## Entonces, es claro que dado que chabelo abrirá una puerta donde no hay premio, se tiene el doble de probabilidad de ganar el premio si se cambia de puerta a que si te quedas con la primera puerta que elegiste."
   ]
  },
  {
   "cell_type": "code",
   "execution_count": null,
   "metadata": {},
   "outputs": [],
   "source": []
  }
 ],
 "metadata": {
  "kernelspec": {
   "display_name": "Python 3",
   "language": "python",
   "name": "python3"
  },
  "language_info": {
   "codemirror_mode": {
    "name": "ipython",
    "version": 3
   },
   "file_extension": ".py",
   "mimetype": "text/x-python",
   "name": "python",
   "nbconvert_exporter": "python",
   "pygments_lexer": "ipython3",
   "version": "3.6.5"
  }
 },
 "nbformat": 4,
 "nbformat_minor": 2
}
