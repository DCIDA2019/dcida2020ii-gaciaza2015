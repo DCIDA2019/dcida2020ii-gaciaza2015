{
 "cells": [
  {
   "cell_type": "code",
   "execution_count": 1,
   "metadata": {},
   "outputs": [],
   "source": [
    "import os\n",
    "import numpy as np\n",
    "%matplotlib inline\n",
    "%config InlineBackend.figure_format = 'svg'\n",
    "import matplotlib.pyplot as plt"
   ]
  },
  {
   "cell_type": "markdown",
   "metadata": {},
   "source": [
    "## Demostraremos que la razón entre el el volumen de una hiperesfera y un hipercubo, siendo el largo del hipercubo 2 veces el radio de la hiperesfera y estando esta centrada dentro del hipercubo, tiende a cero cuando las dimensiones para las que están definidas estas figuras van tendiendo a infinito en un espacio euclidiano.\n",
    "## Para ello partiremos de la definición del volumen de una hiperesfera y el de un hipercubo, siendo el de éste último símplemente $l^n$, siendo n el número de dimensiones, mientras que el de la esfera es:\n",
    "## $V_{hesf} = \\frac{\\pi^{n/2}R^n}{\\Gamma(n/2+1)}$ siendo R el radio y $\\Gamma$ la función Gamma.\n",
    "## Entonces nuestra razón entre volúmenes $r_v$ va a estar dada por:\n",
    "## $r_v = \\frac{\\pi^{n/2}R^n}{\\Gamma(n/2+1)l^n} = \\frac{\\sqrt{\\pi}R}{\\Gamma(n/2+1)l}$\n",
    "## Ahora tomamos el límite de n a infinito:\n",
    "## $\\lim_{n \\to \\infty} r_v = \\frac{\\sqrt{\\pi}R}{\\Gamma(\\infty/2+1)l} = \\frac{\\sqrt{\\pi}R}{\\Gamma(\\infty)l}$\n",
    "## Ahora, como sabemos que la función gamma está dada para calcular factoriales, entonces $\\Gamma(\\infty) = (\\infty-1)! = \\infty! = \\infty$.\n",
    "## Por lo que:\n",
    "## $\\lim_{n \\to \\infty} r_v = \\frac{\\sqrt{\\pi}R}{\\infty l} = 0$\n",
    "## Ya demostrado haremos una prueba no analítica con ayuda de python para ver que numéricamente esta razón se aproxima a cero."
   ]
  },
  {
   "cell_type": "code",
   "execution_count": 2,
   "metadata": {},
   "outputs": [],
   "source": [
    "n = 2000\n",
    "l = 1"
   ]
  },
  {
   "cell_type": "code",
   "execution_count": 3,
   "metadata": {},
   "outputs": [],
   "source": [
    "def func(di):\n",
    "    v = np.random.uniform(-l,l,[n,di])\n",
    "    k = 0\n",
    "    for i in range(n):\n",
    "        if np.linalg.norm(v[i])<=l: \n",
    "            k+=1\n",
    "    return k/n"
   ]
  },
  {
   "cell_type": "code",
   "execution_count": 4,
   "metadata": {},
   "outputs": [
    {
     "name": "stdout",
     "output_type": "stream",
     "text": [
      "0.7815 0.526 0.163 0.065 0.039 0.0\n"
     ]
    }
   ],
   "source": [
    "print(func(2),func(3),func(5),func(6),func(7), func(12))"
   ]
  },
  {
   "cell_type": "markdown",
   "metadata": {},
   "source": [
    "## Realizando un montecarlo sobre los volúmenes de las figuras vemos que entre más grande sea el valor de las dimensiones con el que llamamos a la función se va aproximando a cero, dando para 2000 puntos aleatorios ya cero con doce dimensiones."
   ]
  },
  {
   "cell_type": "code",
   "execution_count": null,
   "metadata": {},
   "outputs": [],
   "source": []
  }
 ],
 "metadata": {
  "kernelspec": {
   "display_name": "Python 3",
   "language": "python",
   "name": "python3"
  },
  "language_info": {
   "codemirror_mode": {
    "name": "ipython",
    "version": 3
   },
   "file_extension": ".py",
   "mimetype": "text/x-python",
   "name": "python",
   "nbconvert_exporter": "python",
   "pygments_lexer": "ipython3",
   "version": "3.6.5"
  }
 },
 "nbformat": 4,
 "nbformat_minor": 2
}
